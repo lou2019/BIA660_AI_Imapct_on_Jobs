{
  "nbformat": 4,
  "nbformat_minor": 0,
  "metadata": {
    "kernelspec": {
      "name": "python3",
      "display_name": "Python 3"
    },
    "language_info": {
      "codemirror_mode": {
        "name": "ipython",
        "version": 3
      },
      "file_extension": ".py",
      "mimetype": "text/x-python",
      "name": "python",
      "nbconvert_exporter": "python",
      "pygments_lexer": "ipython3",
      "version": "3.6.8"
    },
    "colab": {
      "name": "ABAE - self - combination - final - py36-gpu-V7.ipynb",
      "provenance": [],
      "toc_visible": true
    },
    "accelerator": "GPU"
  },
  "cells": [
    {
      "cell_type": "code",
      "metadata": {
        "id": "Mad24cECRKVd",
        "colab_type": "code",
        "outputId": "b22397e8-2baa-4f5d-b702-f3c3dbc7fd28",
        "colab": {
          "base_uri": "https://localhost:8080/",
          "height": 122
        }
      },
      "source": [
        "from google.colab import drive\n",
        "drive.mount('/content/drive')"
      ],
      "execution_count": 0,
      "outputs": [
        {
          "output_type": "stream",
          "text": [
            "Go to this URL in a browser: https://accounts.google.com/o/oauth2/auth?client_id=947318989803-6bn6qk8qdgf4n4g3pfee6491hc0brc4i.apps.googleusercontent.com&redirect_uri=urn%3aietf%3awg%3aoauth%3a2.0%3aoob&response_type=code&scope=email%20https%3a%2f%2fwww.googleapis.com%2fauth%2fdocs.test%20https%3a%2f%2fwww.googleapis.com%2fauth%2fdrive%20https%3a%2f%2fwww.googleapis.com%2fauth%2fdrive.photos.readonly%20https%3a%2f%2fwww.googleapis.com%2fauth%2fpeopleapi.readonly\n",
            "\n",
            "Enter your authorization code:\n",
            "··········\n",
            "Mounted at /content/drive\n"
          ],
          "name": "stdout"
        }
      ]
    },
    {
      "cell_type": "code",
      "metadata": {
        "id": "jAYk0WMHTbEV",
        "colab_type": "code",
        "outputId": "fffa1de3-fbeb-4ae2-a512-a313c8ef1131",
        "colab": {
          "base_uri": "https://localhost:8080/",
          "height": 1000
        }
      },
      "source": [
        "import nltk\n",
        "nltk.download()"
      ],
      "execution_count": 0,
      "outputs": [
        {
          "output_type": "stream",
          "text": [
            "NLTK Downloader\n",
            "---------------------------------------------------------------------------\n",
            "    d) Download   l) List    u) Update   c) Config   h) Help   q) Quit\n",
            "---------------------------------------------------------------------------\n",
            "Downloader> d\n",
            "\n",
            "Download which package (l=list; x=cancel)?\n",
            "  Identifier> all\n",
            "    Downloading collection 'all'\n",
            "       | \n",
            "       | Downloading package abc to /root/nltk_data...\n",
            "       |   Unzipping corpora/abc.zip.\n",
            "       | Downloading package alpino to /root/nltk_data...\n",
            "       |   Unzipping corpora/alpino.zip.\n",
            "       | Downloading package biocreative_ppi to /root/nltk_data...\n",
            "       |   Unzipping corpora/biocreative_ppi.zip.\n",
            "       | Downloading package brown to /root/nltk_data...\n",
            "       |   Unzipping corpora/brown.zip.\n",
            "       | Downloading package brown_tei to /root/nltk_data...\n",
            "       |   Unzipping corpora/brown_tei.zip.\n",
            "       | Downloading package cess_cat to /root/nltk_data...\n",
            "       |   Unzipping corpora/cess_cat.zip.\n",
            "       | Downloading package cess_esp to /root/nltk_data...\n",
            "       |   Unzipping corpora/cess_esp.zip.\n",
            "       | Downloading package chat80 to /root/nltk_data...\n",
            "       |   Unzipping corpora/chat80.zip.\n",
            "       | Downloading package city_database to /root/nltk_data...\n",
            "       |   Unzipping corpora/city_database.zip.\n",
            "       | Downloading package cmudict to /root/nltk_data...\n",
            "       |   Unzipping corpora/cmudict.zip.\n",
            "       | Downloading package comparative_sentences to\n",
            "       |     /root/nltk_data...\n",
            "       |   Unzipping corpora/comparative_sentences.zip.\n",
            "       | Downloading package comtrans to /root/nltk_data...\n",
            "       | Downloading package conll2000 to /root/nltk_data...\n",
            "       |   Unzipping corpora/conll2000.zip.\n",
            "       | Downloading package conll2002 to /root/nltk_data...\n",
            "       |   Unzipping corpora/conll2002.zip.\n",
            "       | Downloading package conll2007 to /root/nltk_data...\n",
            "       | Downloading package crubadan to /root/nltk_data...\n",
            "       |   Unzipping corpora/crubadan.zip.\n",
            "       | Downloading package dependency_treebank to /root/nltk_data...\n",
            "       |   Unzipping corpora/dependency_treebank.zip.\n",
            "       | Downloading package dolch to /root/nltk_data...\n",
            "       |   Unzipping corpora/dolch.zip.\n",
            "       | Downloading package europarl_raw to /root/nltk_data...\n",
            "       |   Unzipping corpora/europarl_raw.zip.\n",
            "       | Downloading package floresta to /root/nltk_data...\n",
            "       |   Unzipping corpora/floresta.zip.\n",
            "       | Downloading package framenet_v15 to /root/nltk_data...\n",
            "       |   Unzipping corpora/framenet_v15.zip.\n",
            "       | Downloading package framenet_v17 to /root/nltk_data...\n",
            "       |   Unzipping corpora/framenet_v17.zip.\n",
            "       | Downloading package gazetteers to /root/nltk_data...\n",
            "       |   Unzipping corpora/gazetteers.zip.\n",
            "       | Downloading package genesis to /root/nltk_data...\n",
            "       |   Unzipping corpora/genesis.zip.\n",
            "       | Downloading package gutenberg to /root/nltk_data...\n",
            "       |   Unzipping corpora/gutenberg.zip.\n",
            "       | Downloading package ieer to /root/nltk_data...\n",
            "       |   Unzipping corpora/ieer.zip.\n",
            "       | Downloading package inaugural to /root/nltk_data...\n",
            "       |   Unzipping corpora/inaugural.zip.\n",
            "       | Downloading package indian to /root/nltk_data...\n",
            "       |   Unzipping corpora/indian.zip.\n",
            "       | Downloading package jeita to /root/nltk_data...\n",
            "       | Downloading package kimmo to /root/nltk_data...\n",
            "       |   Unzipping corpora/kimmo.zip.\n",
            "       | Downloading package knbc to /root/nltk_data...\n",
            "       | Downloading package lin_thesaurus to /root/nltk_data...\n",
            "       |   Unzipping corpora/lin_thesaurus.zip.\n",
            "       | Downloading package mac_morpho to /root/nltk_data...\n",
            "       |   Unzipping corpora/mac_morpho.zip.\n",
            "       | Downloading package machado to /root/nltk_data...\n",
            "       | Downloading package masc_tagged to /root/nltk_data...\n",
            "       | Downloading package moses_sample to /root/nltk_data...\n",
            "       |   Unzipping models/moses_sample.zip.\n",
            "       | Downloading package movie_reviews to /root/nltk_data...\n",
            "       |   Unzipping corpora/movie_reviews.zip.\n",
            "       | Downloading package names to /root/nltk_data...\n",
            "       |   Unzipping corpora/names.zip.\n",
            "       | Downloading package nombank.1.0 to /root/nltk_data...\n",
            "       | Downloading package nps_chat to /root/nltk_data...\n",
            "       |   Unzipping corpora/nps_chat.zip.\n",
            "       | Downloading package omw to /root/nltk_data...\n",
            "       |   Unzipping corpora/omw.zip.\n",
            "       | Downloading package opinion_lexicon to /root/nltk_data...\n",
            "       |   Unzipping corpora/opinion_lexicon.zip.\n",
            "       | Downloading package paradigms to /root/nltk_data...\n",
            "       |   Unzipping corpora/paradigms.zip.\n",
            "       | Downloading package pil to /root/nltk_data...\n",
            "       |   Unzipping corpora/pil.zip.\n",
            "       | Downloading package pl196x to /root/nltk_data...\n",
            "       |   Unzipping corpora/pl196x.zip.\n",
            "       | Downloading package ppattach to /root/nltk_data...\n",
            "       |   Unzipping corpora/ppattach.zip.\n",
            "       | Downloading package problem_reports to /root/nltk_data...\n",
            "       |   Unzipping corpora/problem_reports.zip.\n",
            "       | Downloading package propbank to /root/nltk_data...\n",
            "       | Downloading package ptb to /root/nltk_data...\n",
            "       |   Unzipping corpora/ptb.zip.\n",
            "       | Downloading package product_reviews_1 to /root/nltk_data...\n",
            "       |   Unzipping corpora/product_reviews_1.zip.\n",
            "       | Downloading package product_reviews_2 to /root/nltk_data...\n",
            "       |   Unzipping corpora/product_reviews_2.zip.\n",
            "       | Downloading package pros_cons to /root/nltk_data...\n",
            "       |   Unzipping corpora/pros_cons.zip.\n",
            "       | Downloading package qc to /root/nltk_data...\n",
            "       |   Unzipping corpora/qc.zip.\n",
            "       | Downloading package reuters to /root/nltk_data...\n",
            "       | Downloading package rte to /root/nltk_data...\n",
            "       |   Unzipping corpora/rte.zip.\n",
            "       | Downloading package semcor to /root/nltk_data...\n",
            "       | Downloading package senseval to /root/nltk_data...\n",
            "       |   Unzipping corpora/senseval.zip.\n",
            "       | Downloading package sentiwordnet to /root/nltk_data...\n",
            "       |   Unzipping corpora/sentiwordnet.zip.\n",
            "       | Downloading package sentence_polarity to /root/nltk_data...\n",
            "       |   Unzipping corpora/sentence_polarity.zip.\n",
            "       | Downloading package shakespeare to /root/nltk_data...\n",
            "       |   Unzipping corpora/shakespeare.zip.\n",
            "       | Downloading package sinica_treebank to /root/nltk_data...\n",
            "       |   Unzipping corpora/sinica_treebank.zip.\n",
            "       | Downloading package smultron to /root/nltk_data...\n",
            "       |   Unzipping corpora/smultron.zip.\n",
            "       | Downloading package state_union to /root/nltk_data...\n",
            "       |   Unzipping corpora/state_union.zip.\n",
            "       | Downloading package stopwords to /root/nltk_data...\n",
            "       |   Unzipping corpora/stopwords.zip.\n",
            "       | Downloading package subjectivity to /root/nltk_data...\n",
            "       |   Unzipping corpora/subjectivity.zip.\n",
            "       | Downloading package swadesh to /root/nltk_data...\n",
            "       |   Unzipping corpora/swadesh.zip.\n",
            "       | Downloading package switchboard to /root/nltk_data...\n",
            "       |   Unzipping corpora/switchboard.zip.\n",
            "       | Downloading package timit to /root/nltk_data...\n",
            "       |   Unzipping corpora/timit.zip.\n",
            "       | Downloading package toolbox to /root/nltk_data...\n",
            "       |   Unzipping corpora/toolbox.zip.\n",
            "       | Downloading package treebank to /root/nltk_data...\n",
            "       |   Unzipping corpora/treebank.zip.\n",
            "       | Downloading package twitter_samples to /root/nltk_data...\n",
            "       |   Unzipping corpora/twitter_samples.zip.\n",
            "       | Downloading package udhr to /root/nltk_data...\n",
            "       |   Unzipping corpora/udhr.zip.\n",
            "       | Downloading package udhr2 to /root/nltk_data...\n",
            "       |   Unzipping corpora/udhr2.zip.\n",
            "       | Downloading package unicode_samples to /root/nltk_data...\n",
            "       |   Unzipping corpora/unicode_samples.zip.\n",
            "       | Downloading package universal_treebanks_v20 to\n",
            "       |     /root/nltk_data...\n",
            "       | Downloading package verbnet to /root/nltk_data...\n",
            "       |   Unzipping corpora/verbnet.zip.\n",
            "       | Downloading package verbnet3 to /root/nltk_data...\n",
            "       |   Unzipping corpora/verbnet3.zip.\n",
            "       | Downloading package webtext to /root/nltk_data...\n",
            "       |   Unzipping corpora/webtext.zip.\n",
            "       | Downloading package wordnet to /root/nltk_data...\n",
            "       |   Unzipping corpora/wordnet.zip.\n",
            "       | Downloading package wordnet_ic to /root/nltk_data...\n",
            "       |   Unzipping corpora/wordnet_ic.zip.\n",
            "       | Downloading package words to /root/nltk_data...\n",
            "       |   Unzipping corpora/words.zip.\n",
            "       | Downloading package ycoe to /root/nltk_data...\n",
            "       |   Unzipping corpora/ycoe.zip.\n",
            "       | Downloading package rslp to /root/nltk_data...\n",
            "       |   Unzipping stemmers/rslp.zip.\n",
            "       | Downloading package maxent_treebank_pos_tagger to\n",
            "       |     /root/nltk_data...\n",
            "       |   Unzipping taggers/maxent_treebank_pos_tagger.zip.\n",
            "       | Downloading package universal_tagset to /root/nltk_data...\n",
            "       |   Unzipping taggers/universal_tagset.zip.\n",
            "       | Downloading package maxent_ne_chunker to /root/nltk_data...\n",
            "       |   Unzipping chunkers/maxent_ne_chunker.zip.\n",
            "       | Downloading package punkt to /root/nltk_data...\n",
            "       |   Unzipping tokenizers/punkt.zip.\n",
            "       | Downloading package book_grammars to /root/nltk_data...\n",
            "       |   Unzipping grammars/book_grammars.zip.\n",
            "       | Downloading package sample_grammars to /root/nltk_data...\n",
            "       |   Unzipping grammars/sample_grammars.zip.\n",
            "       | Downloading package spanish_grammars to /root/nltk_data...\n",
            "       |   Unzipping grammars/spanish_grammars.zip.\n",
            "       | Downloading package basque_grammars to /root/nltk_data...\n",
            "       |   Unzipping grammars/basque_grammars.zip.\n",
            "       | Downloading package large_grammars to /root/nltk_data...\n",
            "       |   Unzipping grammars/large_grammars.zip.\n",
            "       | Downloading package tagsets to /root/nltk_data...\n",
            "       |   Unzipping help/tagsets.zip.\n",
            "       | Downloading package snowball_data to /root/nltk_data...\n",
            "       | Downloading package bllip_wsj_no_aux to /root/nltk_data...\n",
            "       |   Unzipping models/bllip_wsj_no_aux.zip.\n",
            "       | Downloading package word2vec_sample to /root/nltk_data...\n",
            "       |   Unzipping models/word2vec_sample.zip.\n",
            "       | Downloading package panlex_swadesh to /root/nltk_data...\n",
            "       | Downloading package mte_teip5 to /root/nltk_data...\n",
            "       |   Unzipping corpora/mte_teip5.zip.\n",
            "       | Downloading package averaged_perceptron_tagger to\n",
            "       |     /root/nltk_data...\n",
            "       |   Unzipping taggers/averaged_perceptron_tagger.zip.\n",
            "       | Downloading package averaged_perceptron_tagger_ru to\n",
            "       |     /root/nltk_data...\n",
            "       |   Unzipping taggers/averaged_perceptron_tagger_ru.zip.\n",
            "       | Downloading package perluniprops to /root/nltk_data...\n",
            "       |   Unzipping misc/perluniprops.zip.\n",
            "       | Downloading package nonbreaking_prefixes to\n",
            "       |     /root/nltk_data...\n",
            "       |   Unzipping corpora/nonbreaking_prefixes.zip.\n",
            "       | Downloading package vader_lexicon to /root/nltk_data...\n",
            "       | Downloading package porter_test to /root/nltk_data...\n",
            "       |   Unzipping stemmers/porter_test.zip.\n",
            "       | Downloading package wmt15_eval to /root/nltk_data...\n",
            "       |   Unzipping models/wmt15_eval.zip.\n",
            "       | Downloading package mwa_ppdb to /root/nltk_data...\n",
            "       |   Unzipping misc/mwa_ppdb.zip.\n",
            "       | \n",
            "     Done downloading collection all\n",
            "\n",
            "---------------------------------------------------------------------------\n",
            "    d) Download   l) List    u) Update   c) Config   h) Help   q) Quit\n",
            "---------------------------------------------------------------------------\n",
            "Downloader> q\n"
          ],
          "name": "stdout"
        },
        {
          "output_type": "execute_result",
          "data": {
            "text/plain": [
              "True"
            ]
          },
          "metadata": {
            "tags": []
          },
          "execution_count": 2
        }
      ]
    },
    {
      "cell_type": "code",
      "metadata": {
        "id": "JfJoSlVkQ8Nc",
        "colab_type": "code",
        "outputId": "5bbfe694-6d8d-4fb5-c78e-b5f0df6ddd61",
        "colab": {
          "base_uri": "https://localhost:8080/",
          "height": 68
        }
      },
      "source": [
        "\n",
        "!python /content/drive/My\\ Drive/Attention-Based-Aspect-Extraction-master/code/preprocess.py \n",
        "\n",
        "!python /content/drive/My\\ Drive/Attention-Based-Aspect-Extraction-master/code/word2vec.py \n"
      ],
      "execution_count": 0,
      "outputs": [
        {
          "output_type": "stream",
          "text": [
            "\trestaurant train set ...\n",
            "\trestaurant test set ...\n",
            "Pre-training word embeddings ...\n"
          ],
          "name": "stdout"
        }
      ]
    },
    {
      "cell_type": "code",
      "metadata": {
        "id": "B3TMHnYHQ8Ni",
        "colab_type": "code",
        "outputId": "75df407c-a964-40fb-ffdb-4bff11ae4584",
        "colab": {
          "base_uri": "https://localhost:8080/",
          "height": 34
        }
      },
      "source": [
        "f = open(\"/content/drive/My Drive/Attention-Based-Aspect-Extraction-master/datasets/restaurant/train.txt\",encoding = 'utf-8')\n",
        "len(f.read())"
      ],
      "execution_count": 0,
      "outputs": [
        {
          "output_type": "execute_result",
          "data": {
            "text/plain": [
              "235446"
            ]
          },
          "metadata": {
            "tags": []
          },
          "execution_count": 3
        }
      ]
    },
    {
      "cell_type": "code",
      "metadata": {
        "id": "EZLaC9__Q8Nl",
        "colab_type": "code",
        "outputId": "e8b1efe5-9bc5-4bd8-82ff-9de6a370a9b8",
        "colab": {
          "base_uri": "https://localhost:8080/",
          "height": 105
        }
      },
      "source": [
        "!pip install pymorphy2\n",
        "#!pip uninstall tensorflow\n",
        "#!pip install tensorflow-gpu\n",
        "#!pip uninstall keras\n",
        "#!pip uninstall tensorflow-gpu\n",
        "#!pip install tensorflow-gpu\n",
        "#!pip install keras==2.3\n",
        "\n",
        "import sys\n",
        "import re\n",
        "import pymorphy2\n",
        "import os\n",
        "import numpy as np\n",
        "import logging\n",
        "import keras.backend as K\n",
        "import json\n",
        "import gensim\n",
        "import errno\n",
        "import codecs\n",
        "import argparse\n",
        "\n",
        "import pandas as pd\n",
        "from tqdm import tqdm\n",
        "from time import time\n",
        "from sklearn.feature_extraction.text import CountVectorizer\n",
        "from sklearn.cluster import KMeans\n",
        "from nltk.stem.wordnet import WordNetLemmatizer\n",
        "from nltk.corpus import stopwords\n",
        "from keras.preprocessing import sequence\n",
        "from keras.models import Model\n",
        "from keras.layers import Dense, Activation, Embedding, Input\n",
        "from keras.engine.topology import Layer\n",
        "from keras.constraints import MaxNorm\n",
        "from keras import regularizers\n",
        "from keras import initializers\n",
        "from keras import constraints\n",
        "\n",
        "\n",
        "\n",
        "import reader as dataset \n",
        "import utils2 as U\n",
        "from model import create_model\n",
        "from w2vEmbReader import W2VEmbReader as EmbReader\n",
        "from my_layers import Attention, Average, WeightedSum, WeightedAspectEmb, MaxMargin\n",
        "\n",
        "import keras.optimizers as opt\n",
        "\n",
        "def get_optimizer(args):\n",
        "\tclipvalue = 0\n",
        "\tclipnorm = 10\n",
        "\n",
        "\tif args.algorithm == 'rmsprop':\n",
        "\t\toptimizer = opt.RMSprop(lr=0.001, rho=0.9, epsilon=1e-06, clipnorm=clipnorm, clipvalue=clipvalue)\n",
        "\telif args.algorithm == 'sgd':\n",
        "\t\toptimizer = opt.SGD(lr=0.01, momentum=0.0, decay=0.0, nesterov=False, clipnorm=clipnorm, clipvalue=clipvalue)\n",
        "\telif args.algorithm == 'adagrad':\n",
        "\t\toptimizer = opt.Adagrad(lr=0.01, epsilon=1e-06, clipnorm=clipnorm, clipvalue=clipvalue)\n",
        "\telif args.algorithm == 'adadelta':\n",
        "\t\toptimizer = opt.Adadelta(lr=1.0, rho=0.95, epsilon=1e-06, clipnorm=clipnorm, clipvalue=clipvalue)\n",
        "\telif args.algorithm == 'adam':\n",
        "\t\toptimizer = opt.Adam(lr=0.001, beta_1=0.9, beta_2=0.999, epsilon=1e-08, clipnorm=clipnorm, clipvalue=clipvalue)\n",
        "\telif args.algorithm == 'adamax':\n",
        "\t\toptimizer = opt.Adamax(lr=0.002, beta_1=0.9, beta_2=0.999, epsilon=1e-08, clipnorm=clipnorm, clipvalue=clipvalue)\n",
        "\t\n",
        "\treturn optimizer\n"
      ],
      "execution_count": 0,
      "outputs": [
        {
          "output_type": "stream",
          "text": [
            "Requirement already satisfied: pymorphy2 in /usr/local/lib/python3.6/dist-packages (0.8)\n",
            "Requirement already satisfied: dawg-python>=0.7 in /usr/local/lib/python3.6/dist-packages (from pymorphy2) (0.7.2)\n",
            "Requirement already satisfied: pymorphy2-dicts<3.0,>=2.4 in /usr/local/lib/python3.6/dist-packages (from pymorphy2) (2.4.393442.3710985)\n",
            "Requirement already satisfied: docopt>=0.6 in /usr/local/lib/python3.6/dist-packages (from pymorphy2) (0.6.2)\n"
          ],
          "name": "stdout"
        }
      ]
    },
    {
      "cell_type": "code",
      "metadata": {
        "id": "AdTtmASZIwwv",
        "colab_type": "code",
        "outputId": "7e8f4b84-8c49-41fd-d24b-fe75219e5b55",
        "colab": {
          "base_uri": "https://localhost:8080/",
          "height": 34
        }
      },
      "source": [
        "import tensorflow as tf\n",
        "tf.test.is_gpu_available(\n",
        "    cuda_only=False,\n",
        "    min_cuda_compute_capability=None\n",
        ")"
      ],
      "execution_count": 0,
      "outputs": [
        {
          "output_type": "execute_result",
          "data": {
            "text/plain": [
              "True"
            ]
          },
          "metadata": {
            "tags": []
          },
          "execution_count": 8
        }
      ]
    },
    {
      "cell_type": "code",
      "metadata": {
        "id": "wHOISYj4Q8Nn",
        "colab_type": "code",
        "outputId": "7075ccc8-d41e-4283-9ed4-7b2375d70878",
        "colab": {
          "base_uri": "https://localhost:8080/",
          "height": 309
        }
      },
      "source": [
        "#### training \n",
        "    \n",
        "logging.basicConfig(level=logging.INFO, format='%(asctime)s %(levelname)s %(message)s')\n",
        "logger = logging.getLogger(__name__)\n",
        "\n",
        "test_len = 50000\n",
        "version = 8 \n",
        "trainable = 1  \n",
        "\n",
        "\n",
        "### set parameters\n",
        "parser = U.add_common_args()\n",
        "parser.add_argument(\"-e\", \"--embdim\", dest=\"emb_dim\", type=int, metavar='<int>', default=200,\n",
        "                    help=\"Embeddings dimension (default=200)\")\n",
        "parser.add_argument(\"-as\", \"--aspect-size\", dest=\"aspect_size\", type=int, metavar='<int>', default=30,\n",
        "                    help=\"The number of aspects specified by users (default=14)\") \n",
        "parser.add_argument(\"--emb-name\",  type=str,\n",
        "                    help=\"The name to the word embeddings file\", default=\"sample_w2v_embedding\")\n",
        "parser.add_argument(\"--epochs\", dest=\"epochs\", type=int, metavar='<int>', default=15,\n",
        "                    help=\"Number of epochs (default=15)\")\n",
        "parser.add_argument(\"-n\", \"--neg-size\", dest=\"neg_size\", type=int, metavar='<int>', default=20,\n",
        "                    help=\"Number of negative instances (default=20)\")\n",
        "parser.add_argument(\"--seed\", dest=\"seed\", type=int, metavar='<int>', default=1234,\n",
        "                    help=\"Random seed (default=1234)\")\n",
        "parser.add_argument(\"-a\", \"--algorithm\", dest=\"algorithm\", type=str, metavar='<str>', default='adam',\n",
        "                    help=\"Optimization algorithm (rmsprop|sgd|adagrad|adadelta|adam|adamax) (default=adam)\")\n",
        "parser.add_argument(\"--ortho-reg\", dest=\"ortho_reg\", type=float, metavar='<float>', default=0.1,\n",
        "                    help=\"The weight of orthogonal regularization (default=0.1)\")\n",
        "\n",
        "args = parser.parse_args(args=[\"--aspect-size\",'6','--emb-name','w2v_embedding',\"--domain\",'restaurant',\"--epochs\",'15'])\n",
        "# args = parser.parse_args(args=[])  \n",
        "print(args)\n",
        "\n",
        "out_dir = args.out_dir_path + '/' + args.domain\n",
        "U.mkdir_p(out_dir)\n",
        "U.print_args(args)\n",
        "\n",
        "assert args.algorithm in {'rmsprop', 'sgd', 'adagrad', 'adadelta', 'adam', 'adamax'}\n",
        "# assert args.domain in {'restaurant', 'beer'}\n",
        "\n",
        "if args.seed > 0:\n",
        "  np.random.seed(args.seed)"
      ],
      "execution_count": 0,
      "outputs": [
        {
          "output_type": "stream",
          "text": [
            "2019-12-05 21:17:13,039 INFO Arguments:\n",
            "2019-12-05 21:17:13,040 INFO   algorithm: adam\n",
            "2019-12-05 21:17:13,041 INFO   aspect_size: 6\n",
            "2019-12-05 21:17:13,042 INFO   batch_size: 32\n",
            "2019-12-05 21:17:13,044 INFO   command: /usr/local/lib/python3.6/dist-packages/ipykernel_launcher.py -f /root/.local/share/jupyter/runtime/kernel-bfaf3b35-21f0-4e60-911c-865a2c381336.json\n",
            "2019-12-05 21:17:13,045 INFO   domain: restaurant\n",
            "2019-12-05 21:17:13,046 INFO   emb_dim: 200\n",
            "2019-12-05 21:17:13,047 INFO   emb_name: w2v_embedding\n",
            "2019-12-05 21:17:13,048 INFO   epochs: 15\n",
            "2019-12-05 21:17:13,050 INFO   maxlen: 256\n",
            "2019-12-05 21:17:13,051 INFO   neg_size: 20\n",
            "2019-12-05 21:17:13,053 INFO   ortho_reg: 0.1\n",
            "2019-12-05 21:17:13,054 INFO   out_dir_path: output\n",
            "2019-12-05 21:17:13,055 INFO   seed: 1234\n",
            "2019-12-05 21:17:13,057 INFO   vocab_size: 9000\n"
          ],
          "name": "stderr"
        },
        {
          "output_type": "stream",
          "text": [
            "Namespace(algorithm='adam', aspect_size=6, batch_size=32, domain='restaurant', emb_dim=200, emb_name='w2v_embedding', epochs=15, maxlen=256, neg_size=20, ortho_reg=0.1, out_dir_path='output', seed=1234, vocab_size=9000)\n"
          ],
          "name": "stdout"
        }
      ]
    },
    {
      "cell_type": "code",
      "metadata": {
        "id": "Ym19Q0L1Q8Np",
        "colab_type": "code",
        "outputId": "6ef76dba-0535-476a-beb4-9bf50cd9d855",
        "colab": {
          "base_uri": "https://localhost:8080/",
          "height": 221
        }
      },
      "source": [
        "vocab, train_x, test_x, overall_maxlen = dataset.get_data(args.domain, vocab_size=args.vocab_size, maxlen=args.maxlen) \n",
        "train_x = sequence.pad_sequences(train_x, maxlen=overall_maxlen)\n",
        "test_x = sequence.pad_sequences(test_x, maxlen=overall_maxlen)\n",
        "\n",
        "print('Total Number of training examples: ', len(train_x))\n",
        "\n",
        "train_x = train_x[0:test_len] \n",
        "print('Number of training examples: ', len(train_x))\n",
        "print('Length of vocab: ', len(vocab))"
      ],
      "execution_count": 0,
      "outputs": [
        {
          "output_type": "stream",
          "text": [
            "Reading data from restaurant\n",
            " Creating vocab ...\n",
            "   23707 total words, 2956 unique words\n",
            "  keep the top 9000 words\n",
            " Reading dataset ...\n",
            "  train set\n",
            "   <num> hit rate: 0.00%, <unk> hit rate: 0.00%\n",
            "  test set\n",
            "   <num> hit rate: 0.41%, <unk> hit rate: 56.73%\n",
            "Total Number of training examples:  2603\n",
            "Number of training examples:  2603\n",
            "Length of vocab:  2959\n"
          ],
          "name": "stdout"
        }
      ]
    },
    {
      "cell_type": "code",
      "metadata": {
        "id": "GJCeX05EQ8Nu",
        "colab_type": "code",
        "outputId": "bf50ecdd-1200-4e24-a5d6-ebd9ada33dbc",
        "colab": {
          "base_uri": "https://localhost:8080/",
          "height": 1000
        }
      },
      "source": [
        "# train.py --- \n",
        "\n",
        "###############################################################################################################################\n",
        "def sentence_batch_generator(data, batch_size):\n",
        "    n_batch = len(data) // batch_size\n",
        "    batch_count = 0\n",
        "    np.random.shuffle(data)\n",
        "\n",
        "    while True:\n",
        "        if batch_count == n_batch:\n",
        "            np.random.shuffle(data)\n",
        "            batch_count = 0\n",
        "\n",
        "        batch = data[batch_count * batch_size: (batch_count + 1) * batch_size]\n",
        "        batch_count += 1\n",
        "        yield batch\n",
        "\n",
        "\n",
        "def negative_batch_generator(data, batch_size, neg_size):\n",
        "    data_len = data.shape[0]\n",
        "    dim = data.shape[1]\n",
        "\n",
        "    while True:\n",
        "        indices = np.random.choice(data_len, batch_size * neg_size)\n",
        "        samples = data[indices].reshape(batch_size, neg_size, dim)\n",
        "        yield samples\n",
        "\n",
        "\n",
        "###############################################################################################################################\n",
        "## Optimizaer algorithm\n",
        "optimizer = get_optimizer(args) \n",
        "\n",
        "###############################################################################################################################\n",
        "## Building model\n",
        "\n",
        "\n",
        "\n",
        "logger.info('  Building model')\n",
        "model = create_model(args, overall_maxlen, vocab)\n",
        "# freeze the word embedding layer\n",
        "model.get_layer('word_emb').trainable = bool(trainable)   \n",
        "model.compile(optimizer=optimizer, loss=U.max_margin_loss, metrics=[U.max_margin_loss]) \n",
        "\n",
        "###############################################################################################################################\n",
        "## Training\n",
        "\n",
        "\n",
        "logger.info(\"-\"*80)\n",
        "\n",
        "vocab_inv = {}\n",
        "for w, ind in vocab.items():\n",
        "    vocab_inv[ind] = w\n",
        "\n",
        "sen_gen = sentence_batch_generator(train_x, args.batch_size) \n",
        "neg_gen = negative_batch_generator(train_x, args.batch_size, args.neg_size)\n",
        "batches_per_epoch = len(train_x) // args.batch_size\n",
        "\n",
        "min_loss = float('inf')\n",
        "for ii in range(args.epochs):\n",
        "    t0 = time()\n",
        "    loss, max_margin_loss = 0., 0.\n",
        "\n",
        "    for b in tqdm(range(batches_per_epoch)):\n",
        "        sen_input = next(sen_gen)\n",
        "        neg_input = next(neg_gen)\n",
        "\n",
        "        batch_loss, batch_max_margin_loss = model.train_on_batch([sen_input, neg_input],\n",
        "                                                                 np.ones((args.batch_size, 1))) \n",
        "        loss += batch_loss / batches_per_epoch # loss = loss + batch_loss/batches_per_epoch. \n",
        "        max_margin_loss += batch_max_margin_loss / batches_per_epoch\n",
        "\n",
        "    tr_time = time() - t0 \n",
        "\n",
        "    if loss < min_loss: \n",
        "        min_loss = loss\n",
        "        word_emb = K.get_value(model.get_layer('word_emb').embeddings)\n",
        "        aspect_emb = K.get_value(model.get_layer('aspect_emb').W)\n",
        "        word_emb = word_emb / np.linalg.norm(word_emb, axis=-1, keepdims=True)\n",
        "        aspect_emb = aspect_emb / np.linalg.norm(aspect_emb, axis=-1, keepdims=True)\n",
        "        aspect_file = open(out_dir + '/aspect.log', 'wt', encoding='utf-8')\n",
        "        model.save(out_dir + '/model_param') \n",
        "        \n",
        "         \n",
        "        num = 100\n",
        "        res = pd.DataFrame(np.zeros(2*num).reshape(num,2))\n",
        "        \n",
        "        for ind in range(len(aspect_emb)):\n",
        "#             desc = aspect_emb[ind]\n",
        "#             sims = word_emb.dot(desc.T)\n",
        "#             ordered_words = np.argsort(sims)[::-1]\n",
        "#             desc_list = [vocab_inv[w] + \"|\" + str(sims[w]) for w in ordered_words[:100]]\n",
        "#             print('Aspect %d:' % ind)\n",
        "#             print(desc_list)\n",
        "#             aspect_file.write('Aspect %d:\\n' % ind)\n",
        "#             aspect_file.write(' '.join(desc_list) + '\\n\\n')\n",
        "        \n",
        "            desc = aspect_emb[ind]\n",
        "            sims = word_emb.dot(desc.T)\n",
        "            ordered_words = np.argsort(sims)[::-1]\n",
        "            desc_list = [vocab_inv[w] + \"|\" + str(sims[w]) for w in ordered_words[:num]]\n",
        "            wd = [vocab_inv[w] for w in ordered_words[:num]]\n",
        "            vt = [str(sims[w]) for w in ordered_words[:num]]\n",
        "            asp_1 = pd.DataFrame([wd,vt]).T.rename(columns={0:'aspect_'+str(ind), 1:('aspect_'+str(ind)+'_vec')})\n",
        "            res = pd.concat([res, asp_1], join = 'inner',axis=1)\n",
        "            print('Aspect %d:' % ind)\n",
        "            print(desc_list)\n",
        "            aspect_file.write('Aspect %d:\\n' % ind)\n",
        "            aspect_file.write(' '.join(desc_list) + '\\n\\n')\n",
        "\n",
        "    logger.info('Epoch %d, train: %is' % (ii, tr_time))\n",
        "    logger.info('Total loss: %.4f, max_margin_loss: %.4f, ortho_reg: %.4f' % (loss, max_margin_loss, loss - max_margin_loss))\n",
        "    \n",
        "    res.to_csv('aspect_V'+str(version)+'.csv')"
      ],
      "execution_count": 0,
      "outputs": [
        {
          "output_type": "stream",
          "text": [
            "2019-12-05 21:17:25,047 INFO   Building model\n",
            "2019-12-05 21:17:25,048 INFO Loading embeddings from: /content/drive/My Drive/Attention-Based-Aspect-Extraction-master/preprocessed_data/restaurant/w2v_embedding\n",
            "2019-12-05 21:17:25,049 INFO collecting all words and their counts\n",
            "2019-12-05 21:17:25,052 INFO PROGRESS: at sentence #0, processed 0 words, keeping 0 word types\n",
            "2019-12-05 21:17:25,074 INFO collected 2956 word types from a corpus of 23707 raw words and 2603 sentences\n",
            "2019-12-05 21:17:25,074 INFO Loading a fresh vocabulary\n",
            "2019-12-05 21:17:25,078 INFO effective_min_count=5 retains 751 unique words (25% of original 2956, drops 2205)\n",
            "2019-12-05 21:17:25,078 INFO effective_min_count=5 leaves 20174 word corpus (85% of original 23707, drops 3533)\n",
            "2019-12-05 21:17:25,083 INFO deleting the raw counts dictionary of 2956 items\n",
            "2019-12-05 21:17:25,084 INFO sample=0.001 downsamples 66 most-common words\n",
            "2019-12-05 21:17:25,085 INFO downsampling leaves estimated 14761 word corpus (73.2% of prior 20174)\n",
            "2019-12-05 21:17:25,088 INFO estimated required memory for 751 words and 200 dimensions: 1577100 bytes\n",
            "2019-12-05 21:17:25,089 INFO resetting layer weights\n",
            "2019-12-05 21:17:25,234 INFO training model with 4 workers on 751 vocabulary and 200 features, using sg=0 hs=0 sample=0.001 negative=5 window=10\n",
            "2019-12-05 21:17:25,271 INFO worker thread finished; awaiting finish of 3 more threads\n",
            "2019-12-05 21:17:25,279 INFO worker thread finished; awaiting finish of 2 more threads\n",
            "2019-12-05 21:17:25,282 INFO worker thread finished; awaiting finish of 1 more threads\n",
            "2019-12-05 21:17:25,283 INFO worker thread finished; awaiting finish of 0 more threads\n",
            "2019-12-05 21:17:25,284 INFO EPOCH - 1 : training on 23707 raw words (14654 effective words) took 0.0s, 323171 effective words/s\n",
            "2019-12-05 21:17:25,322 INFO worker thread finished; awaiting finish of 3 more threads\n",
            "2019-12-05 21:17:25,327 INFO worker thread finished; awaiting finish of 2 more threads\n",
            "2019-12-05 21:17:25,328 INFO worker thread finished; awaiting finish of 1 more threads\n",
            "2019-12-05 21:17:25,335 INFO worker thread finished; awaiting finish of 0 more threads\n",
            "2019-12-05 21:17:25,335 INFO EPOCH - 2 : training on 23707 raw words (14767 effective words) took 0.0s, 301708 effective words/s\n",
            "2019-12-05 21:17:25,370 INFO worker thread finished; awaiting finish of 3 more threads\n",
            "2019-12-05 21:17:25,378 INFO worker thread finished; awaiting finish of 2 more threads\n",
            "2019-12-05 21:17:25,383 INFO worker thread finished; awaiting finish of 1 more threads\n",
            "2019-12-05 21:17:25,384 INFO worker thread finished; awaiting finish of 0 more threads\n",
            "2019-12-05 21:17:25,385 INFO EPOCH - 3 : training on 23707 raw words (14771 effective words) took 0.0s, 311782 effective words/s\n",
            "2019-12-05 21:17:25,430 INFO worker thread finished; awaiting finish of 3 more threads\n",
            "2019-12-05 21:17:25,435 INFO worker thread finished; awaiting finish of 2 more threads\n",
            "2019-12-05 21:17:25,440 INFO worker thread finished; awaiting finish of 1 more threads\n",
            "2019-12-05 21:17:25,443 INFO worker thread finished; awaiting finish of 0 more threads\n",
            "2019-12-05 21:17:25,444 INFO EPOCH - 4 : training on 23707 raw words (14754 effective words) took 0.0s, 296715 effective words/s\n",
            "2019-12-05 21:17:25,477 INFO worker thread finished; awaiting finish of 3 more threads\n",
            "2019-12-05 21:17:25,486 INFO worker thread finished; awaiting finish of 2 more threads\n",
            "2019-12-05 21:17:25,489 INFO worker thread finished; awaiting finish of 1 more threads\n",
            "2019-12-05 21:17:25,493 INFO worker thread finished; awaiting finish of 0 more threads\n",
            "2019-12-05 21:17:25,494 INFO EPOCH - 5 : training on 23707 raw words (14762 effective words) took 0.0s, 322616 effective words/s\n",
            "2019-12-05 21:17:25,495 INFO training on a 118535 raw words (73708 effective words) took 0.3s, 284118 effective words/s\n",
            "2019-12-05 21:17:25,496 WARNING under 10 jobs per worker: consider setting a smaller `batch_words' for smoother alpha decay\n",
            "2019-12-05 21:17:25,497 INFO storing 751x200 projection weights into /content/drive/My Drive/Attention-Based-Aspect-Extraction-master/preprocessed_data/restaurant/w2v_embedding\n",
            "/usr/local/lib/python3.6/dist-packages/smart_open/smart_open_lib.py:402: UserWarning: This function is deprecated, use smart_open.open instead. See the migration notes for details: https://github.com/RaRe-Technologies/smart_open/blob/master/README.rst#migrating-to-the-new-open-function\n",
            "  'See the migration notes for details: %s' % _MIGRATION_NOTES_URL\n",
            "2019-12-05 21:17:25,640 INFO   #vectors: 751, #dimensions: 200\n",
            "2019-12-05 21:17:25,965 INFO Initializing word embedding matrix\n",
            "2019-12-05 21:17:26,213 INFO 751/2959 word vectors initialized (hit rate: 25.38%)\n",
            "2019-12-05 21:17:26,307 INFO Initializing aspect embedding matrix as centroid of kmean clusters\n",
            "2019-12-05 21:17:26,419 INFO --------------------------------------------------------------------------------\n",
            "100%|██████████| 81/81 [00:02<00:00, 32.64it/s]\n",
            "2019-12-05 21:17:29,395 INFO Epoch 0, train: 2s\n",
            "2019-12-05 21:17:29,396 INFO Total loss: 21.6016, max_margin_loss: 19.5513, ortho_reg: 2.0503\n",
            "  9%|▊         | 7/81 [00:00<00:01, 64.60it/s]"
          ],
          "name": "stderr"
        },
        {
          "output_type": "stream",
          "text": [
            "Aspect 0:\n",
            "['public|0.6595423', 'local|0.6591587', 'take|0.65543026', 'conduct|0.65355146', 'controlling|0.653331', 'relate|0.65318644', 'delivery|0.65206873', 'think|0.65127414', 'especially|0.6509525', 'personal|0.6503241', 'explain|0.64772314', 'socioeconomic|0.6476651', 'co|0.6476008', 'complete|0.6470668', 'fax|0.64684224', 'order|0.6467292', 'establish|0.64663756', 'typing|0.64663553', 'sign|0.6465471', 'ethnic|0.6461451', 'group|0.646128', 'following|0.645672', 'plus|0.64566934', 'list|0.6453912', 'organized|0.64538395', 'minute|0.6451434', 'handle|0.64509946', 'resolve|0.6449853', 'request|0.6445994', 'machine|0.6445328', 'maintains|0.64434767', 'simultaneously|0.6442688', 'guest|0.64420736', 'integrity|0.644051', 'multiple|0.6439784', 'clearly|0.6438725', 'manager|0.6438634', 'type|0.6437437', 'confidentiality|0.64353085', 'exhibit|0.6432644', 'required|0.6432363', 'sale|0.64306504', 'independently|0.64288026', 'receive|0.6428786', 'initiative|0.64253306', 'location|0.6424154', 'interacting|0.64231646', 'company|0.6421392', 'purpose|0.6419968', 'related|0.6419796', 'telephone|0.6418406', 'objective|0.6416646', 'general|0.6411941', 'clear|0.6411922', 'multitasking|0.6411375', 'badge|0.64110935', 'proven|0.6410253', 'administrative|0.64094377', 'educational|0.64083874', 'accordance|0.6407644', 'assignment|0.6407598', 'record|0.64068377', 'develop|0.64059055', 'billing|0.6405502', 'facebook|0.6405267', 'privacy|0.6405221', 'logbook|0.6404808', 'medical|0.64038396', 'superior|0.640288', 'experienced|0.64022624', 'verify|0.6400045', 'oral|0.639879', 'diversity|0.63987076', 'simple|0.6398482', 'small|0.6398177', 'passion|0.63976264', 'monitoring|0.6397599', 'setting|0.6397477', 'key|0.6397108', 'within|0.6395481', 'excellent|0.6394609', 'worker|0.6394042', 'hour|0.63916516', 'code|0.6391142', 'client|0.6390153', 'wide|0.638967', 'stay|0.63888294', 'flexibility|0.63884854', 'act|0.63875353', 'value|0.63867354', 'education|0.6385839', 'patient|0.6384556', 'front|0.638275', 'learning|0.63826245', 'resident|0.63822126', 'posse|0.63817716', 'solution|0.63807106', 'specific|0.63795424', 'provider|0.6379448', 'tasking|0.63787943']\n",
            "Aspect 1:\n",
            "['travel|0.62206626', 'many|0.61665225', 'ideal|0.6141882', 'attend|0.6131304', 'material|0.61141217', 'speak|0.6109464', 'training|0.6107173', 'adapt|0.6105305', 'protected|0.61015224', 'professionally|0.6092211', 'information|0.6084907', 'comfortable|0.60740954', 'light|0.60642093', 'minimal|0.6063818', 'problem|0.60620713', 'board|0.6059505', 'log|0.60569304', 'focus|0.6054007', 'multitask|0.6052215', 'microsoft|0.6050533', 'friendly|0.60434175', 'condition|0.6043307', 'hire|0.60428536', 'prepare|0.60412323', 'background|0.60397243', 'interpret|0.60373485', 'used|0.6034761', 'staff|0.603451', 'agency|0.6033534', 'display|0.60332596', 'sensitive|0.60328716', 'ensures|0.6032539', 'salon|0.6031026', 'service|0.6029642', 'approach|0.60286117', 'candidate|0.6025064', 'solve|0.60249823', 'receives|0.6024322', 'source|0.6023958', 'check|0.602295', 'juggle|0.6022617', 'upon|0.6021534', 'knowledge|0.60206544', 'properly|0.6016898', 'money|0.6015187', 'monitor|0.60134226', 'position|0.601276', 'benefit|0.6012684', 'receptionist|0.60123646', 'others|0.6011958', 'personality|0.60114914', 'call|0.60113657', 'exceptional|0.6010624', 'first|0.60102236', 'organize|0.60073566', 'access|0.6003925', 'software|0.6002875', 'inquiry|0.6002641', 'atmosphere|0.6002639', 'recording|0.6002486', 'assistant|0.6001774', 'detailed|0.6001141', 'also|0.59997225', 'changing|0.59995526', 'book|0.5999017', 'etc|0.5996509', 'detail|0.59962827', 'clinic|0.599443', 'confidence|0.5993939', 'workload|0.59920394', 'specialty|0.5990002', 'please|0.5989671', 'observe|0.59892416', 'sensitivity|0.598887', 'manual|0.5987662', 'current|0.59865534', 'outgoing|0.59843326', 'reception|0.59841985', 'technology|0.59841526', 'documentation|0.59840345', 'school|0.59838957', 'improve|0.59834313', 'team|0.59831697', 'solving|0.5982208', 'hipaa|0.59810007', 'situation|0.59808636', 'adherence|0.5979166', 'deal|0.5977997', 'understand|0.59777963', 'operating|0.59774566', 'client|0.59772897', 'understanding|0.5975129', 'appropriate|0.59750736', 'tracking|0.5974927', 'include|0.597322', 'applying|0.59721935', 'verbally|0.5971883', 'xx|0.59715074', 'seeking|0.5971428', 'proprietary|0.59708714']\n",
            "Aspect 2:\n",
            "['strong|0.6548542', 'experience|0.65128064', 'established|0.64948297', 'tasking|0.64923114', 'relation|0.64899445', 'store|0.64882755', 'following|0.6474296', 'requirement|0.6474172', 'decision|0.6473963', 'simultaneously|0.6472735', 'interruption|0.64679706', 'fire|0.64656436', 'receiving|0.64654636', 'phone|0.6461952', 'organized|0.6459285', 'ability|0.645886', 'basic|0.6456938', 'priority|0.6448519', 'skill|0.6447495', 'prioritize|0.64465', 'student|0.6444571', 'role|0.6444522', 'organizational|0.64421755', 'com|0.64417046', 'clean|0.6440891', 'previous|0.6439818', 'security|0.6438013', 'make|0.64373887', 'project|0.6436191', 'accordance|0.6435318', 'change|0.64343846', 'comprehend|0.64336526', 'via|0.64299226', 'frequent|0.6429617', 'organization|0.6428399', 'local|0.6423783', 'visitor|0.64223635', 'completing|0.64207125', 'idea|0.6420642', 'plus|0.64173955', 'manner|0.64171726', 'guideline|0.6413077', 'assigned|0.6412432', 'multiple|0.6410719', 'independently|0.64106995', 'caller|0.64106905', 'accurately|0.64085793', 'option|0.64082974', 'data|0.64081746', 'appearance|0.64071345', 'assist|0.64060473', 'answer|0.64055115', 'care|0.6404922', 'scope|0.64045286', 'multi|0.64040995', 'update|0.64023423', 'form|0.64019656', 'positive|0.64019597', 'also|0.64019144', 'resource|0.6400765', 'support|0.63994664', 'experienced|0.63979614', 'responsible|0.6396686', 'line|0.6395298', 'independent|0.6394701', 'operate|0.6394522', 'computer|0.6394156', 'procedure|0.639107', 'guest|0.63900423', 'timely|0.6389889', 'request|0.638973', 'passion|0.6388172', 'file|0.6388037', 'www|0.6387913', 'record|0.63877934', 'practice|0.63874894', 'assistance|0.6386784', 'wide|0.6385124', 'process|0.6384104', 'must|0.63836694', 'demonstrated|0.6383135', 'respond|0.6381246', 'planning|0.6380838', 'issuing|0.6380396', 'appointment|0.6379478', 'behavior|0.6379476', 'offer|0.63775396', 'system|0.6377032', 'social|0.63749695', 'providing|0.63747746', 'collecting|0.637272', 'exercise|0.6372659', 'community|0.6369728', 'company|0.63695836', 'required|0.63689226', 'safety|0.6368611', 'bank|0.6368445', 'career|0.636757', 'animal|0.6367029', 'po|0.63668644']\n",
            "Aspect 3:\n",
            "['interpersonal|0.66674966', 'strong|0.66517395', 'wide|0.66425353', 'must|0.663525', 'bilingual|0.66218925', 'telephone|0.6610881', 'protocol|0.66024196', 'clear|0.6600903', 'starter|0.6598148', 'simultaneously|0.6593379', 'range|0.6587209', 'badge|0.65701115', 'following|0.656356', 'emergency|0.65584826', 'variety|0.65570587', 'relation|0.653516', 'responsibility|0.6529871', 'registration|0.65224993', 'via|0.65187305', 'throughout|0.6514631', 'posse|0.65140027', 'planning|0.65089476', 'relationship|0.6506542', 'task|0.65061224', 'listening|0.65039784', 'high|0.65037537', 'medium|0.6502179', 'associate|0.6502149', 'prioritize|0.65020996', 'spreadsheet|0.65003425', 'financial|0.6499989', 'process|0.6495743', 'sign|0.6493809', 'customer|0.6493149', 'organization|0.6489389', 'organized|0.6486336', 'application|0.64820504', 'priority|0.6480988', 'respond|0.6476832', 'important|0.64717346', 'document|0.64704543', 'meeting|0.6467872', 'completion|0.6466948', 'writing|0.6466578', 'individual|0.6464519', 'follows|0.64624304', 'plus|0.64618933', 'regarding|0.6460117', 'personal|0.6459675', 'oral|0.6457734', 'provide|0.6456397', 'level|0.645588', 'well|0.645433', 'billing|0.6452917', 'request|0.64522284', 'research|0.64503443', 'machine|0.6449712', 'english|0.6449367', 'efficiently|0.6448778', 'issue|0.64469516', 'articulate|0.64455295', 'assignment|0.64450157', 'resolve|0.6444501', 'analyze|0.64441276', 'issuing|0.6443916', 'scheduling|0.64419186', 'able|0.6440583', 'establish|0.6440401', 'excel|0.64389026', 'timely|0.6436436', 'page|0.64333105', 'http|0.6430913', 'see|0.6430589', 'email|0.6430218', 'energetic|0.6430129', 'future|0.64294684', 'ethic|0.64279366', 'verbal|0.6426263', 'assist|0.64210665', 'work|0.6420091', 'population|0.6419768', 'orally|0.6419448', 'question|0.64183414', 'given|0.64156353', 'education|0.6415019', 'www|0.64148766', 'etiquette|0.6414007', 'guideline|0.6412909', 'effectively|0.641232', 'clearly|0.64089143', 'phone|0.64088655', 'looking|0.64066875', 'multi|0.64062154', 'direction|0.6404926', 'security|0.64042723', 'willing|0.6402868', 'improve|0.6401609', 'com|0.64011127', 'multitasking|0.6401085', 'explain|0.63985616']\n",
            "Aspect 4:\n",
            "['efficient|0.6444819', 'departmental|0.6416371', 'executive|0.6373399', 'approach|0.63540924', 'inquiry|0.6332674', 'leadership|0.6329237', 'several|0.63235754', 'interpret|0.6321558', 'training|0.6319964', 'volunteer|0.6315309', 'cultural|0.63075316', 'player|0.6303164', 'way|0.6301636', 'attend|0.62992024', 'number|0.6297766', 'apply|0.6287482', 'common|0.6284258', 'set|0.62820065', 'specialty|0.62811', 'detailed|0.62777865', 'performance|0.6275782', 'discretion|0.62720996', 'communicate|0.6264675', 'travel|0.6259126', 'solving|0.6254542', 'display|0.62521625', 'suite|0.6249791', 'interaction|0.6249312', 'determines|0.62481785', 'confidential|0.6242232', 'person|0.6241869', 'friendly|0.6235784', 'obtain|0.62314034', 'hire|0.62309194', 'personality|0.6228614', 'prepare|0.62285084', 'website|0.6227452', 'sensitivity|0.62266505', 'function|0.6224784', 'demonstrates|0.6223099', 'collect|0.62224185', 'least|0.6222332', 'proprietary|0.62217987', 'background|0.62198544', 'verbally|0.62191117', 'ideal|0.6218331', 'referral|0.6217548', 'problem|0.62168', 'professionally|0.6215187', 'tracking|0.6214979', 'arise|0.62108207', 'would|0.620866', 'language|0.6208445', 'first|0.6207724', 'quality|0.62061965', 'manage|0.6204667', 'helpful|0.6203625', 'diplomacy|0.62024486', 'hipaa|0.61981833', 'demand|0.61971426', 'properly|0.6195164', 'management|0.6195146', 'operating|0.61949414', 'environment|0.6193892', 'material|0.61925435', 'organize|0.61921865', 'software|0.6191232', 'candidate|0.6191077', 'present|0.61900663', 'many|0.61895114', 'standard|0.6189394', 'maintain|0.6186718', 'exceptional|0.61861897', 'product|0.61838394', 'deadline|0.6183577', 'vendor|0.6183343', 'recording|0.61826605', 'include|0.6181499', 'may|0.61808705', 'supply|0.61798966', 'seeking|0.61781526', 'minimal|0.61768234', 'log|0.6174848', 'understanding|0.6173205', 'clinical|0.61731744', 'calendar|0.6172116', 'detail|0.6172107', 'part|0.6171518', 'condition|0.6169346', 'knowledge|0.616651', 'interest|0.6165432', 'provider|0.61650544', 'immediately|0.61649466', 'patience|0.6164568', 'workload|0.61637926', 'department|0.61618686', 'train|0.61615705', 'suspicious|0.6161418', 'juggle|0.6160257', 'administration|0.6159857']\n",
            "Aspect 5:\n",
            "['document|0.67349815', 'simultaneously|0.6633119', 'planning|0.6630505', 'telephone|0.65865874', 'posse|0.65766597', 'strong|0.6569449', 'must|0.6559248', 'monitoring|0.65556586', 'interpersonal|0.6539433', 'high|0.6533371', 'tasking|0.6513344', 'clear|0.6513047', 'keep|0.6507117', 'assignment|0.6499428', 'organized|0.6499213', 'entry|0.64916', 'wide|0.6491047', 'well|0.6487637', 'established|0.6475013', 'via|0.6471547', 'worker|0.6467454', 'requires|0.64652216', 'technical|0.64585626', 'work|0.6456574', 'bilingual|0.6455002', 'decision|0.64528245', 'required|0.64521086', 'following|0.64500886', 'organization|0.64474475', 'relationship|0.6446922', 'priority|0.64466953', 'physical|0.64457524', 'meeting|0.64443177', 'request|0.64422995', 'aware|0.64366317', 'multiple|0.6433619', 'guideline|0.64326525', 'respond|0.64325356', 'accomplish|0.6428291', 'activity|0.64255893', 'independently|0.64251', 'related|0.64206445', 'interacting|0.6418731', 'compassion|0.6418364', 'process|0.64171237', 'quickly|0.641555', 'employee|0.64137673', 'registration|0.6413754', 'support|0.6413413', 'inventory|0.64085084', 'range|0.6408416', 'phone|0.64075786', 'page|0.64064705', 'pleasant|0.640518', 'skill|0.64051193', 'able|0.64050746', 'includes|0.64037037', 'transaction|0.6403168', 'email|0.64017034', 'co|0.64014226', 'accounting|0.64001954', 'customer|0.63999915', 'maintains|0.63991547', 'fire|0.6396861', 'badge|0.6396746', 'assigned|0.6396414', 'responsibility|0.63934034', 'visitor|0.6393242', 'orally|0.63928133', 'research|0.6392812', 'law|0.6389055', 'advanced|0.6386719', 'data|0.6385687', 'task|0.6383924', 'carry|0.6383562', 'local|0.63815045', 'logbook|0.63801837', 'behavior|0.6380174', 'experience|0.637834', 'education|0.6378279', 'level|0.63782525', 'applicable|0.6377578', 'question|0.6376919', 'provides|0.63765574', 'plus|0.6372375', 'care|0.6372117', 'word|0.6371635', 'scheduling|0.637138', 'highly|0.6371107', 'development|0.6368621', 'comprehend|0.63671166', 'personnel|0.63669145', 'calm|0.6364299', 'assist|0.6364214', 'complex|0.6363184', 'community|0.63618195', 'company|0.6358936', 'spreadsheet|0.6356831', 'setting|0.63553345', 'prioritize|0.63523936']\n"
          ],
          "name": "stdout"
        },
        {
          "output_type": "stream",
          "text": [
            "100%|██████████| 81/81 [00:01<00:00, 64.64it/s]\n",
            "2019-12-05 21:17:30,802 INFO Epoch 1, train: 1s\n",
            "2019-12-05 21:17:30,803 INFO Total loss: 18.1654, max_margin_loss: 18.1193, ortho_reg: 0.0460\n",
            "  9%|▊         | 7/81 [00:00<00:01, 68.20it/s]"
          ],
          "name": "stderr"
        },
        {
          "output_type": "stream",
          "text": [
            "Aspect 0:\n",
            "['local|0.4640023', 'ethnic|0.457528', 'socioeconomic|0.45709184', 'type|0.44395983', 'relate|0.4423694', 'public|0.44234118', 'confidentiality|0.44198444', 'complete|0.44081062', 'experienced|0.4380577', 'think|0.43701315', 'accurate|0.43683374', 'administrative|0.43654835', 'co|0.43642724', 'explain|0.43416697', 'small|0.43250978', 'especially|0.43157062', 'provider|0.43081903', 'code|0.43073946', 'machine|0.43048513', 'minute|0.4297763', 'fax|0.4291022', 'cultural|0.42890203', 'data|0.42886698', 'clearly|0.42834222', 'take|0.42695236', 'rule|0.4268596', 'receive|0.42629635', 'organizing|0.42618465', 'personal|0.425773', 'diversity|0.42426968', 'group|0.42333114', 'outlined|0.42327344', 'sign|0.42325664', 'plus|0.42302454', 'list|0.42296797', 'managing|0.42281568', 'hour|0.42248634', 'exhibit|0.42117882', 'establish|0.42112273', 'controlling|0.42072836', 'excellent|0.4197107', 'benefit|0.4196653', 'register|0.41964704', 'privacy|0.4194644', 'entry|0.41919363', 'billing|0.41898924', 'record|0.41876006', 'specific|0.41875896', 'supervisor|0.41766465', 'develop|0.41731787', 'skill|0.4171053', 'learning|0.4170016', 'hipaa|0.41695622', 'enters|0.4169515', 'diverse|0.41675746', 'value|0.4167248', 'demonstrate|0.41650546', 'animal|0.41645834', 'worker|0.41556007', 'typing|0.4154986', 'courteous|0.4151481', 'educational|0.41510272', 'flexibility|0.4150561', 'emr|0.41461325', 'internal|0.41460592', 'oral|0.41460326', 'guest|0.41450176', 'key|0.4143486', 'objective|0.41424954', 'clear|0.41413084', 'phone|0.41367352', 'solid|0.41337374', 'assist|0.41332433', 'point|0.4132663', 'within|0.4127648', 'internet|0.4127424', 'observe|0.41262487', 'location|0.41249603', 'manual|0.41236228', 'superior|0.41228825', 'client|0.41209692', 'interest|0.41184622', 'entering|0.4114883', 'message|0.41126752', 'social|0.41097906', 'obtains|0.41086555', 'ensure|0.41074866', 'medium|0.4105906', 'verify|0.41052318', 'posse|0.40994996', 'insurance|0.40937805', 'directed|0.40928325', 'staff|0.4092751', 'conduct|0.40918827', 'quality|0.40916133', 'people|0.4088693', 'simple|0.4082708', 'm|0.40810043', 'necessary|0.40790597', 'issue|0.40778452']\n",
            "Aspect 1:\n",
            "['information|0.5275508', 'identify|0.4895357', 'solving|0.48364758', 'also|0.473347', 'speak|0.46712852', 'visit|0.4646932', 'money|0.4625223', 'standard|0.46165946', 'solve|0.46140563', 'u|0.46100992', 'support|0.45978606', 'scope|0.4585337', 'maintain|0.45820075', 'ensures|0.4577791', 'hire|0.4571011', 'attend|0.45536202', 'form|0.45311233', 'inquiry|0.45105517', 'according|0.4506886', 'collect|0.45001125', 'interpret|0.4498366', 'process|0.44960672', 'assistance|0.44933692', 'improve|0.4488247', 'xx|0.44874913', 'approach|0.44856322', 'recording|0.44828504', 'department|0.44479206', 'upon|0.44457436', 'special|0.44407427', 'additional|0.4437578', 'comfortable|0.44335815', 'source|0.44322604', 'ideal|0.44268158', 'proprietary|0.44234574', 'service|0.44125277', 'etc|0.44062358', 'report|0.4389814', 'benefit|0.4388763', 'care|0.43864548', 'update|0.43863612', 'including|0.43843627', 'understand|0.4378416', 'appropriate|0.43759453', 'system|0.43713412', 'incoming|0.43626392', 'material|0.43603677', 'www|0.4352798', 'staff|0.4352439', 'proficiency|0.43509683', 'condition|0.4349485', 'professionally|0.43384928', 'communicate|0.4337911', 'background|0.43360746', 'relevant|0.43313628', 'reporting|0.4330856', 'unit|0.43289563', 'problem|0.43220162', 'daily|0.43155205', 'provided|0.4315331', 'assistant|0.4313076', 'organize|0.43125045', 'juggle|0.4305843', 'way|0.42984742', 'insurance|0.4296751', 'hotel|0.42911458', 'requires|0.42867494', 'website|0.42844468', 'check|0.42811683', 'light|0.42779103', 'changing|0.4275156', 'deal|0.42737907', 'enter|0.4271744', 'please|0.42712897', 'perform|0.42709732', 'review|0.42707393', 'diverse|0.4267037', 'create|0.42627656', 'http|0.4262452', 'within|0.42574722', 'composure|0.42564216', 'sensitivity|0.42486998', 'used|0.42476857', 'volume|0.42445242', 'language|0.4243145', 'patient|0.4234355', 'salon|0.4229645', 'outgoing|0.4229594', 'family|0.42220828', 'hipaa|0.42198014', 'interested|0.4218611', 'list|0.42124563', 'associate|0.42109567', 'adapt|0.42109296', 'established|0.42064017', 'position|0.42048365', 'program|0.42027485', 'run|0.42021587', 'public|0.42015153', 'agency|0.41993988']\n",
            "Aspect 2:\n",
            "['prioritize|0.5139825', 'interruption|0.5005865', 'ability|0.49223134', 'security|0.48726338', 'multi|0.48560527', 'paced|0.4782468', 'change|0.47583717', 'safety|0.47386122', 'task|0.47276765', 'procedure|0.47083038', 'office|0.46875805', 'frequent|0.46801728', 'company|0.46538582', 'multitask|0.46156818', 'environment|0.45868194', 'caller|0.45528647', 'badge|0.45493215', 'follow|0.4521221', 'issuing|0.4519056', 'student|0.45186642', 'controlling|0.44885924', 'project|0.44821763', 'oriented|0.44761634', 'manage|0.44664115', 'following|0.44617784', 'com|0.4461026', 'discretion|0.44492233', 'comprehend|0.44393754', 'mathematical|0.44311213', 'priority|0.44256046', 'mail|0.44247442', 'completing|0.44244197', 'direction|0.4404624', 'guest|0.43965513', 'operate|0.43932763', 'm|0.43866348', 'simultaneously|0.43855792', 'sensitive|0.43814996', 'address|0.4380866', 'experience|0.4374261', 'assigned|0.43732467', 'tact|0.436531', 'schedule|0.43625015', 'technical|0.4357886', 'data|0.43516392', 'adhere|0.43444067', 'offer|0.43381792', 'local|0.43348485', 'administrative|0.43321663', 'record|0.43308246', 'collecting|0.4324873', 'demeanor|0.4322366', 'deposit|0.43151873', 'management|0.43094882', 'multiple|0.43082833', 'demonstrated|0.43046945', 'meet|0.4295852', 'receiving|0.42889225', 'compute|0.4288761', 'relation|0.4282718', 'requirement|0.42775494', 'access|0.42709702', 'essential|0.42704302', 'calculation|0.42687416', 'clean|0.42634755', 'practice|0.4261954', 'appearance|0.42609373', 'logbook|0.42595473', 'community|0.42569673', 'routine|0.42564768', 'prioritizing|0.42561322', 'request|0.42398074', 'safe|0.4236477', 'time|0.4236235', 'efficiently|0.42360112', 'missing|0.42332226', 'flexible|0.42310977', 'exercise|0.42237538', 'applicant|0.42224985', 'www|0.4218692', 'diplomacy|0.42174342', 'manner|0.42165005', 'providing|0.42153546', 'client|0.4212484', 'personal|0.4210086', 'previous|0.42079672', 'register|0.42026275', 'qualification|0.41947383', 'protocol|0.41943502', 'health|0.41877425', 'control|0.41829526', 'tasking|0.41811728', 'timely|0.4177286', 'physical|0.41732684', 'adheres|0.41716707', 'punctual|0.41682085', 'staff|0.41678217', 'workload|0.41677976', 'experienced|0.41675526', 'transaction|0.41670388']\n",
            "Aspect 3:\n",
            "['interpersonal|0.5593187', 'strong|0.5361141', 'verbal|0.53091097', 'communication|0.5297251', 'writing|0.5112107', 'skill|0.50258994', 'task|0.48263633', 'excellent|0.4818517', 'telephone|0.48118', 'multi|0.47722018', 'organizational|0.47673857', 'multiple|0.47047865', 'simultaneously|0.46625054', 'phone|0.4618063', 'oral|0.46080863', 'clear|0.45176038', 'verbally|0.44979024', 'superior|0.44967377', 'wide|0.44675034', 'listening|0.44421536', 'effective|0.44398236', 'etiquette|0.44106725', 'variety|0.43916297', 'following|0.43595237', 'orally|0.43459392', 'protocol|0.43296224', 'starter|0.4322514', 'research|0.43046224', 'via|0.4300478', 'prioritize|0.4291332', 'range|0.42709053', 'energetic|0.42692742', 'organization|0.42622232', 'sign|0.42529956', 'badge|0.42510736', 'relation|0.42462224', 'clearly|0.4233784', 'individual|0.42255434', 'bilingual|0.42184237', 'solid|0.4210533', 'address|0.41934538', 'issuing|0.41764683', 'efficiently|0.4171378', 'throughout|0.416574', 'essential|0.41620106', 'due|0.41561267', 'written|0.41534027', 'well|0.41529682', 'busy|0.41366044', 'customer|0.4120112', 'resolve|0.4115204', 'planning|0.41108423', 'rapport|0.41018885', 'respond|0.41002446', 'advanced|0.4098243', 'positively|0.40832314', 'track|0.4082241', 'courteous|0.4080506', 'keep|0.40804535', 'posse|0.40800142', 'caller|0.40778136', 'english|0.40674853', 'oriented|0.40636733', 'grammar|0.40576628', 'able|0.40534723', 'learning|0.40490574', 'priority|0.4044308', 'related|0.40406156', 'provide|0.4037765', 'high|0.40346983', 'issue|0.40273055', 'exceptional|0.40234327', 'explain|0.40229082', 'implement|0.4019348', 'email|0.4008205', 'detail|0.40068698', 'back|0.40065014', 'manage|0.4006414', 'articulate|0.40059584', 'billing|0.4000346', 'project|0.39971113', 'attention|0.39847115', 'balance|0.3976186', 'type|0.39708987', 'demand|0.39621538', 'situation|0.39557543', 'build|0.39539737', 'indeed|0.39527524', 'contact|0.395019', 'multitask|0.39472303', 'demonstrated|0.3946266', 'given|0.39443082', 'question|0.39433467', 'machine|0.3940537', 'complying|0.39394367', 'ability|0.3938623', 'great|0.39334384', 'function|0.39277685', 'technical|0.3924748', 'convey|0.39180884']\n",
            "Aspect 4:\n",
            "['solving|0.5427276', 'efficient|0.52502996', 'identify|0.5134827', 'approach|0.5129153', 'departmental|0.50808203', 'several|0.50479615', 'inquiry|0.50225854', 'way|0.50100243', 'apply|0.500823', 'attend|0.49333343', 'maintain|0.49103245', 'hire|0.4882497', 'give|0.4863696', 'communicate|0.4851452', 'volunteer|0.48226452', 'http|0.48046196', 'department|0.47923636', 'language|0.47825795', 'compliance|0.47823325', 'helpful|0.47788185', 'recording|0.47776657', 'interpret|0.47770327', 'collect|0.4770458', 'complaint|0.4761013', 'deal|0.47588718', 'organize|0.47551677', 'minimal|0.47433832', 'standard|0.4738478', 'enter|0.4726367', 'obtain|0.47181255', 'improve|0.47179076', 'needed|0.4713987', 'referral|0.47019774', 'website|0.46988714', 'according|0.46967202', 'act|0.46961987', 'person|0.469606', 'learn|0.46862578', 'demonstrates|0.4686033', 'travel|0.4669105', 'executive|0.46662527', 'discretion|0.4664717', 'system|0.46617323', 'critical|0.46554905', 'player|0.4652262', 'facebook|0.46432665', 'proven|0.4642488', 'composure|0.46409565', 'would|0.4637143', 'many|0.4630792', 'clinical|0.4629234', 'operating|0.4624195', 'coworkers|0.462398', 'applying|0.461168', 'set|0.46090007', 'upon|0.46002465', 'present|0.45912045', 'participant|0.45825744', 'concern|0.45810533', 'ideal|0.45805562', 'solve|0.45753527', 'product|0.4571805', 'volume|0.45689794', 'insurance|0.45524484', 'know|0.45492396', 'confidential|0.45481154', 'proficiency|0.45458773', 'thinking|0.454148', 'patience|0.45414752', 'situation|0.4539045', 'reporting|0.4538151', 'inventory|0.45373774', 'train|0.45371494', 'learning|0.45354652', 'effectively|0.4531946', 'common|0.45314533', 'understands|0.45306054', 'visit|0.45253047', 'entering|0.45187342', 'number|0.45179936', 'read|0.45154607', 'expectation|0.4513719', 'log|0.45121044', 'friendly|0.45083165', 'specialty|0.4506457', 'problem|0.44950077', 'community|0.44938505', 'resource|0.44907525', 'leadership|0.44898942', 'firm|0.448948', 'supervision|0.4483741', 'information|0.44829008', 'proprietary|0.44820678', 'operation|0.4476629', 'visitor|0.44735134', 'u|0.44693762', 'administration|0.44675913', 'unit|0.44653088', 'hotel|0.4465192', 'function|0.44640896']\n",
            "Aspect 5:\n",
            "['excellent|0.5653378', 'communication|0.5466599', 'strong|0.53996146', 'verbal|0.53128374', 'interpersonal|0.5291618', 'skill|0.5124192', 'organizational|0.49614975', 'telephone|0.46018875', 'oral|0.4549383', 'attention|0.45436612', 'posse|0.44846594', 'planning|0.44612375', 'phone|0.4425171', 'high|0.4407112', 'detail|0.4314614', 'simultaneously|0.42480943', 'keep|0.42076695', 'research|0.4180779', 'solid|0.41801924', 'task|0.4151755', 'etiquette|0.41487017', 'advanced|0.41207623', 'technical|0.41018325', 'written|0.40974095', 'entry|0.40970844', 'logbook|0.4092654', 'listening|0.40826252', 'safety|0.40803415', 'relationship|0.4070089', 'multi|0.40573204', 'great|0.40487778', 'development|0.40451425', 'clearly|0.40190306', 'data|0.40097624', 'email|0.40043223', 'concept|0.39969316', 'accomplish|0.3995784', 'grammar|0.39923078', 'energetic|0.39901465', 'well|0.3986069', 'transaction|0.39833093', 'tasking|0.3980376', 'completing|0.39791095', 'worker|0.3978286', 'organization|0.39729378', 'related|0.39595428', 'multiple|0.39565632', 'demeanor|0.39358062', 'given|0.39317107', 'badge|0.3931644', 'pleasant|0.3905992', 'outstanding|0.38979313', 'controlling|0.38925624', 'spoken|0.38916814', 'wide|0.38854724', 'analytical|0.38820398', 'following|0.38792646', 'via|0.38712993', 'clear|0.38700613', 'degree|0.38698894', 'interacting|0.3869148', 'oriented|0.38634825', 'relation|0.38580292', 'm|0.38576415', 'health|0.3855933', 'essential|0.38550496', 'effective|0.3854278', 'physical|0.38265288', 'activity|0.38236034', 'monitoring|0.38213536', 'document|0.38065913', 'rapport|0.38006085', 'able|0.3798464', 'calm|0.3789174', 'animal|0.37810898', 'missing|0.37797198', 'courteous|0.3770174', 'address|0.37655824', 'proficient|0.37652412', 'implement|0.37592536', 'concise|0.37562415', 'project|0.3754503', 'build|0.3753079', 'carry|0.37516126', 'requested|0.37468117', 'opportunity|0.3744573', 'respond|0.37444484', 'adhere|0.37427038', 'experience|0.3738051', 'completion|0.3736186', 'time|0.3734543', 'track|0.37302566', 'driven|0.3726173', 'qualification|0.37261516', 'equal|0.37196368', 'execute|0.37196308', 'appearance|0.37183905', 'fire|0.37140447', 'busy|0.37120527', 'co|0.3709921']\n"
          ],
          "name": "stdout"
        },
        {
          "output_type": "stream",
          "text": [
            "100%|██████████| 81/81 [00:01<00:00, 64.50it/s]\n",
            "2019-12-05 21:17:32,212 INFO Epoch 2, train: 1s\n",
            "2019-12-05 21:17:32,216 INFO Total loss: 10.1597, max_margin_loss: 10.0863, ortho_reg: 0.0735\n",
            "  9%|▊         | 7/81 [00:00<00:01, 66.78it/s]"
          ],
          "name": "stderr"
        },
        {
          "output_type": "stream",
          "text": [
            "Aspect 0:\n",
            "['local|0.44652414', 'organizing|0.38235247', 'socioeconomic|0.38099664', 'ethnic|0.37738606', 'diverse|0.37008017', 'co|0.36203405', 'establish|0.36191207', 'entry|0.35324335', 'public|0.3484879', 'cultural|0.3483346', 'courteous|0.34060737', 'physician|0.3343349', 'diversity|0.33404112', 'treatment|0.3335743', 'explain|0.33242977', 'emr|0.3255308', 'hour|0.3244975', 'school|0.32145777', 'type|0.32051498', 'relate|0.32043737', 'receive|0.32023108', 'develop|0.3190428', 'rule|0.31464982', 'record|0.3145424', 'client|0.31324887', 'word|0.31138548', 'outside|0.3104129', 'speaking|0.3081169', 'benefit|0.30770665', 'billing|0.3073706', 'outlined|0.30645785', 'enters|0.3063966', 'resolve|0.30541328', 'supervisor|0.3051221', 'specific|0.30494544', 'clearly|0.30473968', 'new|0.30447647', 'manual|0.30394146', 'point|0.3038281', 'provider|0.3037701', 'data|0.30319095', 'clear|0.30045888', 'key|0.29973137', 'closing|0.29863483', 'register|0.29757717', 'minute|0.29738998', 'people|0.29640368', 'internal|0.29363626', 'individual|0.29340684', 'opening|0.29333618', 'day|0.29306167', 'quality|0.29228055', 'code|0.29221565', 'directed|0.29202592', 'wpm|0.29170367', 'opportunity|0.2914049', 'xx|0.29128087', 'terminology|0.29008824', 'managing|0.28854716', 'reporting|0.28784972', 'basic|0.28736258', 'employer|0.287048', 'obtains|0.28527027', 'educational|0.28430033', 'action|0.28360683', 'suite|0.2826032', 'list|0.28247762', 'requirement|0.28238857', 'position|0.28224462', 'facebook|0.28161252', 'donor|0.28160474', 'especially|0.2809221', 'learning|0.28076613', 'job|0.28068468', 'thinking|0.28052682', 'demonstrate|0.27910784', 'monitor|0.27749932', 'form|0.27662277', 'seattle|0.2761241', 'staff|0.27592644', 'independent|0.2759152', 'answer|0.27570498', 'medical|0.27490783', 'ensure|0.27444792', 'assist|0.27435315', 'place|0.27363282', 'provide|0.27285388', 'paperwork|0.27285075', 'issue|0.2719232', 'conflict|0.27167493', 'insurance|0.27130294', 'carry|0.2708679', 'make|0.26985845', 'manager|0.26956815', 'club|0.2694623', 'worker|0.26888868', 'across|0.26854518', 'technology|0.26851088', 'animal|0.2678114', 'using|0.26764143']\n",
            "Aspect 1:\n",
            "['information|0.5907895', 'http|0.5633825', 'standard|0.5567958', 'www|0.54948163', 'process|0.5356072', 'hotel|0.52258813', 'check|0.5133688', 'solve|0.50725174', 'record|0.50475836', 'company|0.49431452', 'visit|0.48815888', 'understand|0.48800033', 'provides|0.47878328', 'department|0.4774769', 'form|0.47325826', 'source|0.4729935', 'system|0.4685498', 'center|0.46734646', 'please|0.46503595', 'material|0.46503317', 'identify|0.4615752', 'procedure|0.46072018', 'deal|0.46005726', 'u|0.4599996', 'inquiry|0.45990294', 'staff|0.45644438', 'provide|0.45641857', 'reservation|0.45606986', 'reporting|0.45530814', 'contact|0.4550193', 'assistance|0.45495218', 'com|0.45209807', 'donor|0.45204353', 'according|0.44669196', 'collect|0.4417966', 'speak|0.43935162', 'relevant|0.43877235', 'ensure|0.43762052', 'website|0.43464866', 'condition|0.4311639', 'hipaa|0.430317', 'client|0.42937696', 'confidentiality|0.42852068', 'ensures|0.42786312', 'federal|0.4270536', 'payment|0.42697313', 'enter|0.42153826', 'diverse|0.42097843', 'hire|0.4208955', 'way|0.420198', 'professionally|0.4198764', 'date|0.41877404', 'facility|0.41861588', 'pet|0.4164428', 'authorization|0.41588736', 'position|0.41470167', 'xx|0.41470078', 'list|0.413', 'incoming|0.41079465', 'org|0.41059363', 'may|0.41017163', 'opportunity|0.41000032', 'using|0.40742797', 'also|0.40577048', 'money|0.4048423', 'receive|0.40320498', 'health|0.40318197', 'change|0.4003256', 'provided|0.4001824', 'outlined|0.39977622', 'daily|0.39956504', 'xxx|0.39809126', 'ensuring|0.39796874', 'departmental|0.39793962', 'pertinent|0.39482328', 'collecting|0.3935872', 'greets|0.3935279', 'read|0.39131376', 'related|0.39059263', 'firm|0.3905118', 'public|0.39014333', 'agency|0.39009705', 'insurance|0.38989127', 'update|0.38980025', 'run|0.3852202', 'make|0.38361692', 'get|0.38333791', 'apply|0.38286012', 'attend|0.38208216', 'care|0.3805232', 'proprietary|0.38035357', 'support|0.38021082', 'team|0.37899095', 'sensitivity|0.3788477', 'co|0.37858284', 'understanding|0.378503', 'instruction|0.37801093', 'communicates|0.37731975', 'reception|0.37710023', 'applying|0.37700474']\n",
            "Aspect 2:\n",
            "['fast|0.7903519', 'task|0.7864243', 'ability|0.7707727', 'manage|0.7638144', 'priority|0.6793121', 'following|0.6751702', 'multi|0.6338918', 'badge|0.5935417', 'issuing|0.5843136', 'multiple|0.57839096', 'paced|0.5683247', 'demonstrated|0.5584464', 'interruption|0.53569233', 'safety|0.52103084', 'maintains|0.50881594', 'operate|0.50868225', 'frequent|0.50753623', 'set|0.5058012', 'efficiently|0.4985113', 'student|0.49192077', 'safe|0.4892525', 'controlling|0.48457778', 'change|0.4797687', 'organize|0.47841722', 'logbook|0.47417283', 'multitask|0.4733277', 'procedure|0.47160202', 'simultaneously|0.46683016', 'clean|0.448447', 'complying|0.43938762', 'assigned|0.43532473', 'able|0.42102885', 'mail|0.4189357', 'guideline|0.41799718', 'workload|0.41716534', 'reception|0.4168648', 'behavior|0.40878785', 'maintaining|0.40732056', 'well|0.40629533', 'within|0.4058125', 'calm|0.40408492', 'composure|0.40056998', 'independently|0.3977846', 'variety|0.39752823', 'follow|0.39542204', 'stressful|0.3938741', 'address|0.38530377', 'pressure|0.3817178', 'monitoring|0.38131168', 'via|0.37919647', 'appearance|0.37876272', 'discretion|0.37846482', 'assignment|0.37582493', 'mathematical|0.3721199', 'think|0.36767828', 'completion|0.36707395', 'adhere|0.3594532', 'project|0.35904303', 'meet|0.35545695', 'regulation|0.35260022', 'com|0.3523562', 'situation|0.3511733', 'idea|0.34782776', 'rule|0.34775764', 'thrive|0.3467653', 'accomplish|0.34318763', 'dynamic|0.3420216', 'clearly|0.34083498', 'write|0.33912992', 'supervision|0.33851406', 'fax|0.33204532', 'others|0.33166534', 'senior|0.32901052', 'goal|0.327957', 'staff|0.32775727', 'monitor|0.3270396', 'function|0.32314992', 'potential|0.32154423', 'given|0.3212922', 'providing|0.32092565', 'transaction|0.32071906', 'concept|0.32016665', 'direction|0.31992042', 'file|0.31916344', 'calculation|0.31662703', 'issue|0.31411046', 'personnel|0.3140196', 'respond|0.31278396', 'busy|0.31189078', 'bank|0.31161767', 'suspicious|0.31161413', 'oriented|0.31022066', 'request|0.31009227', 'specific|0.30886465', 'demeanor|0.30633026', 'supervisor|0.3063245', 'team|0.30556667', 'high|0.30406788', 'simple|0.3011978', 'licensing|0.30113006']\n",
            "Aspect 3:\n",
            "['strong|0.5905981', 'skill|0.5626929', 'communication|0.55923796', 'phone|0.55704653', 'verbal|0.5484942', 'telephone|0.53008723', 'listening|0.51521486', 'organizational|0.5109209', 'excellent|0.47189903', 'interpersonal|0.4550948', 'superior|0.45355466', 'experience|0.43691292', 'writing|0.43071872', 'essential|0.4280346', 'attention|0.42409956', 'etiquette|0.41531646', 'oriented|0.41170263', 'exceptional|0.40439337', 'advanced|0.3967572', 'grammar|0.3965251', 'clear|0.38780993', 'posse|0.3856011', 'well|0.3841293', 'great|0.3784916', 'organization|0.3632862', 'rapport|0.36168462', 'tasking|0.35060468', 'organized|0.3419436', 'starter|0.33319834', 'multi|0.32670426', 'people|0.31330127', 'task|0.30541822', 'planning|0.30048156', 'courteous|0.295281', 'oral|0.29381645', 'typing|0.2882117', 'social|0.28771055', 'demand|0.2867902', 'relation|0.27487502', 'medium|0.274081', 'multitasking|0.2724591', 'outstanding|0.2718976', 'busy|0.2710774', 'self|0.2625038', 'energetic|0.2584336', 'simultaneously|0.25756544', 'looking|0.255865', 'bilingual|0.25310266', 'effective|0.25223708', 'critical|0.2519576', 'observe|0.25178117', 'concise|0.25145185', 'leadership|0.2513091', 'wide|0.24936652', 'verbally|0.24735922', 'someone|0.24603286', 'track|0.24455896', 'proficient|0.244342', 'thinking|0.242378', 'multiple|0.23323373', 'focus|0.23315708', 'learning|0.2292224', 'able|0.22816488', 'internet|0.22307895', 'sign|0.2211281', 'excel|0.22004494', 'spoken|0.21987355', 'degree|0.21732235', 'utilize|0.21596836', 'orally|0.21562266', 'plus|0.21459533', 'technical|0.21010876', 'detail|0.20149834', 'given|0.20045577', 'protocol|0.19819991', 'explain|0.19087209', 'solid|0.1906856', 'develop|0.18987846', 'quick|0.18270606', 'exhibit|0.18024907', 'research|0.17912799', 'due|0.17752191', 'personality|0.17563245', 'proficiency|0.17205188', 'build|0.17129451', 'ethic|0.16757368', 'experienced|0.16175921', 'wpm|0.16029435', 'range|0.15838581', 'back|0.15250888', 'spanish|0.1491512', 'enthusiastic|0.14867795', 'technology|0.14583544', 'prioritizing|0.14332429', 'analytical|0.13915695', 'demonstrate|0.13514581', 'business|0.13477205', 'm|0.13299346', 'making|0.13191923', 'computer|0.1313391']\n",
            "Aspect 4:\n",
            "['information|0.5905678', 'departmental|0.56223196', 'department|0.5601373', 'apply|0.55749357', 'system|0.5515169', 'http|0.54791087', 'company|0.5419838', 'inquiry|0.5410743', 'standard|0.5345063', 'www|0.5340448', 'way|0.53095627', 'confidentiality|0.52936244', 'read|0.5268941', 'procedure|0.52408004', 'deal|0.5220952', 'hotel|0.5135671', 'provide|0.50958925', 'check|0.50952643', 'contact|0.5072855', 'record|0.5024101', 'enter|0.4964558', 'please|0.48293048', 'process|0.48137417', 'staff|0.47307062', 'solve|0.4716553', 'com|0.46929157', 'authorization|0.46709028', 'clinical|0.46669808', 'client|0.46532124', 'reporting|0.46386528', 'website|0.46385908', 'understand|0.46103805', 'according|0.46090472', 'hipaa|0.45989758', 'agency|0.45899078', 'hire|0.45894152', 'related|0.45857078', 'assistance|0.45824665', 'identify|0.45798865', 'safety|0.45567834', 'attend|0.4555953', 'discretion|0.45525402', 'ensure|0.45329678', 'relevant|0.452999', 'reservation|0.44854614', 'set|0.44821128', 'go|0.44801685', 'guideline|0.44512153', 'material|0.4435007', 'instruction|0.44256586', 'recording|0.44072986', 'issue|0.44014764', 'incoming|0.43990788', 'travel|0.438525', 'diverse|0.4383016', 'volunteer|0.438156', 'improve|0.43779725', 'member|0.43749687', 'entering|0.43644452', 'insurance|0.4360989', 'pertinent|0.43589875', 'professionally|0.43531764', 'reception|0.4351815', 'receive|0.4347853', 'know|0.4332838', 'determines|0.43210924', 'caller|0.43191874', 'source|0.43173742', 'understands|0.43158454', 'provides|0.42992002', 'write|0.42912605', 'request|0.42830575', 'supervisor|0.42813313', 'administration|0.42758983', 'update|0.42722768', 'list|0.42686388', 'speak|0.42591292', 'obtaining|0.4251939', 'collect|0.42461944', 'visit|0.4245977', 'organize|0.42251065', 'sensitivity|0.42206606', 'u|0.4217466', 'date|0.4182549', 'facebook|0.4169538', 'proprietary|0.4168635', 'firm|0.41076386', 'situation|0.41006994', 'maintains|0.40980655', 'condition|0.40914708', 'change|0.40863997', 'immediately|0.40858203', 'approach|0.40750715', 'prepare|0.40733802', 'interpret|0.40680754', 'daily|0.40641424', 'xxxx|0.40639096', 'product|0.40631258', 'call|0.4060768', 'xxx|0.40605423']\n",
            "Aspect 5:\n",
            "['skill|0.70274806', 'communication|0.6749608', 'strong|0.6726238', 'excellent|0.65890634', 'attention|0.6467165', 'organizational|0.6365489', 'verbal|0.6259947', 'phone|0.615581', 'posse|0.58867174', 'experience|0.52930284', 'interpersonal|0.5284226', 'telephone|0.5261879', 'listening|0.5049467', 'organization|0.48303625', 'typing|0.4749623', 'looking|0.45440018', 'exceptional|0.44035956', 'outstanding|0.43955886', 'advanced|0.43684447', 'grammar|0.43313664', 'great|0.42617148', 'people|0.42339393', 'multitasking|0.4232188', 'oral|0.41502053', 'etiquette|0.41093343', 'essential|0.4020843', 'proficient|0.39865375', 'm|0.39723778', 'planning|0.39539114', 'plus|0.38755885', 'tasking|0.3841961', 'qualification|0.3807076', 'social|0.36618474', 'microsoft|0.35766995', 'superior|0.35545528', 'oriented|0.35536662', 'detail|0.35406184', 'someone|0.35278684', 'experienced|0.35176992', 'computer|0.34251627', 'clear|0.340922', 'rapport|0.33558208', 'personality|0.33039287', 'excel|0.3163241', 'degree|0.30797434', 'energetic|0.30531138', 'analytical|0.296307', 'concise|0.28318298', 'relation|0.2770599', 'answering|0.271762', 'medium|0.26741534', 'organized|0.25824082', 'bilingual|0.25732002', 'internet|0.25304952', 'technical|0.2505824', 'leadership|0.24844871', 'technology|0.24040633', 'solid|0.23915415', 'spoken|0.23317702', 'entry|0.23083438', 'reliable|0.23079519', 'managing|0.22823933', 'starter|0.22305062', 'courteous|0.21392949', 'pleasant|0.20896864', 'well|0.20465797', 'thinking|0.20429385', 'demand|0.20038086', 'spanish|0.19883877', 'desire|0.19857752', 'focus|0.19853044', 'effective|0.19480963', 'critical|0.1938008', 'greeting|0.19365837', 'spreadsheet|0.19320413', 'proficiency|0.19315457', 'making|0.19221734', 'good|0.18564686', 'demeanor|0.18563044', 'developed|0.18487942', 'seeking|0.18378425', 'build|0.1835027', 'protocol|0.17813927', 'given|0.17411363', 'wpm|0.17163709', 'self|0.16724017', 'develop|0.1636509', 'diploma|0.16249415', 'busy|0.15940091', 'education|0.15877053', 'enthusiastic|0.15630239', 'assistant|0.15474215', 'track|0.15438151', 'keeping|0.15236492', 'key|0.15184817', 'driven|0.15067479', 'explain|0.14915146', 'warm|0.14614518', 'include|0.14407504', 'software|0.14298955']\n"
          ],
          "name": "stdout"
        },
        {
          "output_type": "stream",
          "text": [
            "100%|██████████| 81/81 [00:01<00:00, 64.69it/s]\n",
            "2019-12-05 21:17:33,646 INFO Epoch 3, train: 1s\n",
            "2019-12-05 21:17:33,647 INFO Total loss: 2.9493, max_margin_loss: 2.9071, ortho_reg: 0.0422\n",
            "  0%|          | 0/81 [00:00<?, ?it/s]"
          ],
          "name": "stderr"
        },
        {
          "output_type": "stream",
          "text": [
            "Aspect 0:\n",
            "['local|0.52788985', 'record|0.48999655', 'new|0.47974047', 'co|0.47540212', 'data|0.46463853', 'client|0.46176702', 'hour|0.45499492', 'ethnic|0.4518011', 'obtains|0.44972956', 'emr|0.44677016', 'explain|0.44030803', 'courteous|0.4393869', 'benefit|0.4311527', 'enters|0.43082425', 'diverse|0.4297956', 'specific|0.42863134', 'resolve|0.4263892', 'billing|0.42618874', 'establish|0.42300266', 'socioeconomic|0.42217013', 'manual|0.4203179', 'school|0.417937', 'xx|0.41751695', 'diversity|0.41410983', 'point|0.4136362', 'answer|0.4134588', 'type|0.4133562', 'answering|0.4078439', 'physician|0.40588942', 'insurance|0.40172195', 'word|0.40126866', 'club|0.4005112', 'supervisor|0.40037638', 'requirement|0.39989924', 'donor|0.399747', 'terminology|0.39923036', 'internal|0.3987772', 'closing|0.39825398', 'speaking|0.39589056', 'thinking|0.39563987', 'plus|0.3921929', 'day|0.39137554', 'hospital|0.3897125', 'quality|0.38651544', 'job|0.38607866', 'form|0.38451105', 'treatment|0.38357615', 'question|0.383487', 'ensure|0.38322228', 'medical|0.38283533', 'individual|0.3821013', 'assist|0.38158417', 'also|0.38095388', 'issue|0.38094872', 'outlined|0.37993056', 'seattle|0.37869406', 'conflict|0.37857813', 'staff|0.37827325', 'provider|0.37785375', 'greet|0.37595594', 'minute|0.37590504', 'run|0.3733419', 'action|0.37176824', 'sufficient|0.37145746', 'solid|0.3707857', 'source|0.37020004', 'solution|0.36997613', 'wpm|0.3697774', 'relate|0.3690562', 'technology|0.3686657', 'list|0.36861184', 'employer|0.36769056', 'clear|0.36656696', 'sensitivity|0.3657604', 'critical|0.36564398', 'month|0.36559927', 'opportunity|0.36555174', 'make|0.3655284', 'paperwork|0.36542118', 'location|0.36497587', 'assistant|0.36336488', 'monitor|0.3632163', 'corporate|0.36262855', 'develop|0.36138207', 'program|0.36010423', 'comfortable|0.3591568', 'care|0.35830235', 'equal|0.35722792', 'judgment|0.35677868', 'desire|0.35549554', 'employee|0.35546947', 'resource|0.35475367', 'directed|0.35462502', 'experienced|0.35425666', 'cultural|0.35364056', 'greeting|0.35312852', 'current|0.35236153', 'personable|0.3522267', 'family|0.35180855', 'people|0.35178006']\n",
            "Aspect 1:\n",
            "['information|0.5866265', 'www|0.58589166', 'company|0.5462583', 'please|0.51837337', 'source|0.51175094', 'payment|0.51063555', 'record|0.48738658', 'department|0.48631102', 'contact|0.48294982', 'center|0.4816076', 'provide|0.4807801', 'donor|0.48013535', 'federal|0.47753006', 'authorization|0.46292654', 'reservation|0.4535222', 'deal|0.4517112', 'reporting|0.45115268', 'standard|0.44866', 'according|0.4462632', 'see|0.4423479', 'hour|0.44190904', 'website|0.4368255', 'professionally|0.43594414', 'hotel|0.4351719', 'may|0.43414897', 'form|0.4336233', 'material|0.43296045', 'com|0.43282983', 'client|0.43205568', 'get|0.42655107', 'ensure|0.42082095', 'proprietary|0.42049503', 'procedure|0.42024195', 'org|0.4179565', 'staff|0.4172144', 'u|0.41594437', 'outlined|0.41264397', 'condition|0.41229725', 'update|0.41190824', 'list|0.41131765', 'assistance|0.41071522', 'collecting|0.41045672', 'requires|0.41038105', 'guideline|0.40861714', 'run|0.40753078', 'daily|0.40746394', 'date|0.40285343', 'firm|0.39807755', 'xx|0.39614886', 'greets|0.39585507', 'individual|0.39301383', 'regulation|0.39207578', 'using|0.39145046', 'position|0.38716045', 'opportunity|0.3862', 'hire|0.38597882', 'apply|0.3858953', 'collect|0.3836489', 'support|0.38289315', 'communicates|0.38156497', 'question|0.3813329', 'insurance|0.38041896', 'approach|0.37950176', 'comfortable|0.3794062', 'relevant|0.37901807', 'make|0.37835664', 'co|0.3773021', 'sensitivity|0.3766978', 'value|0.37659526', 'internal|0.37338027', 'xxx|0.3723581', 'also|0.37234432', 'solve|0.37232098', 'departmental|0.3720647', 'receives|0.37175426', 'equal|0.3708501', 'diverse|0.36865678', 'case|0.36821932', 'agency|0.3667773', 'obtaining|0.36489707', 'program|0.36435062', 'health|0.3640089', 'speaking|0.36383438', 'care|0.36274514', 'used|0.36174262', 'shift|0.360685', 'role|0.3587582', 'set|0.35685962', 'immediately|0.35654536', 'right|0.3557889', 'facilitate|0.35493886', 'applying|0.35299534', 'completes|0.35276517', 'providing|0.3526628', 'manual|0.35163444', 'resource|0.3516196', 'pet|0.35139334', 'receive|0.35067007', 'determines|0.34955764', 'xxxx|0.34838152']\n",
            "Aspect 2:\n",
            "['ability|0.89541715', 'task|0.8583252', 'fast|0.83993435', 'badge|0.74991536', 'issuing|0.7340686', 'safety|0.5694566', 'efficiently|0.54505014', 'complying|0.5207548', 'oriented|0.4934909', 'logbook|0.48587602', 'set|0.4847601', 'within|0.4697079', 'manage|0.4655071', 'able|0.46324283', 'interruption|0.46305943', 'dynamic|0.45483324', 'variety|0.4380557', 'assigned|0.43784344', 'behavior|0.43069753', 'assignment|0.41900963', 'transaction|0.41488212', 'procedure|0.4074592', 'clean|0.4060359', 'high|0.4054678', 'demeanor|0.39999497', 'perform|0.39969444', 'potential|0.39245376', 'thrive|0.39201546', 'guideline|0.3861688', 'controlling|0.3828847', 'safe|0.38217604', 'juggle|0.377603', 'given|0.37719953', 'senior|0.36992857', 'maintaining|0.3696172', 'quality|0.34553295', 'via|0.34203118', 'charge|0.33509186', 'operate|0.33177254', 'integrity|0.32419583', 'monitor|0.31486225', 'personnel|0.3144567', 'pressure|0.31445625', 'without|0.3143626', 'bank|0.3133639', 'mail|0.31111357', 'monitoring|0.31075692', 'simultaneously|0.30384883', 'student|0.29778796', 'adheres|0.29062414', 'organize|0.2898349', 'short|0.2897464', 'organized|0.28785992', 'listen|0.2852783', 'm|0.28425175', 'multi|0.2784158', 'word|0.27447113', 'common|0.27395907', 'situation|0.26915973', 'independent|0.26864117', 'performance|0.26694417', 'across|0.2659058', 'com|0.26165104', 'workload|0.25993574', 'condition|0.2592997', 'appointment|0.25587958', 'goal|0.25400454', 'upon|0.25347555', 'calm|0.25218412', 'passion|0.2473985', 'atmosphere|0.24597771', 'full|0.24473155', 'sign|0.24402228', 'setting|0.24238685', 'specific|0.24211717', 'machine|0.24153778', 'clinical|0.24153188', 'keep|0.24151956', 'cultural|0.24003994', 'change|0.23930775', 'composure|0.23725984', 'respond|0.23617384', 'care|0.23474693', 'degree|0.23461539', 'physical|0.2330599', 'staff|0.2312696', 'relevant|0.23027845', 'business|0.22746821', 'opportunity|0.22162467', 'licensing|0.220574', 'store|0.2161907', 'forward|0.21405119', 'others|0.21388747', 'make|0.2122777', 'role|0.21086974', 'demand|0.21055129', 'cashing|0.2100942', 'u|0.21006411', 'health|0.2099393', 'terminology|0.20953122']\n",
            "Aspect 3:\n",
            "['strong|0.5956166', 'skill|0.5822878', 'verbal|0.5546118', 'telephone|0.5389502', 'experience|0.508204', 'communication|0.4989898', 'verbally|0.49114585', 'clear|0.48011118', 'organized|0.46135092', 'people|0.45376104', 'etiquette|0.44775125', 'advanced|0.42503402', 'listening|0.42433906', 'relation|0.42014697', 'rapport|0.41869855', 'able|0.41511667', 'degree|0.4104654', 'oriented|0.3960058', 'starter|0.3828999', 'looking|0.3688711', 'sign|0.36689627', 'courteous|0.36424702', 'ethic|0.36055028', 'energetic|0.34798753', 'organizational|0.34123975', 'demand|0.3328935', 'superior|0.3149202', 'critical|0.31110832', 'phone|0.30275604', 'given|0.30123904', 'high|0.30061918', 'within|0.29996985', 'great|0.29916847', 'demeanor|0.29913425', 'across|0.29866785', 'full|0.28982168', 'action|0.28971285', 'important|0.2850541', 'individual|0.27846467', 'technical|0.27055514', 'solid|0.2697694', 'compassion|0.2679213', 'wpm|0.26746416', 'orally|0.26728964', 'dynamic|0.26595703', 'internet|0.26383048', 'business|0.25969929', 'someone|0.25649917', 'proficiency|0.25297737', 'personality|0.2506234', 'excellent|0.24864681', 'produce|0.24844526', 'grammar|0.24652609', 'thinking|0.24642088', 'learning|0.2460189', 'willing|0.24550211', 'assist|0.2451415', 'resolve|0.2442064', 'enthusiastic|0.24082135', 'explain|0.23945801', 'using|0.23925015', 'benefit|0.23892975', 'making|0.23239413', 'hospital|0.23070438', 'successfully|0.23001039', 'word|0.22951645', 'establish|0.22931129', 'diploma|0.22580932', 'school|0.22563964', 'common|0.22549266', 'clinical|0.21495607', 'adheres|0.21340236', 'receipt|0.21265486', 'day|0.21217564', 'posse|0.21207777', 'plus|0.21185309', 'fast|0.21028194', 'observe|0.20996189', 'medium|0.208881', 'short|0.20778714', 'xx|0.20651655', 'greeting|0.20649202', 'current|0.20191959', 'situation|0.19898143', 'technology|0.19771543', 'appointment|0.19706897', 'requirement|0.1966172', 'personnel|0.1935178', 'concise|0.19320554', 'research|0.19213477', 'busy|0.1899895', 'solution|0.18904248', 'desire|0.18884666', 'efficiently|0.1880748', 'issuing|0.18734667', 'provider|0.1854239', 'task|0.18184854', 'essential|0.17988497', 'prepares|0.1797206', 'greet|0.17959198']\n",
            "Aspect 4:\n",
            "['apply|0.58116305', 'company|0.5717969', 'departmental|0.5503549', 'information|0.5312636', 'department|0.52379006', 'www|0.5068711', 'guideline|0.4941941', 'deal|0.4836568', 'provide|0.48145816', 'authorization|0.477103', 'please|0.46511286', 'contact|0.45453823', 'reporting|0.45241994', 'procedure|0.44860017', 'client|0.44704643', 'obtaining|0.44375217', 'see|0.4385878', 'set|0.43738198', 'according|0.43636894', 'proprietary|0.43377352', 'source|0.43194604', 'resource|0.43112484', 'may|0.43045926', 'com|0.42887914', 'ensure|0.42811203', 'professionally|0.4259336', 'record|0.42551386', 'approach|0.4250238', 'immediately|0.42497456', 'volunteer|0.4233216', 'xxxx|0.42038724', 'job|0.41773587', 'website|0.4138177', 'financial|0.41354996', 'issue|0.40984374', 'daily|0.40882373', 'list|0.40874282', 'regulation|0.40838474', 'update|0.40758038', 'org|0.40640038', 'question|0.40603295', 'agency|0.40559584', 'firm|0.40527725', 'administration|0.40209043', 'determines|0.40078813', 'diverse|0.3994869', 'material|0.39894283', 'licensing|0.39865774', 'hire|0.3970266', 'staff|0.3965125', 'value|0.39613137', 'sensitivity|0.39371195', 'expectation|0.3929119', 'coworkers|0.392477', 'reservation|0.39207095', 'executive|0.39149526', 'interpret|0.39133915', 'u|0.39060494', 'clinical|0.3898781', 'relevant|0.38946557', 'program|0.3851261', 'corporate|0.38481945', 'travel|0.38465583', 'assistance|0.38242775', 'safety|0.38213408', 'answer|0.38187844', 'understands|0.38023746', 'supervisor|0.37926745', 'receipt|0.37698454', 'listen|0.37646496', 'entering|0.37605453', 'condition|0.37568384', 'completes|0.3755997', 'insurance|0.37498522', 'payment|0.37388468', 'keep|0.37328887', 'xxx|0.37138632', 'judgment|0.37108466', 'outlined|0.37012455', 'using|0.36597016', 'location|0.36560273', 'standard|0.36476156', 'place|0.3643465', 'go|0.3637917', 'solve|0.36375412', 'run|0.3629778', 'date|0.36278135', 'number|0.36245203', 'conflict|0.36210078', 'resolve|0.36209187', 'care|0.36205745', 'career|0.36112723', 'opportunity|0.3608774', 'support|0.36045238', 'donor|0.36041927', 'perform|0.36040533', 'incoming|0.36013544', 'email|0.35952187', 'applying|0.35768646', 'indeed|0.35756433']\n",
            "Aspect 5:\n",
            "['skill|0.7143947', 'verbal|0.6294954', 'strong|0.62267697', 'communication|0.6117979', 'experience|0.59194136', 'looking|0.55789137', 'telephone|0.5221353', 'people|0.50768304', 'excellent|0.48533466', 'organizational|0.47276834', 'posse|0.46779996', 'relation|0.46097878', 'degree|0.46066192', 'm|0.44357896', 'personality|0.4364857', 'etiquette|0.43122786', 'clear|0.42107075', 'plus|0.42002717', 'someone|0.40646565', 'advanced|0.40630618', 'assistant|0.40334547', 'experienced|0.3902669', 'attention|0.38332456', 'rapport|0.3815536', 'energetic|0.37561888', 'listening|0.37210995', 'demeanor|0.36436117', 'full|0.3563878', 'phone|0.34883997', 'requirement|0.3457989', 'organized|0.33050585', 'high|0.3262499', 'ethic|0.3227996', 'greeting|0.30594862', 'able|0.30477583', 'successfully|0.2970183', 'technical|0.29668605', 'solid|0.29547125', 'great|0.29104882', 'technology|0.28910545', 'oriented|0.2820565', 'verbally|0.2781335', 'answering|0.27806032', 'across|0.27479553', 'grammar|0.26841483', 'wpm|0.26495868', 'also|0.26435268', 'data|0.2628915', 'desire|0.2598194', 'diploma|0.25649124', 'excel|0.25478333', 'proficiency|0.2542191', 'compassion|0.254039', 'starter|0.25299013', 'given|0.25282672', 'making|0.2519494', 'sign|0.25061065', 'hospital|0.24973693', 'multitasking|0.24732026', 'establish|0.24693057', 'explain|0.24467057', 'internet|0.2431932', 'benefit|0.23950984', 'courteous|0.23749244', 'word|0.23684426', 'warm|0.23659754', 'action|0.2332452', 'willing|0.23036543', 'school|0.22990076', 'health|0.227146', 'adheres|0.22610985', 'medium|0.22601774', 'xx|0.2259453', 'enthusiastic|0.22583336', 'option|0.22467968', 'critical|0.22448987', 'business|0.22398537', 'spanish|0.22047508', 'using|0.21811116', 'produce|0.21630777', 'day|0.20993836', 'driven|0.20867202', 'assist|0.20547444', 'associate|0.20524268', 'local|0.20509171', 'social|0.20291534', 'solution|0.19500722', 'medical|0.19399306', 'new|0.19118562', 'personnel|0.19096312', 'quality|0.18831486', 'cashing|0.18793708', 'greet|0.18771783', 'important|0.1859125', 'demand|0.1858904', 'property|0.18542206', 'vendor|0.18284535', 'dynamic|0.18137057', 'concise|0.18114142', 'superior|0.1794418']\n"
          ],
          "name": "stdout"
        },
        {
          "output_type": "stream",
          "text": [
            "100%|██████████| 81/81 [00:01<00:00, 66.49it/s]\n",
            "2019-12-05 21:17:35,008 INFO Epoch 4, train: 1s\n",
            "2019-12-05 21:17:35,009 INFO Total loss: 1.0631, max_margin_loss: 1.0473, ortho_reg: 0.0158\n",
            "  7%|▋         | 6/81 [00:00<00:01, 55.54it/s]"
          ],
          "name": "stderr"
        },
        {
          "output_type": "stream",
          "text": [
            "Aspect 0:\n",
            "['data|0.5462775', 'local|0.5109595', 'co|0.5094974', 'client|0.5054312', 'specific|0.50352335', 'plus|0.49963278', 'explain|0.4957949', 'hour|0.49526006', 'thinking|0.4887504', 'answering|0.48723286', 'diverse|0.47797814', 'answer|0.47099382', 'experienced|0.47043073', 'benefit|0.46752852', 'insurance|0.46505505', 'new|0.4617253', 'question|0.46171027', 'diversity|0.45922762', 'manual|0.45805383', 'resolve|0.45552617', 'record|0.45463818', 'donor|0.45457077', 'courteous|0.45221728', 'school|0.44661593', 'establish|0.44256616', 'type|0.44082993', 'medical|0.43240318', 'ensure|0.43074897', 'terminology|0.4307335', 'day|0.43064928', 'point|0.42843905', 'requirement|0.42683405', 'sensitivity|0.4248773', 'location|0.42339784', 'm|0.42338598', 'quality|0.42300037', 'xx|0.42296058', 'critical|0.42227203', 'comfortable|0.41933617', 'speaking|0.41858387', 'supervisor|0.41780412', 'wpm|0.41779107', 'program|0.41710776', 'hospital|0.41692984', 'outlined|0.41642836', 'staff|0.41535333', 'list|0.41530687', 'seattle|0.4150197', 'sufficient|0.41460466', 'run|0.41435692', 'opportunity|0.41348788', 'treatment|0.4131891', 'month|0.41250843', 'form|0.40990043', 'proficiency|0.4096949', 'solid|0.40869498', 'make|0.40858492', 'provider|0.40844244', 'enters|0.40771818', 'ethnic|0.40703338', 'employer|0.4067073', 'technology|0.40538847', 'care|0.40486455', 'judgment|0.4039608', 'desire|0.4025418', 'code|0.40175903', 'individual|0.40161592', 'employee|0.40158528', 'minute|0.40114856', 'solution|0.40082675', 'equal|0.39932677', 'diploma|0.39891607', 'carry|0.39797208', 'passion|0.39761552', 'clear|0.3974485', 'obtaining|0.39712623', 'action|0.39698654', 'suite|0.39691985', 'deal|0.39643124', 'also|0.3960207', 'conflict|0.39522502', 'family|0.39492217', 'people|0.39386374', 'relate|0.39373642', 'greeting|0.3935123', 'current|0.3923747', 'career|0.39221478', 'job|0.39219263', 'resource|0.3918163', 'place|0.39143956', 'personable|0.39018995', 'cultural|0.38944113', 'independent|0.3888952', 'org|0.38783798', 'monitor|0.38770074', 'assist|0.38718745', 'animal|0.38705805', 'based|0.38651714', 'regulation|0.38606504', 'making|0.38593906']\n",
            "Aspect 1:\n",
            "['company|0.59601057', 'www|0.5878909', 'information|0.5699764', 'please|0.5162303', 'center|0.5032104', 'department|0.50223887', 'donor|0.49730197', 'federal|0.48258585', 'reservation|0.47235113', 'source|0.47010237', 'guideline|0.4663307', 'see|0.45541793', 'provide|0.45276192', 'client|0.45215517', 'payment|0.44977817', 'professionally|0.44864717', 'deal|0.44338077', 'may|0.44035894', 'staff|0.43479317', 'reporting|0.42722994', 'receives|0.42714626', 'get|0.4260015', 'ensure|0.4238272', 'list|0.42201716', 'hour|0.41848975', 'condition|0.41766903', 'firm|0.41443253', 'regulation|0.41330996', 'form|0.4115822', 'daily|0.41025585', 'according|0.40877542', 'org|0.40781206', 'update|0.40774506', 'apply|0.40487272', 'collecting|0.40425146', 'com|0.4042429', 'departmental|0.4033677', 'u|0.40050578', 'run|0.39701456', 'licensing|0.39563847', 'procedure|0.39561847', 'diverse|0.39507377', 'co|0.39506012', 'material|0.39383352', 'requires|0.3931173', 'set|0.3926285', 'opportunity|0.38809758', 'outlined|0.38689893', 'approach|0.38643622', 'manual|0.38574722', 'sensitivity|0.38550812', 'support|0.38196415', 'obtaining|0.37980515', 'mail|0.37975794', 'comfortable|0.37863535', 'proprietary|0.3778159', 'make|0.37776715', 'question|0.37715626', 'resource|0.37698996', 'record|0.3763756', 'equal|0.37636107', 'care|0.37478632', 'using|0.374114', 'value|0.3740301', 'communicates|0.37355238', 'supervisor|0.37300017', 'assistance|0.3707154', 'xx|0.36786538', 'authorization|0.36665648', 'individual|0.36505336', 'determines|0.36184734', 'xxx|0.36158764', 'xxxx|0.3614477', 'insurance|0.36064798', 'immediately|0.36058614', 'greets|0.35874408', 'shift|0.35496524', 'program|0.3543753', 'role|0.3543258', 'human|0.3542468', 'applying|0.35402948', 'volunteer|0.3530025', 'team|0.35234818', 'speaking|0.34946015', 'job|0.34891638', 'range|0.34628072', 'diversity|0.34509546', 'career|0.3438271', 'resolve|0.34192953', 'incoming|0.3405019', 'right|0.33979017', 'judgment|0.33947417', 'independent|0.3392706', 'employer|0.3391259', 'website|0.33891255', 'expectation|0.3389022', 'relevant|0.33848444', 'completes|0.33695105', 'place|0.3352695', 'clinical|0.33295077']\n",
            "Aspect 2:\n",
            "['ability|0.8886132', 'task|0.8696375', 'badge|0.77371895', 'issuing|0.7599598', 'fast|0.74783695', 'safety|0.63705325', 'oriented|0.52253723', 'able|0.4930577', 'transaction|0.47748187', 'variety|0.47257325', 'procedure|0.47253594', 'set|0.46868435', 'complying|0.45812336', 'dynamic|0.4565807', 'm|0.45170262', 'efficiently|0.4503527', 'listen|0.44435415', 'given|0.4355676', 'perform|0.42286158', 'high|0.41939843', 'within|0.41209838', 'potential|0.40648547', 'demeanor|0.4051438', 'word|0.39314133', 'quality|0.39106423', 'logbook|0.38602895', 'monitor|0.3797214', 'charge|0.3752945', 'bank|0.37509346', 'senior|0.37348825', 'com|0.37084025', 'mail|0.36494082', 'controlling|0.34655675', 'via|0.34124747', 'behavior|0.33957702', 'personnel|0.33837503', 'health|0.33761072', 'juggle|0.33711803', 'thrive|0.32694972', 'condition|0.32572705', 'integrity|0.32166195', 'independent|0.31920916', 'clinical|0.31487688', 'adheres|0.31357738', 'short|0.31312567', 'relevant|0.29879016', 'business|0.29649204', 'degree|0.295218', 'guideline|0.2911298', 'full|0.28959677', 'cultural|0.28600746', 'point|0.28581968', 'machine|0.2855392', 'assignment|0.28162548', 'u|0.2815309', 'upon|0.28073785', 'performance|0.28065258', 'local|0.2790991', 'passion|0.27889392', 'common|0.27810353', 'us|0.27396426', 'job|0.2708419', 'clinic|0.2708178', 'without|0.26866776', 'using|0.26866245', 'setting|0.2642678', 'forward|0.26297474', 'atmosphere|0.26280785', 'appointment|0.25894755', 'offer|0.25866288', 'interruption|0.25797817', 'across|0.2571262', 'terminology|0.25682268', 'support|0.2551996', 'reservation|0.25307345', 'animal|0.25036108', 'greet|0.24946378', 'role|0.2490046', 'matter|0.24853255', 'willing|0.24770112', 'important|0.24603185', 'judgment|0.24253431', 'option|0.24093239', 'verbally|0.24070977', 'care|0.2397312', 'demand|0.2392022', 'goal|0.23754703', 'determines|0.23607033', 'produce|0.23542918', 'assistance|0.23465991', 'cashing|0.23247924', 'month|0.23225527', 'keep|0.2321285', 'ethic|0.23178145', 'opportunity|0.23071028', 'sign|0.22856668', 'supervisor|0.2268857', 'pet|0.22632349', 'xx|0.22614318', 'previous|0.2256768']\n",
            "Aspect 3:\n",
            "['skill|0.6297987', 'strong|0.6291795', 'verbal|0.59095514', 'organized|0.5467912', 'clear|0.5350372', 'communication|0.52623045', 'verbally|0.5148807', 'oriented|0.50811267', 'people|0.48792118', 'experience|0.47376475', 'relation|0.4722137', 'able|0.4717551', 'etiquette|0.4687493', 'telephone|0.46108675', 'degree|0.4546034', 'starter|0.45228505', 'looking|0.44757596', 'courteous|0.4419995', 'ethic|0.4314823', 'within|0.41776538', 'demeanor|0.4172815', 'sign|0.4119955', 'energetic|0.4087602', 'compassion|0.40752485', 'rapport|0.40742144', 'individual|0.40697655', 'demand|0.3968045', 'action|0.3939885', 'assistant|0.3918767', 'critical|0.38390523', 'high|0.38263264', 'word|0.3766266', 'important|0.37198102', 'given|0.37094146', 'fast|0.3636943', 'across|0.35929087', 'full|0.35543728', 'also|0.348512', 'successfully|0.34581947', 'willing|0.34516716', 'assist|0.3432114', 'dynamic|0.33828792', 'using|0.33714998', 'greet|0.33649915', 'xx|0.33532315', 'health|0.33480346', 'requirement|0.33337465', 'clinical|0.3323692', 'code|0.32662928', 'driven|0.322744', 'resolve|0.32214344', 'establish|0.3207619', 'receipt|0.3177063', 'short|0.31593883', 'business|0.31224936', 'solid|0.31030396', 'solution|0.30996454', 'personality|0.30761343', 'benefit|0.3073235', 'variety|0.30708715', 'school|0.3069939', 'option|0.305259', 'proficiency|0.30501524', 'efficiently|0.30394667', 'enthusiastic|0.30295706', 'record|0.30272824', 'thinking|0.3017971', 'advanced|0.30017436', 'produce|0.2992266', 'situation|0.29663727', 'machine|0.29600254', 'common|0.29533207', 'issuing|0.29436076', 'gather|0.293051', 'wpm|0.28807926', 'hospital|0.28764665', 'orally|0.28400484', 'adheres|0.28334132', 'matter|0.27913848', 'requires|0.27788287', 'conflict|0.27383777', 'day|0.2737293', 'someone|0.27232993', 'case|0.2719362', 'technical|0.2690949', 'procedure|0.26768628', 'make|0.26726973', 'prepares|0.2668794', 'medical|0.26677507', 'cashing|0.2660728', 'personnel|0.26567328', 'according|0.26499513', 'month|0.26458997', 'charge|0.26450762', 'diploma|0.26241374', 'making|0.26128894', 'job|0.25945324', 'associate|0.25583583', 'badge|0.25488383', 'atmosphere|0.25399032']\n",
            "Aspect 4:\n",
            "['apply|0.6068059', 'company|0.59998035', 'departmental|0.57787657', 'guideline|0.53259677', 'information|0.5176914', 'department|0.4989738', 'www|0.49798143', 'client|0.4734578', 'please|0.46397048', 'may|0.4630725', 'deal|0.46260566', 'provide|0.46125397', 'resource|0.45569277', 'see|0.451365', 'set|0.4499849', 'obtaining|0.4410353', 'professionally|0.44095188', 'reporting|0.43927342', 'immediately|0.4392682', 'reservation|0.43827912', 'licensing|0.4366777', 'ensure|0.4349742', 'approach|0.43282714', 'job|0.43060338', 'xxxx|0.42403996', 'regulation|0.42401272', 'procedure|0.42342836', 'daily|0.42288843', 'volunteer|0.41864908', 'coworkers|0.41812217', 'firm|0.41569686', 'com|0.41547143', 'diverse|0.4147501', 'list|0.41443932', 'question|0.41129318', 'according|0.40737244', 'judgment|0.40647706', 'supervisor|0.4047802', 'org|0.40421253', 'sensitivity|0.40101606', 'staff|0.39917493', 'expectation|0.39788014', 'determines|0.39681938', 'value|0.39546454', 'source|0.39381993', 'proprietary|0.39222005', 'update|0.3906526', 'executive|0.38957766', 'u|0.38303024', 'condition|0.381764', 'keep|0.38061565', 'donor|0.37756383', 'support|0.37531835', 'completes|0.37517446', 'human|0.37286943', 'email|0.3727113', 'program|0.3724412', 'care|0.3721283', 'potential|0.37162745', 'understands|0.37121978', 'clinical|0.36988372', 'using|0.36902165', 'resolve|0.36892393', 'store|0.3688224', 'place|0.3688069', 'xxx|0.36727595', 'career|0.36601466', 'authorization|0.36589518', 'respond|0.3657942', 'material|0.36497933', 'get|0.3634509', 'answer|0.36136186', 'perform|0.36051977', 'via|0.36001', 'situation|0.35994154', 'opportunity|0.35993916', 'location|0.35993728', 'calendar|0.359603', 'incoming|0.3579572', 'make|0.35696062', 'integrity|0.35622835', 'applying|0.35467362', 'assistance|0.35457534', 'relevant|0.35445395', 'outlined|0.35423064', 'manual|0.3541566', 'receipt|0.3540403', 'run|0.35282218', 'receives|0.35075372', 'insurance|0.3499704', 'equal|0.3497875', 'administration|0.34897047', 'right|0.34831285', 'role|0.3482489', 'diversity|0.34802312', 'seattle|0.34777296', 'personnel|0.3474437', 'form|0.34695405', 'federal|0.34656602', 'critical|0.3452672']\n",
            "Aspect 5:\n",
            "['skill|0.7149295', 'verbal|0.638585', 'communication|0.614529', 'strong|0.590278', 'experience|0.5748722', 'looking|0.5576728', 'people|0.52050644', 'assistant|0.51386255', 'requirement|0.5056226', 'relation|0.50101423', 'personality|0.4996776', 'degree|0.48695645', 'demeanor|0.46793112', 'clear|0.4652587', 'organized|0.46479192', 'plus|0.4470296', 'energetic|0.43824476', 'etiquette|0.43060523', 'oriented|0.42469186', 'someone|0.4229302', 'also|0.41774774', 'telephone|0.41321492', 'successfully|0.41275877', 'full|0.40515804', 'ethic|0.4013754', 'option|0.4003945', 'compassion|0.38595474', 'high|0.38373357', 'new|0.3719004', 'able|0.3637971', 'driven|0.35930622', 'record|0.35684562', 'word|0.3561622', 'health|0.3540539', 'experienced|0.34981787', 'action|0.349383', 'associate|0.34865648', 'greeting|0.3472991', 'greet|0.346299', 'local|0.34527832', 'verbally|0.33877397', 'establish|0.33586267', 'across|0.33573782', 'starter|0.33144915', 'warm|0.32966316', 'sign|0.32840934', 'within|0.32767797', 'technology|0.3259067', 'given|0.32459956', 'solid|0.32314202', 'xx|0.32240367', 'willing|0.32221526', 'rapport|0.32086492', 'm|0.3203519', 'vendor|0.31266376', 'solution|0.3097522', 'courteous|0.3082072', 'school|0.30129457', 'individual|0.3001898', 'fast|0.29957238', 'using|0.2973006', 'desire|0.29541036', 'clinical|0.29511216', 'medical|0.29488006', 'benefit|0.29483917', 'adheres|0.28921184', 'assist|0.28827924', 'requires|0.288047', 'cashing|0.28589588', 'property|0.28373155', 'enthusiastic|0.28299576', 'hospital|0.2827506', 'important|0.28175467', 'answering|0.27996123', 'technical|0.279464', 'setting|0.27827644', 'proficiency|0.27775156', 'diploma|0.27728388', 'critical|0.27307394', 'wpm|0.2712805', 'matter|0.27040058', 'short|0.26869333', 'demand|0.26754725', 'dynamic|0.26543194', 'addition|0.26223302', 'produce|0.26151246', 'personnel|0.26040703', 'day|0.26016364', 'making|0.25629354', 'business|0.25610635', 'code|0.25609857', 'resolve|0.25526345', 'explain|0.24903321', 'hour|0.2460084', 'form|0.24521638', 'opportunity|0.24472785', 'transaction|0.24416453', 'concern|0.24309379', 'case|0.23993891', 'month|0.23992005']\n"
          ],
          "name": "stdout"
        },
        {
          "output_type": "stream",
          "text": [
            "100%|██████████| 81/81 [00:01<00:00, 65.44it/s]\n",
            "2019-12-05 21:17:36,400 INFO Epoch 5, train: 1s\n",
            "2019-12-05 21:17:36,401 INFO Total loss: 0.5295, max_margin_loss: 0.5217, ortho_reg: 0.0078\n",
            "  0%|          | 0/81 [00:00<?, ?it/s]"
          ],
          "name": "stderr"
        },
        {
          "output_type": "stream",
          "text": [
            "Aspect 0:\n",
            "['data|0.59275544', 'explain|0.5324309', 'answering|0.52121985', 'benefit|0.5211781', 'client|0.52052546', 'co|0.5163245', 'specific|0.5163007', 'thinking|0.5151909', 'plus|0.50865483', 'experienced|0.5084314', 'hour|0.5059738', 'question|0.49929568', 'manual|0.47587565', 'donor|0.4752167', 'local|0.47479558', 'diversity|0.47345704', 'new|0.465841', 'xx|0.46560973', 'school|0.46313947', 'answer|0.46133757', 'proficiency|0.4601046', 'establish|0.458306', 'medical|0.45566544', 'wpm|0.45331562', 'ensure|0.45268887', 'resolve|0.44907415', 'insurance|0.44817525', 'point|0.44793037', 'greeting|0.4476388', 'day|0.44660586', 'technology|0.4463278', 'solid|0.44576654', 'program|0.44402543', 'desire|0.4427415', 'critical|0.44116843', 'diverse|0.4398203', 'terminology|0.43913573', 'courteous|0.43778086', 'sensitivity|0.43643785', 'quality|0.4358129', 'sufficient|0.4354731', 'list|0.4333728', 'comfortable|0.43319875', 'location|0.43237445', 'run|0.43231407', 'treatment|0.43209243', 'make|0.43092373', 'outlined|0.43078125', 'month|0.4303126', 'carry|0.4275868', 'diploma|0.4272434', 'opportunity|0.42717516', 'hospital|0.4270838', 'seattle|0.4268823', 'supervisor|0.42686176', 'staff|0.42631614', 'speaking|0.42564708', 'care|0.42275748', 'suite|0.4212466', 'judgment|0.42097318', 'utilize|0.42065573', 'employer|0.4202152', 'action|0.4201426', 'form|0.41995347', 'clear|0.41974822', 'passion|0.41972184', 'animal|0.41914892', 'provider|0.41791326', 'making|0.417417', 'solution|0.4173988', 'm|0.41596708', 'career|0.41592684', 'family|0.412877', 'people|0.41266888', 'employee|0.4117561', 'equal|0.41140082', 'also|0.41103727', 'spanish|0.4104491', 'minute|0.4104318', 'personnel|0.4086777', 'record|0.40856975', 'conflict|0.40775514', 'previous|0.4069597', 'requirement|0.40652394', 'respond|0.4065119', 'place|0.40608716', 'relate|0.40568975', 'light|0.40450442', 'requires|0.40449053', 'org|0.4043095', 'deal|0.4025522', 'upon|0.4016363', 'code|0.40138054', 'addition|0.40102756', 'individual|0.3997586', 'shift|0.39794308', 'create|0.39769453', 'least|0.39596647', 'prepares|0.3959332', 'assistant|0.3956779']\n",
            "Aspect 1:\n",
            "['company|0.60869277', 'www|0.57708204', 'information|0.5501125', 'donor|0.54392016', 'center|0.51845497', 'department|0.50325596', 'please|0.5023711', 'client|0.46511793', 'reservation|0.45990947', 'receives|0.4577783', 'see|0.45684272', 'federal|0.4539287', 'ensure|0.44830656', 'professionally|0.44398203', 'provide|0.4426184', 'staff|0.43988198', 'may|0.43909714', 'guideline|0.43909085', 'licensing|0.43738866', 'reporting|0.4351811', 'condition|0.43437403', 'daily|0.43216202', 'departmental|0.4265734', 'form|0.424438', 'list|0.4242728', 'sensitivity|0.4239357', 'get|0.42205346', 'update|0.42173755', 'firm|0.41682655', 'collecting|0.41558158', 'org|0.41494685', 'u|0.41445255', 'run|0.41438767', 'according|0.41294512', 'xx|0.41255242', 'manual|0.41208488', 'deal|0.41107726', 'question|0.41093552', 'set|0.40824604', 'expectation|0.4052642', 'mail|0.40345788', 'approach|0.40285462', 'make|0.40055233', 'support|0.3996709', 'apply|0.3964834', 'xxxx|0.39606303', 'hour|0.39520478', 'com|0.39434168', 'outlined|0.3921408', 'requires|0.38998604', 'care|0.38937366', 'co|0.3881022', 'procedure|0.38752043', 'opportunity|0.38199243', 'team|0.380609', 'equal|0.3798926', 'answering|0.37900436', 'value|0.37792945', 'using|0.37603357', 'source|0.3744942', 'communicates|0.3742529', 'range|0.3733512', 'volunteer|0.37263864', 'regulation|0.37260073', 'case|0.3718232', 'obtaining|0.37038344', 'comfortable|0.3702054', 'supervisor|0.36867815', 'independent|0.36783987', 'determines|0.3657052', 'human|0.36546898', 'respond|0.36490157', 'assistance|0.36275166', 'diversity|0.3626402', 'program|0.36153764', 'judgment|0.36106813', 'completes|0.3603164', 'individual|0.35968542', 'xxx|0.35879707', 'material|0.35868835', 'least|0.3566259', 'potential|0.35562468', 'applying|0.35501108', 'immediately|0.3533773', 'diverse|0.35191935', 'right|0.3505047', 'role|0.35047543', 'career|0.34849715', 'employer|0.34623075', 'greets|0.3461321', 'shift|0.3458139', 'charge|0.34472996', 'monitor|0.34365115', 'job|0.34361634', 'speaking|0.34267378', 'clinical|0.34244275', 'employment|0.33768934', 'pet|0.33662006', 'school|0.33629537', 'card|0.33573562']\n",
            "Aspect 2:\n",
            "['task|0.87141997', 'ability|0.86876965', 'badge|0.76492393', 'issuing|0.75299835', 'fast|0.7033528', 'safety|0.6345876', 'm|0.55330276', 'able|0.5314697', 'procedure|0.5192107', 'oriented|0.5148665', 'complying|0.51415503', 'transaction|0.48377505', 'listen|0.48288867', 'variety|0.46703377', 'given|0.46660376', 'perform|0.46407977', 'set|0.44786698', 'dynamic|0.4476893', 'bank|0.43347725', 'com|0.4325064', 'word|0.4201434', 'monitor|0.41784745', 'efficiently|0.41494918', 'independent|0.41457766', 'charge|0.41281003', 'quality|0.4123519', 'potential|0.3958216', 'demeanor|0.39257932', 'cultural|0.39231753', 'health|0.38722956', 'senior|0.38405377', 'within|0.38401872', 'machine|0.37873447', 'job|0.3611785', 'local|0.3584296', 'us|0.3575697', 'point|0.35639817', 'starter|0.35597575', 'high|0.34504038', 'clinical|0.34227464', 'full|0.33848268', 'business|0.33331525', 'controlling|0.33263537', 'reservation|0.33042207', 'condition|0.32890904', 'terminology|0.3274699', 'u|0.32181853', 'degree|0.3181789', 'upon|0.3157293', 'using|0.31440905', 'integrity|0.31414872', 'personnel|0.31403226', 'thrive|0.3107272', 'relevant|0.3097225', 'offer|0.3081586', 'clinic|0.30682728', 'adheres|0.30512482', 'short|0.3020355', 'setting|0.30145562', 'behavior|0.30095416', 'keep|0.3008812', 'code|0.3006606', 'reporting|0.29955542', 'determines|0.2977266', 'logbook|0.29594705', 'mail|0.29203722', 'willing|0.2915318', 'without|0.2901783', 'passion|0.28772473', 'common|0.28751516', 'important|0.28602493', 'driven|0.28448397', 'greet|0.28406036', 'support|0.28384367', 'performance|0.28281003', 'making|0.28177506', 'material|0.2798334', 'across|0.2775631', 'relate|0.27512628', 'forward|0.27409953', 'ethic|0.27404553', 'verbally|0.27336335', 'demand|0.27067572', 'diverse|0.27046043', 'juggle|0.26793778', 'courteous|0.26570466', 'compassion|0.2647634', 'opportunity|0.26332003', 'role|0.2632653', 'record|0.2620033', 'receipt|0.26045313', 'form|0.2586026', 'care|0.2568564', 'according|0.2555361', 'month|0.25329113', 'looking|0.2524485', 'previous|0.25216532', 'applying|0.2508866', 'matter|0.24996686', 'xxxx|0.249808']\n",
            "Aspect 3:\n",
            "['strong|0.63789785', 'skill|0.63124025', 'verbal|0.6063317', 'organized|0.60035914', 'communication|0.5830424', 'clear|0.552186', 'oriented|0.5184562', 'verbally|0.50918233', 'starter|0.5043001', 'people|0.49318767', 'relation|0.4819123', 'courteous|0.4667119', 'looking|0.45532838', 'degree|0.45450133', 'etiquette|0.4531175', 'ethic|0.45091462', 'able|0.44523904', 'energetic|0.42723784', 'individual|0.42423633', 'demeanor|0.42320612', 'within|0.42034152', 'assistant|0.41915715', 'compassion|0.41786808', 'sign|0.4109854', 'action|0.3992812', 'word|0.39657387', 'critical|0.3953534', 'new|0.39216202', 'record|0.39022237', 'experience|0.38789287', 'successfully|0.3864192', 'important|0.3826681', 'fast|0.3795235', 'demand|0.37884605', 'across|0.37554067', 'greet|0.3748781', 'resolve|0.37147948', 'also|0.3713894', 'rapport|0.36848003', 'requirement|0.36653566', 'high|0.36604854', 'code|0.36567178', 'efficiently|0.3630703', 'full|0.36130545', 'given|0.35976762', 'health|0.35611975', 'assist|0.3530532', 'gather|0.349853', 'situation|0.34743828', 'plus|0.3470729', 'using|0.3467223', 'willing|0.34475428', 'clinical|0.34354672', 'option|0.34337264', 'associate|0.34228364', 'machine|0.33587396', 'dynamic|0.33219838', 'establish|0.33140278', 'driven|0.33131778', 'vendor|0.31830123', 'hospital|0.31810632', 'requires|0.31542373', 'variety|0.3150525', 'short|0.31479234', 'matter|0.314432', 'issuing|0.3131581', 'local|0.31208003', 'property|0.31176755', 'cashing|0.31087312', 'solid|0.30975413', 'proficiency|0.3092183', 'xx|0.30667093', 'school|0.30637777', 'solution|0.3013073', 'produce|0.30066925', 'receipt|0.29899144', 'common|0.2955342', 'job|0.29515165', 'safety|0.2950808', 'prepares|0.29450053', 'medical|0.29342762', 'procedure|0.28783548', 'enthusiastic|0.28404528', 'business|0.28337973', 'day|0.28178132', 'badge|0.27996662', 'adheres|0.2775457', 'experienced|0.27750576', 'conflict|0.2770794', 'cultural|0.27560046', 'staff|0.2742358', 'utilize|0.27357745', 'according|0.2723053', 'clinic|0.27021664', 'upon|0.26911086', 'thinking|0.26778138', 'making|0.26692623', 'determines|0.26569134', 'relevant|0.2628967', 'deal|0.26140276']\n",
            "Aspect 4:\n",
            "['company|0.60255194', 'departmental|0.5920197', 'apply|0.58947724', 'guideline|0.50814337', 'information|0.5067846', 'www|0.4994183', 'department|0.49929458', 'client|0.48294735', 'licensing|0.47248167', 'may|0.46441573', 'provide|0.4602852', 'see|0.457906', 'please|0.45744687', 'ensure|0.45515743', 'set|0.4539694', 'reporting|0.45310375', 'daily|0.45173377', 'expectation|0.45066532', 'xxxx|0.45018834', 'approach|0.44573045', 'reservation|0.44148308', 'coworkers|0.4405317', 'question|0.4392145', 'professionally|0.43473634', 'immediately|0.434394', 'sensitivity|0.42808044', 'volunteer|0.4272914', 'deal|0.4266364', 'job|0.4228088', 'judgment|0.42209154', 'obtaining|0.41884708', 'procedure|0.41766202', 'list|0.417544', 'donor|0.416655', 'com|0.41541553', 'firm|0.41373926', 'according|0.412769', 'org|0.4091491', 'respond|0.40891385', 'staff|0.40800932', 'store|0.40377617', 'email|0.4036141', 'u|0.4014169', 'supervisor|0.40073735', 'potential|0.39930105', 'value|0.39765415', 'perform|0.3973335', 'update|0.397309', 'via|0.39658165', 'completes|0.39625123', 'support|0.3958062', 'condition|0.39417988', 'diverse|0.39225495', 'executive|0.39161402', 'determines|0.389407', 'receipt|0.38673437', 'human|0.38661817', 'care|0.38633913', 'receives|0.38568252', 'regulation|0.38535988', 'resource|0.38188362', 'keep|0.381423', 'make|0.3770916', 'using|0.376181', 'program|0.37547904', 'variety|0.3746401', 'clinical|0.373298', 'place|0.3698442', 'xxx|0.36932284', 'run|0.36920503', 'personnel|0.36918044', 'understands|0.36902866', 'collecting|0.36750853', 'form|0.36527306', 'career|0.3649131', 'least|0.36476505', 'diversity|0.364695', 'critical|0.3632516', 'outlined|0.36288542', 'manual|0.36185417', 'seattle|0.3618015', 'integrity|0.36141798', 'get|0.36110055', 'applying|0.36044437', 'right|0.35941094', 'offer|0.35899484', 'calendar|0.35888627', 'range|0.3577753', 'monitor|0.35704136', 'card|0.35561323', 'independent|0.35398334', 'opportunity|0.35392195', 'appointment|0.35148215', 'xx|0.35119212', 'conflict|0.3499246', 'relevant|0.34955192', 'individual|0.34952354', 'assistance|0.3494323', 'resolve|0.34886983', 'listen|0.3476648']\n",
            "Aspect 5:\n",
            "['skill|0.69580984', 'communication|0.6652643', 'verbal|0.6563133', 'strong|0.57623553', 'requirement|0.5673526', 'looking|0.54647267', 'organized|0.538414', 'people|0.52621543', 'experience|0.52424324', 'plus|0.5233767', 'assistant|0.5150323', 'relation|0.51166445', 'new|0.4996832', 'clear|0.48944998', 'personality|0.48510963', 'degree|0.4768842', 'demeanor|0.4731867', 'energetic|0.45695114', 'experienced|0.45496374', 'successfully|0.45005786', 'oriented|0.4469205', 'also|0.43852', 'option|0.43445736', 'ethic|0.4252224', 'associate|0.41620556', 'record|0.41180593', 'full|0.39956626', 'high|0.39226452', 'compassion|0.39023012', 'greet|0.3870388', 'etiquette|0.38521022', 'local|0.38406846', 'warm|0.38035613', 'word|0.37727338', 'starter|0.3759731', 'vendor|0.374263', 'verbally|0.3636489', 'health|0.36299905', 'technology|0.36280075', 'someone|0.36261988', 'action|0.36232707', 'across|0.35271862', 'driven|0.351311', 'courteous|0.35072303', 'establish|0.34742236', 'property|0.3460299', 'able|0.34266576', 'cashing|0.34027547', 'within|0.33389863', 'sign|0.3315661', 'individual|0.33002287', 'setting|0.3256119', 'requires|0.32481033', 'fast|0.3242143', 'solid|0.32370475', 'medical|0.32278273', 'resolve|0.3187817', 'willing|0.31825292', 'given|0.3172681', 'hour|0.3161484', 'hospital|0.31300947', 'clinical|0.31112987', 'matter|0.30943075', 'using|0.30647987', 'important|0.30263254', 'school|0.3012748', 'solution|0.29819947', 'regulation|0.2972204', 'desire|0.29216057', 'xx|0.29137003', 'addition|0.2902512', 'code|0.2896746', 'adheres|0.2873379', 'assist|0.2862665', 'proficiency|0.2814236', 'critical|0.2783871', 'short|0.2775737', 'concern|0.27143955', 'day|0.27139592', 'determines|0.26927626', 'produce|0.2690128', 'dynamic|0.26759958', 'machine|0.26730606', 'staff|0.26654056', 'situation|0.26624972', 'opportunity|0.265595', 'applying|0.2653193', 'safety|0.26115406', 'diploma|0.25950336', 'enthusiastic|0.25860485', 'making|0.25749594', 'personnel|0.25705874', 'rapport|0.25698012', 'create|0.25462645', 'demand|0.2532199', 'clinic|0.2529956', 'prepares|0.2529462', 'form|0.252622', 'willingness|0.25219622', 'transaction|0.2473149']\n"
          ],
          "name": "stdout"
        },
        {
          "output_type": "stream",
          "text": [
            "100%|██████████| 81/81 [00:01<00:00, 63.62it/s]\n",
            "2019-12-05 21:17:37,817 INFO Epoch 6, train: 1s\n",
            "2019-12-05 21:17:37,821 INFO Total loss: 0.3450, max_margin_loss: 0.3398, ortho_reg: 0.0052\n",
            "  0%|          | 0/81 [00:00<?, ?it/s]"
          ],
          "name": "stderr"
        },
        {
          "output_type": "stream",
          "text": [
            "Aspect 0:\n",
            "['data|0.6127641', 'answering|0.54127556', 'benefit|0.5373074', 'specific|0.5355133', 'co|0.52763796', 'client|0.5241127', 'thinking|0.52225375', 'plus|0.5216998', 'experienced|0.52165306', 'hour|0.51544964', 'question|0.51125145', 'proficiency|0.501534', 'explain|0.49542964', 'xx|0.4923681', 'diversity|0.48665762', 'manual|0.478078', 'establish|0.47378883', 'least|0.46503392', 'medical|0.46502244', 'wpm|0.46471164', 'donor|0.4628606', 'ensure|0.46224284', 'solid|0.46105853', 'point|0.4607751', 'local|0.46059284', 'program|0.4605321', 'school|0.45863265', 'day|0.45705014', 'desire|0.45683366', 'sensitivity|0.45676994', 'resolve|0.45605668', 'new|0.455353', 'answer|0.4536006', 'terminology|0.45080885', 'sufficient|0.45073104', 'suite|0.44871485', 'quality|0.44819528', 'seattle|0.44690305', 'supervisor|0.44686458', 'month|0.4464965', 'list|0.4464769', 'critical|0.445566', 'diverse|0.44443074', 'carry|0.4433004', 'make|0.4428555', 'comfortable|0.44224966', 'utilize|0.44208366', 'outlined|0.4416407', 'judgment|0.44156414', 'greeting|0.44000322', 'hospital|0.43989542', 'opportunity|0.43880546', 'staff|0.4386143', 'run|0.4374828', 'care|0.437265', 'conflict|0.4363736', 'personnel|0.43533063', 'location|0.4352888', 'passion|0.4334838', 'animal|0.4330142', 'light|0.43242204', 'courteous|0.43210918', 'previous|0.4318293', 'speaking|0.43182242', 'diploma|0.43180728', 'employer|0.4315685', 'form|0.43128935', 'treatment|0.43093318', 'career|0.43064594', 'making|0.42930084', 'solution|0.4265203', 'spanish|0.42417005', 'insurance|0.4218203', 'addition|0.42111975', 'equal|0.42106023', 'place|0.42100608', 'personality|0.4209047', 'org|0.41989118', 'provider|0.41914994', 'demand|0.4181665', 'requires|0.41505742', 'also|0.41492188', 'upon|0.41478622', 'collecting|0.41445935', 'team|0.4138212', 'technology|0.41323903', 'prepares|0.41317412', 'create|0.4125242', 'setting|0.41167682', 'respond|0.41137627', 'minute|0.41022736', 'deal|0.41019544', 'support|0.40932196', 'unit|0.4088139', 'm|0.40863284', 'family|0.40816247', 'interest|0.40773788', 'code|0.4074259', 'assistant|0.40668756', 'shift|0.40650812']\n",
            "Aspect 1:\n",
            "['company|0.60944295', 'www|0.5625073', 'donor|0.5616557', 'information|0.55061704', 'receives|0.52393466', 'center|0.51853067', 'department|0.5003741', 'please|0.48600867', 'client|0.4790366', 'licensing|0.46948564', 'xx|0.4618588', 'ensure|0.4591191', 'see|0.45652843', 'reservation|0.4459039', 'get|0.44239664', 'may|0.43915826', 'sensitivity|0.438856', 'daily|0.43872088', 'form|0.43856615', 'staff|0.4332165', 'condition|0.43204862', 'departmental|0.42672187', 'professionally|0.4259179', 'u|0.4250065', 'set|0.42484897', 'question|0.42336106', 'collecting|0.42322135', 'approach|0.41992173', 'reporting|0.41923648', 'list|0.41816598', 'org|0.41812932', 'apply|0.41681227', 'support|0.41526788', 'answering|0.41287726', 'expectation|0.4091694', 'federal|0.40877026', 'according|0.4086795', 'run|0.4064644', 'least|0.406346', 'update|0.40574837', 'mail|0.40148962', 'guideline|0.4008131', 'care|0.39961615', 'make|0.39949715', 'xxxx|0.39862132', 'manual|0.3983333', 'outlined|0.39759722', 'range|0.3956794', 'email|0.3950201', 'deal|0.39311403', 'firm|0.392133', 'procedure|0.3893696', 'team|0.38610178', 'requires|0.38546368', 'opportunity|0.3829583', 'com|0.3827034', 'case|0.38011214', 'equal|0.3798827', 'value|0.3790969', 'using|0.37829268', 'diversity|0.3770937', 'co|0.3761773', 'potential|0.3756016', 'communicates|0.3747081', 'hour|0.37421095', 'independent|0.37314165', 'volunteer|0.371746', 'human|0.3692628', 'career|0.36880016', 'role|0.3682209', 'provide|0.36620483', 'personnel|0.36572486', 'immediately|0.36257547', 'determines|0.36235416', 'keep|0.36234525', 'comfortable|0.36194006', 'completes|0.36013645', 'respond|0.35951018', 'applying|0.3590247', 'variety|0.35794118', 'judgment|0.35682285', 'regulation|0.35572898', 'senior|0.35561562', 'xxx|0.3529789', 'light|0.3517693', 'pet|0.35160834', 'right|0.35106847', 'individual|0.3510486', 'monitor|0.35075057', 'credit|0.35069805', 'store|0.3501594', 'employment|0.34983024', 'conflict|0.3497672', 'employer|0.34959248', 'supervisor|0.34892792', 'listen|0.34890622', 'assistance|0.34804118', 'job|0.3476305', 'day|0.3476016', 'shift|0.34742522']\n",
            "Aspect 2:\n",
            "['task|0.8601179', 'ability|0.85469913', 'badge|0.752334', 'issuing|0.7480685', 'fast|0.6957684', 'safety|0.668957', 'm|0.59538996', 'complying|0.59436953', 'able|0.564218', 'procedure|0.5486146', 'oriented|0.5423507', 'variety|0.50195986', 'transaction|0.49875808', 'listen|0.4950984', 'com|0.4826965', 'given|0.4612527', 'bank|0.4586457', 'word|0.44910496', 'charge|0.4471187', 'set|0.446691', 'us|0.44645202', 'senior|0.446052', 'dynamic|0.4342357', 'quality|0.42918843', 'independent|0.4260647', 'reporting|0.4190256', 'local|0.41210842', 'perform|0.41102296', 'monitor|0.41038254', 'demeanor|0.40794727', 'potential|0.40679628', 'cultural|0.40494338', 'job|0.39715528', 'point|0.38861838', 'health|0.3813364', 'machine|0.37725672', 'clinical|0.3771136', 'reservation|0.3729723', 'email|0.37194365', 'condition|0.37034634', 'using|0.36746114', 'starter|0.36701283', 'high|0.35965812', 'full|0.35836622', 'courteous|0.35579598', 'within|0.35321626', 'driven|0.3503781', 'business|0.34929177', 'code|0.34648857', 'degree|0.34282687', 'efficiently|0.33995047', 'determines|0.3389088', 'without|0.33769226', 'passion|0.3363208', 'terminology|0.33082873', 'u|0.32950014', 'keep|0.3290159', 'upon|0.32774553', 'clinic|0.32607228', 'relevant|0.32557717', 'making|0.3242977', 'controlling|0.32241517', 'compassion|0.3203805', 'record|0.31973958', 'material|0.31752557', 'answer|0.3144117', 'range|0.3104488', 'offer|0.30761814', 'assist|0.30452073', 'performance|0.30339074', 'greet|0.3025697', 'adheres|0.30183157', 'diverse|0.30018604', 'setting|0.29894873', 'short|0.29894504', 'across|0.29774988', 'relate|0.29582155', 'according|0.29335403', 'important|0.29273623', 'thrive|0.29241005', 'information|0.29160935', 'support|0.29082683', 'willing|0.28948024', 'looking|0.28803617', 'common|0.2879364', 'ethic|0.2879229', 'form|0.2849748', 'integrity|0.28186154', 'personnel|0.28172338', 'individual|0.28061128', 'verbally|0.2778452', 'assistance|0.2775767', 'behavior|0.277552', 'receipt|0.27708393', 'care|0.27707708', 'school|0.27467722', 'shift|0.2746662', 'opportunity|0.27435258', 'xxxx|0.2726063', 'coworkers|0.2724331']\n",
            "Aspect 3:\n",
            "['verbal|0.62681055', 'skill|0.61580807', 'communication|0.6117605', 'organized|0.60401607', 'clear|0.53677213', 'strong|0.52704376', 'starter|0.5236724', 'oriented|0.5011558', 'verbally|0.49543256', 'relation|0.4827444', 'people|0.46324855', 'ethic|0.45403564', 'degree|0.4522763', 'looking|0.4508747', 'within|0.44359982', 'individual|0.44017324', 'etiquette|0.43885067', 'courteous|0.43239018', 'new|0.43102077', 'demeanor|0.42534566', 'action|0.42532545', 'energetic|0.4248016', 'compassion|0.42107272', 'critical|0.4204595', 'able|0.4200792', 'assistant|0.4189098', 'record|0.4084547', 'efficiently|0.40444997', 'word|0.40387985', 'successfully|0.39750868', 'also|0.39285877', 'across|0.39161512', 'demand|0.38976523', 'associate|0.38954544', 'sign|0.38942075', 'code|0.38492706', 'greet|0.38039404', 'situation|0.3770085', 'important|0.3765729', 'machine|0.37504518', 'high|0.37472978', 'fast|0.3746934', 'rapport|0.3739555', 'resolve|0.37142467', 'given|0.35974956', 'gather|0.3590682', 'vendor|0.35901856', 'assist|0.35815066', 'full|0.3541636', 'option|0.35385895', 'clinical|0.35302812', 'using|0.35272998', 'dynamic|0.34736323', 'health|0.34549785', 'school|0.3448903', 'willing|0.3446748', 'requires|0.34338027', 'requirement|0.3412927', 'property|0.34070456', 'establish|0.3334107', 'plus|0.32698053', 'answer|0.3245042', 'driven|0.32234192', 'solution|0.31941828', 'medical|0.31685287', 'safety|0.31664956', 'hospital|0.31581593', 'local|0.31465393', 'issuing|0.31447822', 'job|0.3110888', 'short|0.3108133', 'variety|0.30726182', 'cashing|0.30719993', 'cultural|0.30635303', 'matter|0.3062287', 'staff|0.3024052', 'procedure|0.30221587', 'receipt|0.30009872', 'determines|0.30000576', 'common|0.29583815', 'adheres|0.29333255', 'according|0.29232606', 'regulation|0.29188687', 'produce|0.2916509', 'badge|0.29141164', 'business|0.289762', 'prepares|0.2885623', 'diploma|0.2872138', 'willingness|0.28648984', 'relate|0.28447798', 'deal|0.28045478', 'task|0.27977413', 'utilize|0.27938482', 'concern|0.2781652', 'thinking|0.27768502', 'day|0.27730766', 'clinic|0.27590635', 'experienced|0.27573287', 'making|0.27523166', 'proficiency|0.27420887']\n",
            "Aspect 4:\n",
            "['company|0.6019119', 'apply|0.59584814', 'departmental|0.58420086', 'information|0.5155131', 'client|0.49869755', 'department|0.49460524', 'www|0.48780158', 'licensing|0.4831567', 'guideline|0.47326082', 'ensure|0.46994212', 'may|0.4680036', 'receives|0.46772346', 'email|0.4647326', 'set|0.4635974', 'daily|0.4614811', 'approach|0.46070626', 'see|0.45655814', 'xxxx|0.45453525', 'expectation|0.45404547', 'sensitivity|0.45181906', 'please|0.44931716', 'immediately|0.44646883', 'coworkers|0.44360232', 'reporting|0.4415559', 'reservation|0.43966872', 'question|0.43824318', 'job|0.4270326', 'volunteer|0.4252687', 'store|0.42377242', 'procedure|0.42352664', 'donor|0.42343485', 'least|0.4159541', 'according|0.41574758', 'personnel|0.41513485', 'potential|0.41491282', 'com|0.4148585', 'org|0.41432652', 'u|0.4136132', 'list|0.41349', 'judgment|0.41156924', 'support|0.41125637', 'professionally|0.40986168', 'deal|0.40614825', 'via|0.40503734', 'care|0.40493852', 'respond|0.40441746', 'staff|0.4036355', 'completes|0.40330434', 'keep|0.40249097', 'value|0.4016378', 'perform|0.40044183', 'xx|0.39731488', 'variety|0.39708543', 'condition|0.39586213', 'credit|0.39522183', 'receipt|0.39430445', 'diverse|0.39368808', 'range|0.39307293', 'firm|0.39271218', 'executive|0.39182907', 'human|0.39008436', 'using|0.38898277', 'career|0.38684198', 'collecting|0.38669902', 'form|0.38540763', 'determines|0.3844627', 'get|0.3815922', 'provide|0.38048702', 'diversity|0.37896687', 'make|0.37818235', 'place|0.37721926', 'answering|0.37648052', 'integrity|0.37625992', 'clinical|0.3759436', 'right|0.3751912', 'update|0.37507486', 'conflict|0.3718866', 'outlined|0.3709407', 'seattle|0.37020195', 'offer|0.36963767', 'supervisor|0.36935532', 'regulation|0.36878884', 'listen|0.36878642', 'monitor|0.36830205', 'xxx|0.36720318', 'obtaining|0.3666212', 'resolve|0.36659634', 'applying|0.36633995', 'orally|0.36527634', 'run|0.3639074', 'independent|0.3626641', 'calendar|0.361808', 'understands|0.36167574', 'card|0.36108655', 'critical|0.3575062', 'opportunity|0.35703647', 'concern|0.3567754', 'role|0.3562448', 'upon|0.35575214', 'suite|0.35538456']\n",
            "Aspect 5:\n",
            "['communication|0.6892816', 'verbal|0.67637503', 'skill|0.6669375', 'requirement|0.57603985', 'organized|0.5520035', 'new|0.53858185', 'looking|0.5360675', 'relation|0.5293815', 'plus|0.52896017', 'assistant|0.50605154', 'personality|0.4930902', 'clear|0.48877257', 'people|0.4885125', 'demeanor|0.47651178', 'strong|0.47614813', 'degree|0.4723617', 'successfully|0.4667539', 'energetic|0.4665283', 'also|0.45678586', 'experienced|0.45307207', 'associate|0.4527635', 'option|0.4447428', 'warm|0.44279385', 'ethic|0.43756118', 'oriented|0.42580172', 'vendor|0.41739717', 'starter|0.41360041', 'record|0.41085142', 'experience|0.4042973', 'high|0.39855215', 'greet|0.39682543', 'compassion|0.391963', 'action|0.39180887', 'full|0.39047575', 'word|0.38108596', 'property|0.37966806', 'verbally|0.37574387', 'across|0.3741468', 'within|0.36906505', 'technology|0.36674708', 'regulation|0.36247867', 'local|0.36198637', 'requires|0.358389', 'health|0.354546', 'establish|0.35290968', 'etiquette|0.35274377', 'individual|0.35184163', 'setting|0.35129732', 'school|0.34925532', 'cashing|0.3491699', 'medical|0.34336126', 'hour|0.33531404', 'addition|0.33355254', 'machine|0.32904395', 'solution|0.32876468', 'driven|0.32850033', 'given|0.32557642', 'willing|0.32528958', 'resolve|0.3249892', 'sign|0.32335022', 'clinical|0.3223562', 'fast|0.32231742', 'able|0.320612', 'attention|0.3197139', 'hospital|0.31878492', 'courteous|0.31729698', 'code|0.31451914', 'using|0.3121965', 'adheres|0.30927092', 'diploma|0.30867192', 'willingness|0.30760613', 'determines|0.3039119', 'important|0.30353436', 'appearance|0.3027632', 'matter|0.30201772', 'staff|0.29892382', 'efficiently|0.29846868', 'situation|0.29839498', 'critical|0.29651743', 'dynamic|0.29402983', 'supervisor|0.29379842', 'create|0.29151377', 'concern|0.28964633', 'assist|0.28844047', 'demand|0.28344303', 'applying|0.28205413', 'opportunity|0.28131163', 'short|0.27936208', 'someone|0.2760768', 'safety|0.27057725', 'desire|0.2688549', 'day|0.26653618', 'solid|0.2663437', 'produce|0.26594797', 'making|0.26531103', 'clinic|0.26443475', 'according|0.26388207', 'light|0.2610448', 'rapport|0.2606344', 'transaction|0.26011628']\n"
          ],
          "name": "stdout"
        },
        {
          "output_type": "stream",
          "text": [
            "100%|██████████| 81/81 [00:01<00:00, 65.14it/s]\n",
            "2019-12-05 21:17:39,211 INFO Epoch 7, train: 1s\n",
            "2019-12-05 21:17:39,212 INFO Total loss: 0.2412, max_margin_loss: 0.2381, ortho_reg: 0.0031\n",
            "  7%|▋         | 6/81 [00:00<00:01, 57.68it/s]"
          ],
          "name": "stderr"
        },
        {
          "output_type": "stream",
          "text": [
            "Aspect 0:\n",
            "['data|0.6115315', 'plus|0.5595039', 'specific|0.55666924', 'answering|0.5422765', 'benefit|0.53643703', 'proficiency|0.5330399', 'co|0.52723855', 'thinking|0.5254877', 'experienced|0.524812', 'client|0.5194706', 'xx|0.5180601', 'hour|0.51710474', 'diversity|0.49540207', 'question|0.49538356', 'establish|0.4807694', 'manual|0.47934997', 'medical|0.46721172', 'program|0.4654913', 'wpm|0.46541074', 'desire|0.46403098', 'least|0.46209568', 'sufficient|0.46123114', 'point|0.46060804', 'ensure|0.46013373', 'critical|0.45767114', 'sensitivity|0.45681518', 'new|0.4565572', 'day|0.4565458', 'carry|0.45625257', 'school|0.45517486', 'suite|0.45467627', 'treatment|0.454297', 'solid|0.45416296', 'month|0.45278203', 'comfortable|0.45270002', 'quality|0.45225516', 'terminology|0.4512285', 'list|0.44904423', 'seattle|0.4471264', 'make|0.44673786', 'run|0.44604594', 'resolve|0.4445832', 'personnel|0.44457993', 'conflict|0.44407922', 'judgment|0.44387558', 'diverse|0.4429772', 'utilize|0.44269457', 'care|0.44160104', 'hospital|0.44157666', 'opportunity|0.44138846', 'passion|0.44033158', 'local|0.44000125', 'animal|0.43972135', 'employer|0.43716574', 'making|0.43672982', 'outlined|0.43551198', 'speaking|0.4340402', 'courteous|0.43402267', 'staff|0.43399835', 'team|0.43388548', 'addition|0.43287945', 'career|0.43256432', 'form|0.43152648', 'previous|0.43082073', 'solution|0.43051356', 'light|0.4303714', 'location|0.42791167', 'donor|0.42724603', 'place|0.42690897', 'requires|0.42627114', 'equal|0.4261759', 'collecting|0.42538917', 'org|0.4243146', 'spanish|0.4235655', 'setting|0.42341295', 'upon|0.42304042', 'also|0.422967', 'demand|0.42204845', 'answer|0.421502', 'create|0.42074776', 'prepares|0.41778415', 'assistant|0.4164163', 'unit|0.41618547', 'diploma|0.41567683', 'support|0.41525632', 'deal|0.4151597', 'shift|0.4146672', 'produce|0.41426894', 'interest|0.4137494', 'pet|0.41368148', 'greeting|0.41331038', 'relate|0.41265196', 'situation|0.41219223', 'willing|0.41192606', 'approach|0.4109999', 'provider|0.41080993', 'personality|0.4098835', 'code|0.4095323', 'supervisor|0.40875864', 'concern|0.4084564']\n",
            "Aspect 1:\n",
            "['company|0.61276484', 'information|0.55383515', 'www|0.5511291', 'donor|0.5420562', 'receives|0.5376401', 'please|0.5002348', 'department|0.4992357', 'center|0.48612565', 'xx|0.48193985', 'client|0.46234658', 'see|0.45836222', 'ensure|0.45678473', 'form|0.445535', 'reservation|0.44274446', 'may|0.44149327', 'set|0.44083732', 'staff|0.4405303', 'daily|0.44046947', 'answering|0.43508935', 'get|0.43508667', 'u|0.43252203', 'sensitivity|0.4313324', 'expectation|0.42987898', 'licensing|0.42953557', 'collecting|0.4276269', 'support|0.42736793', 'professionally|0.4253955', 'according|0.42517853', 'reporting|0.42212152', 'least|0.42180312', 'approach|0.42057925', 'departmental|0.42054087', 'apply|0.41951266', 'run|0.41764185', 'org|0.4168926', 'credit|0.4168059', 'make|0.41612762', 'care|0.4107001', 'condition|0.4081565', 'career|0.4075508', 'range|0.4058835', 'question|0.40472776', 'list|0.40433353', 'manual|0.40133822', 'xxxx|0.4011571', 'deal|0.39746135', 'requires|0.39512056', 'firm|0.39440992', 'email|0.39281863', 'update|0.3918038', 'volunteer|0.3889058', 'equal|0.38861102', 'outlined|0.38819474', 'team|0.3881814', 'procedure|0.3880093', 'opportunity|0.387975', 'diversity|0.38620725', 'com|0.38461262', 'using|0.38301542', 'solid|0.38268217', 'potential|0.3824851', 'personnel|0.38246822', 'case|0.38223216', 'independent|0.37893286', 'co|0.37579894', 'immediately|0.3747592', 'communicates|0.37308982', 'variety|0.37296245', 'value|0.37267154', 'hour|0.37229314', 'individual|0.36976576', 'keep|0.36748385', 'applying|0.3673228', 'conflict|0.36618382', 'senior|0.3643268', 'shift|0.3641515', 'determines|0.36261076', 'job|0.36224285', 'right|0.36143476', 'employer|0.35797054', 'human|0.35791695', 'role|0.35689896', 'charge|0.35661048', 'clinical|0.3557427', 'light|0.35503542', 'material|0.35416722', 'suite|0.35397768', 'judgment|0.35326272', 'm|0.3529392', 'comfortable|0.35213184', 'pet|0.35197976', 'completes|0.3515038', 'month|0.35027766', 'assistance|0.3497423', 'store|0.34954733', 'day|0.34913847', 'also|0.34913796', 'offer|0.34835148', 'monitor|0.34757', 'federal|0.3455401']\n",
            "Aspect 2:\n",
            "['task|0.84899247', 'ability|0.8440343', 'badge|0.7323724', 'issuing|0.7273392', 'fast|0.677696', 'safety|0.6631878', 'm|0.6157595', 'able|0.5989945', 'procedure|0.5827609', 'complying|0.5819206', 'oriented|0.56799185', 'listen|0.5269411', 'com|0.5118676', 'transaction|0.5077411', 'variety|0.5052524', 'us|0.4790576', 'word|0.4777975', 'email|0.47757396', 'bank|0.4764623', 'senior|0.47643256', 'given|0.45807838', 'charge|0.4536643', 'independent|0.45009798', 'quality|0.44910815', 'local|0.44419754', 'reporting|0.44394097', 'demeanor|0.43957785', 'job|0.43942285', 'condition|0.43619487', 'dynamic|0.43377233', 'perform|0.43025374', 'cultural|0.42630213', 'potential|0.4247915', 'courteous|0.4200508', 'answer|0.4167324', 'set|0.41593358', 'point|0.41543686', 'clinical|0.4117487', 'health|0.40435043', 'monitor|0.40205705', 'using|0.40199208', 'reservation|0.3914166', 'full|0.38766688', 'machine|0.3840777', 'code|0.38318336', 'starter|0.3818369', 'driven|0.37501758', 'business|0.37501544', 'without|0.3737594', 'determines|0.3673318', 'record|0.3655188', 'degree|0.3646417', 'making|0.36366135', 'greet|0.35788178', 'compassion|0.35493374', 'keep|0.3514243', 'passion|0.34800076', 'relevant|0.34676665', 'high|0.34657228', 'option|0.34617823', 'assistance|0.34454358', 'clinic|0.3425406', 'terminology|0.34194496', 'u|0.3393488', 'information|0.33928463', 'upon|0.33885676', 'individual|0.3376825', 'looking|0.33530265', 'shift|0.33523676', 'diverse|0.3333794', 'material|0.33123454', 'assist|0.32760218', 'offer|0.3273005', 'important|0.3270535', 'within|0.32561105', 'range|0.32504222', 'adheres|0.32261217', 'form|0.3182314', 'controlling|0.31803662', 'matter|0.31517673', 'see|0.31467497', 'school|0.31425917', 'opportunity|0.31272513', 'ethic|0.3100331', 'willing|0.30986783', 'short|0.30933046', 'across|0.30926242', 'integrity|0.30748704', 'support|0.30709612', 'people|0.3066489', 'role|0.30578095', 'care|0.30506375', 'previous|0.30330005', 'day|0.30297625', 'performance|0.30266535', 'may|0.3023606', 'diploma|0.30191082', 'get|0.29993397', 'etiquette|0.29916757', 'action|0.29807344']\n",
            "Aspect 3:\n",
            "['verbal|0.6281848', 'organized|0.62092113', 'communication|0.60685134', 'skill|0.6037664', 'clear|0.5486672', 'starter|0.53169423', 'verbally|0.49319303', 'oriented|0.4804373', 'relation|0.4788648', 'within|0.46414694', 'new|0.45655003', 'looking|0.45456088', 'ethic|0.45229894', 'degree|0.44645703', 'individual|0.43309867', 'efficiently|0.43261737', 'action|0.42544678', 'energetic|0.41976205', 'demeanor|0.41861472', 'assistant|0.41682547', 'compassion|0.41649574', 'etiquette|0.41563988', 'critical|0.41302374', 'record|0.41114601', 'word|0.40540344', 'able|0.40186927', 'high|0.39930785', 'associate|0.39899153', 'courteous|0.39741307', 'demand|0.39545006', 'people|0.39495176', 'also|0.3927901', 'successfully|0.39207813', 'across|0.39165646', 'greet|0.3896508', 'resolve|0.3862424', 'situation|0.38404334', 'fast|0.3838179', 'code|0.37784094', 'assist|0.37568304', 'important|0.3755769', 'health|0.37272006', 'safety|0.3704689', 'machine|0.3704129', 'rapport|0.36844087', 'sign|0.36560196', 'vendor|0.36278293', 'given|0.3561029', 'school|0.35573477', 'using|0.3556822', 'property|0.3522859', 'full|0.34924492', 'task|0.34760576', 'clinical|0.34697813', 'answer|0.34496766', 'dynamic|0.34485742', 'supervisor|0.34386405', 'requires|0.34377182', 'establish|0.34089923', 'willing|0.33855417', 'issuing|0.33838022', 'local|0.33822763', 'gather|0.33516186', 'option|0.33118817', 'regulation|0.32791802', 'driven|0.32389075', 'solution|0.3237636', 'hospital|0.32243073', 'diploma|0.32224977', 'cashing|0.32127395', 'receipt|0.32105893', 'medical|0.32064793', 'adheres|0.32010192', 'determines|0.3191048', 'badge|0.3156043', 'cultural|0.3147177', 'variety|0.31366247', 'procedure|0.31043017', 'staff|0.30876455', 'utilize|0.3069893', 'plus|0.30629995', 'short|0.3057517', 'matter|0.3029287', 'job|0.29894364', 'strong|0.2960188', 'prepares|0.29491985', 'common|0.2917479', 'produce|0.2907663', 'according|0.29007277', 'concern|0.287843', 'experienced|0.28767878', 'day|0.28671476', 'relate|0.2851276', 'business|0.2846388', 'clinic|0.28084874', 'requirement|0.28077236', 'addition|0.27929592', 'charge|0.27758124', 'making|0.27693033', 'keep|0.27666813']\n",
            "Aspect 4:\n",
            "['company|0.59987354', 'apply|0.5882635', 'departmental|0.5497354', 'information|0.5272006', 'receives|0.48770058', 'please|0.48748562', 'www|0.48724073', 'client|0.48434263', 'department|0.4830649', 'may|0.47252172', 'set|0.47172385', 'credit|0.47010824', 'ensure|0.46798724', 'expectation|0.46697384', 'daily|0.46444118', 'approach|0.4594264', 'coworkers|0.4588736', 'see|0.45860758', 'xxxx|0.4558289', 'immediately|0.45553297', 'email|0.45092472', 'sensitivity|0.4458055', 'job|0.44252297', 'reporting|0.44202438', 'reservation|0.4362165', 'least|0.434173', 'volunteer|0.43240997', 'according|0.4287547', 'career|0.4268243', 'licensing|0.4238227', 'personnel|0.42378607', 'procedure|0.4229267', 'com|0.42247915', 'support|0.42242453', 'care|0.4212763', 'potential|0.42113757', 'u|0.41979364', 'store|0.4154515', 'staff|0.41354328', 'org|0.4127183', 'judgment|0.40985757', 'variety|0.40942734', 'deal|0.40886685', 'professionally|0.40703815', 'question|0.40686086', 'range|0.40382344', 'completes|0.4018827', 'perform|0.401376', 'keep|0.4001365', 'guideline|0.40012634', 'xx|0.39997292', 'using|0.39808136', 'list|0.39761063', 'make|0.39747372', 'value|0.39726815', 'firm|0.39554322', 'form|0.39435914', 'answering|0.3939764', 'collecting|0.39268515', 'place|0.390207', 'diverse|0.389996', 'clinical|0.38790643', 'donor|0.3866699', 'conflict|0.3866368', 'right|0.3860238', 'respond|0.38467845', 'diversity|0.3843428', 'receipt|0.38358587', 'determines|0.3811417', 'suite|0.38099962', 'human|0.3797876', 'condition|0.37770623', 'integrity|0.37735102', 'individual|0.37535828', 'offer|0.37517047', 'applying|0.3748495', 'get|0.37466207', 'run|0.37338543', 'outlined|0.37030122', 'independent|0.3701495', 'executive|0.3689383', 'monitor|0.36846048', 'orally|0.3673823', 'establish|0.3670028', 'opportunity|0.36648417', 'critical|0.36481977', 'resolve|0.36449653', 'requires|0.3628145', 'gather|0.36184078', 'upon|0.36115098', 'quality|0.35996103', 'xxx|0.35991812', 'understands|0.3598342', 'listen|0.35981488', 'update|0.3591529', 'answer|0.35849923', 'card|0.35713744', 'seattle|0.3571126', 'calendar|0.35709107', 'sufficient|0.3565156']\n",
            "Aspect 5:\n",
            "['communication|0.70027596', 'verbal|0.6904932', 'skill|0.63988614', 'organized|0.5834119', 'new|0.5619533', 'requirement|0.5440891', 'relation|0.5348093', 'looking|0.5278548', 'plus|0.5192567', 'clear|0.50619316', 'personality|0.50307417', 'assistant|0.5027801', 'energetic|0.4726554', 'degree|0.4655944', 'demeanor|0.462865', 'warm|0.46059984', 'successfully|0.4599386', 'associate|0.45850408', 'also|0.45187446', 'experienced|0.44144145', 'ethic|0.43844748', 'starter|0.43685123', 'high|0.43361983', 'vendor|0.4198478', 'people|0.41111743', 'oriented|0.40356317', 'option|0.40203905', 'record|0.39894694', 'greet|0.39809582', 'regulation|0.39718902', 'within|0.3963474', 'action|0.39449263', 'property|0.39219433', 'attention|0.3873748', 'compassion|0.38638365', 'health|0.3838571', 'word|0.38214', 'full|0.38179022', 'setting|0.37846223', 'across|0.37631235', 'local|0.3762345', 'verbally|0.3717144', 'supervisor|0.3694473', 'cashing|0.36589307', 'technology|0.36458948', 'establish|0.35958982', 'school|0.35597092', 'requires|0.35461625', 'resolve|0.34985644', 'individual|0.34599775', 'diploma|0.34452492', 'efficiently|0.34178632', 'medical|0.34086534', 'fast|0.33914933', 'addition|0.33770669', 'solution|0.33686653', 'adheres|0.33465636', 'driven|0.33152795', 'machine|0.330739', 'safety|0.3298638', 'create|0.3294661', 'given|0.3287496', 'determines|0.32468826', 'situation|0.32094046', 'willing|0.32068467', 'hospital|0.3205928', 'assist|0.31944335', 'clinical|0.31726283', 'etiquette|0.31425273', 'sign|0.31110546', 'important|0.30981225', 'using|0.30959874', 'appearance|0.30881575', 'concern|0.3072789', 'hour|0.30705222', 'code|0.30459678', 'staff|0.30373085', 'able|0.30229485', 'dynamic|0.2974953', 'demand|0.29619133', 'matter|0.29256272', 'willingness|0.28970215', 'applying|0.2865993', 'critical|0.2842391', 'co|0.2837009', 'opportunity|0.2807382', 'protocol|0.28015083', 'short|0.27827844', 'day|0.2780888', 'courteous|0.2771808', 'clinic|0.27478176', 'transaction|0.27458954', 'relate|0.27407658', 'produce|0.27316332', 'unit|0.27046794', 'light|0.26779422', 'badge|0.267083', 'program|0.26601914', 'according|0.26370406', 'prepares|0.26366922']\n"
          ],
          "name": "stdout"
        },
        {
          "output_type": "stream",
          "text": [
            "100%|██████████| 81/81 [00:01<00:00, 62.28it/s]\n",
            "2019-12-05 21:17:40,671 INFO Epoch 8, train: 1s\n",
            "2019-12-05 21:17:40,675 INFO Total loss: 0.1725, max_margin_loss: 0.1711, ortho_reg: 0.0015\n",
            "  9%|▊         | 7/81 [00:00<00:01, 66.01it/s]"
          ],
          "name": "stderr"
        },
        {
          "output_type": "stream",
          "text": [
            "Aspect 0:\n",
            "['data|0.6086168', 'plus|0.56997585', 'specific|0.5615237', 'proficiency|0.5441376', 'answering|0.5428605', 'benefit|0.5374682', 'co|0.52776325', 'hour|0.52693033', 'experienced|0.5135876', 'xx|0.51245224', 'client|0.512238', 'thinking|0.5013573', 'question|0.49096173', 'diversity|0.489672', 'establish|0.48434672', 'desire|0.4722374', 'manual|0.47175357', 'program|0.46841964', 'sufficient|0.46755868', 'carry|0.4668212', 'sensitivity|0.46677166', 'point|0.46587074', 'medical|0.46586558', 'least|0.46453682', 'wpm|0.4641429', 'treatment|0.4621922', 'ensure|0.46181536', 'critical|0.45917332', 'suite|0.45910984', 'comfortable|0.45877904', 'day|0.45770514', 'terminology|0.45689014', 'month|0.45685086', 'judgment|0.4530298', 'seattle|0.45292515', 'list|0.45195645', 'personnel|0.4518153', 'resolve|0.4514464', 'utilize|0.4504106', 'conflict|0.44964772', 'run|0.4486651', 'school|0.4481795', 'make|0.44803888', 'minute|0.4468215', 'greeting|0.44636536', 'quality|0.44630188', 'animal|0.44585657', 'care|0.44477987', 'setting|0.44438317', 'team|0.44405112', 'hospital|0.44361645', 'opportunity|0.4430737', 'passion|0.44248253', 'employer|0.441868', 'making|0.44135618', 'local|0.4411401', 'new|0.44101036', 'speaking|0.4406721', 'addition|0.44013292', 'outlined|0.43734178', 'previous|0.43680507', 'career|0.43659723', 'courteous|0.43394363', 'solution|0.43387562', 'solid|0.43333346', 'requires|0.43192726', 'form|0.4318757', 'place|0.43179476', 'diverse|0.43177593', 'collecting|0.43173245', 'spanish|0.43141934', 'light|0.4309934', 'org|0.42913756', 'upon|0.42784065', 'location|0.4278277', 'equal|0.42740032', 'create|0.42557105', 'demand|0.424316', 'deal|0.42260015', 'situation|0.42233655', 'also|0.42142662', 'staff|0.42123628', 'approach|0.42012587', 'pet|0.42009395', 'prepares|0.42005908', 'support|0.41939437', 'unit|0.41881728', 'interest|0.41812962', 'building|0.41779166', 'produce|0.41761208', 'willing|0.4158071', 'shift|0.41575792', 'provider|0.41527164', 'donor|0.41480768', 'respond|0.4129731', 'applicable|0.41202497', 'relate|0.411715', 'number|0.41166407', 'assistant|0.4109768', 'human|0.41046882']\n",
            "Aspect 1:\n",
            "['company|0.6131889', 'www|0.55124927', 'information|0.5434038', 'receives|0.5427959', 'donor|0.51546717', 'please|0.511906', 'department|0.5003118', 'credit|0.4760852', 'xx|0.46988118', 'client|0.46956283', 'see|0.4677046', 'center|0.45312884', 'get|0.44943136', 'ensure|0.44906598', 'answering|0.44666535', 'form|0.44625992', 'may|0.44523752', 'expectation|0.44347265', 'daily|0.4422306', 'reservation|0.4421569', 'u|0.44174433', 'professionally|0.43749148', 'set|0.43462962', 'solid|0.43348354', 'support|0.43323556', 'sensitivity|0.43318307', 'apply|0.4330702', 'according|0.43296564', 'staff|0.43291935', 'collecting|0.43085107', 'career|0.4301146', 'least|0.42802295', 'approach|0.424772', 'run|0.42080614', 'make|0.41865206', 'range|0.4168735', 'org|0.4147163', 'departmental|0.4106171', 'care|0.41015542', 'condition|0.40991852', 'reporting|0.40406045', 'xxxx|0.40328658', 'list|0.40131325', 'deal|0.40120798', 'requires|0.3989973', 'volunteer|0.39896137', 'opportunity|0.39884922', 'equal|0.3936454', 'potential|0.39272872', 'firm|0.392066', 'com|0.3900938', 'manual|0.38926935', 'team|0.38877475', 'outlined|0.38817436', 'case|0.3872401', 'co|0.38670182', 'diversity|0.38503307', 'licensing|0.38444388', 'personnel|0.3841452', 'independent|0.3838551', 'using|0.3815902', 'applying|0.38150823', 'individual|0.3797654', 'procedure|0.37803167', 'email|0.37738717', 'communicates|0.37554353', 'variety|0.37535545', 'conflict|0.37497592', 'question|0.37454242', 'immediately|0.37342802', 'senior|0.37299913', 'keep|0.3726592', 'hour|0.37220678', 'value|0.3718772', 'update|0.37144852', 'human|0.3713195', 'light|0.3707617', 'xxx|0.37000534', 'determines|0.36826193', 'pet|0.36778527', 'right|0.36644775', 'assistance|0.36614212', 'resolve|0.36606508', 'charge|0.36552188', 'offer|0.3644573', 'employer|0.363047', 'suite|0.360011', 'record|0.35942584', 'shift|0.35932815', 'job|0.3592132', 'judgment|0.35868514', 'month|0.35749954', 'role|0.35691196', 'clinical|0.3548892', 'also|0.35467067', 'completes|0.35449022', 'full|0.35387573', 'm|0.35369155', 'proficiency|0.351488', 'day|0.35023928']\n",
            "Aspect 2:\n",
            "['task|0.83834255', 'ability|0.83511686', 'badge|0.730804', 'issuing|0.7239573', 'fast|0.66075903', 'safety|0.64967036', 'm|0.6448454', 'able|0.6178554', 'procedure|0.6073642', 'complying|0.58586687', 'oriented|0.57020867', 'com|0.54283994', 'listen|0.5384898', 'email|0.5371658', 'transaction|0.5193196', 'variety|0.5157944', 'senior|0.506745', 'us|0.50053513', 'bank|0.49742353', 'word|0.49029434', 'quality|0.48657036', 'answer|0.48027813', 'job|0.47895083', 'reporting|0.47643402', 'charge|0.47438014', 'independent|0.4656895', 'demeanor|0.4613779', 'given|0.4603735', 'health|0.4566322', 'local|0.44813225', 'dynamic|0.443516', 'courteous|0.44177654', 'condition|0.44014055', 'cultural|0.42784455', 'potential|0.42697343', 'using|0.42449713', 'point|0.4216383', 'without|0.41988575', 'clinical|0.41939402', 'set|0.41785893', 'driven|0.41483766', 'assistance|0.4148262', 'machine|0.41375312', 'reservation|0.4111517', 'full|0.40886328', 'perform|0.4069196', 'people|0.40126914', 'code|0.39885145', 'business|0.39742112', 'record|0.3923899', 'relevant|0.3918023', 'degree|0.3908673', 'within|0.39053747', 'determines|0.38813412', 'performance|0.38772523', 'starter|0.3848565', 'compassion|0.38072312', 'option|0.37911162', 'making|0.3790484', 'individual|0.37709266', 'supervisor|0.37683645', 'information|0.37603566', 'diverse|0.37334538', 'passion|0.36849454', 'greet|0.36604515', 'keep|0.3657542', 'assist|0.36447895', 'etiquette|0.36433038', 'clinic|0.3628013', 'range|0.36122888', 'looking|0.36008614', 'verbally|0.359429', 'material|0.3589108', 'adheres|0.35805917', 'terminology|0.35608125', 'matter|0.35544354', 'school|0.35433862', 'u|0.3529955', 'diploma|0.35024744', 'shift|0.35013264', 'upon|0.3495897', 'according|0.3492244', 'important|0.34843957', 'high|0.34589785', 'offer|0.3438591', 'form|0.3408727', 'integrity|0.33653745', 'ethic|0.336183', 'opportunity|0.3330035', 'monitor|0.33272833', 'willing|0.33262298', 'see|0.33102673', 'across|0.32632625', 'short|0.32409146', 'vendor|0.32408488', 'care|0.32087857', 'role|0.32045', 'day|0.31968057', 'common|0.3174868', 'support|0.31639034']\n",
            "Aspect 3:\n",
            "['organized|0.62325996', 'verbal|0.62057346', 'skill|0.587661', 'communication|0.58534724', 'clear|0.54272145', 'starter|0.5422988', 'oriented|0.48168805', 'verbally|0.48081318', 'new|0.48042667', 'relation|0.47241765', 'within|0.4611651', 'efficiently|0.45616612', 'ethic|0.4553525', 'looking|0.45025104', 'degree|0.44058126', 'action|0.43192297', 'critical|0.43161032', 'individual|0.429207', 'assistant|0.42429352', 'demeanor|0.42144212', 'energetic|0.4199346', 'compassion|0.4139819', 'word|0.40915883', 'associate|0.4053617', 'record|0.40214324', 'high|0.40099442', 'also|0.39810073', 'demand|0.39769015', 'greet|0.39703572', 'across|0.39650267', 'courteous|0.39318594', 'etiquette|0.39141664', 'successfully|0.39089566', 'task|0.38812', 'fast|0.38694263', 'safety|0.3847738', 'able|0.3847494', 'important|0.38468313', 'code|0.37897012', 'health|0.37812513', 'resolve|0.37525585', 'situation|0.3742053', 'machine|0.37239462', 'assist|0.37101996', 'supervisor|0.36427605', 'using|0.3615577', 'clinical|0.35954654', 'vendor|0.35898945', 'rapport|0.35780463', 'given|0.35648352', 'property|0.35477987', 'school|0.3537715', 'answer|0.35205153', 'requires|0.35157186', 'regulation|0.3511176', 'full|0.34901065', 'dynamic|0.34855127', 'establish|0.34652013', 'cultural|0.34334904', 'local|0.34290865', 'issuing|0.3428082', 'gather|0.34134313', 'willing|0.33714354', 'sign|0.3364704', 'medical|0.33374363', 'determines|0.33358806', 'diploma|0.33298755', 'matter|0.33143836', 'variety|0.33072656', 'receipt|0.3300228', 'solution|0.32883626', 'staff|0.3263586', 'procedure|0.3251247', 'cashing|0.32408756', 'people|0.32290745', 'driven|0.32169205', 'short|0.32038647', 'hospital|0.31909454', 'job|0.3188315', 'badge|0.3173694', 'option|0.3170507', 'plus|0.31653982', 'adheres|0.316162', 'utilize|0.3147943', 'experienced|0.31250137', 'concern|0.31191856', 'manual|0.31186426', 'prepares|0.30659658', 'relate|0.3058955', 'common|0.30105686', 'keep|0.2991643', 'day|0.29716015', 'relevant|0.29704535', 'according|0.29611415', 'produce|0.2959084', 'set|0.29567736', 'create|0.28989887', 'addition|0.28772235', 'clinic|0.28677535', 'charge|0.28461218']\n",
            "Aspect 4:\n",
            "['company|0.59673417', 'apply|0.59638536', 'credit|0.5396948', 'departmental|0.53687984', 'information|0.5214118', 'please|0.5124167', 'client|0.4961857', 'receives|0.49510112', 'www|0.49481225', 'department|0.4894805', 'expectation|0.48001847', 'may|0.47591552', 'coworkers|0.47064444', 'see|0.46679413', 'approach|0.4658996', 'daily|0.46407816', 'set|0.4618654', 'ensure|0.4583554', 'xxxx|0.455777', 'immediately|0.452636', 'career|0.4478254', 'least|0.44068068', 'reservation|0.43953782', 'sensitivity|0.4394817', 'volunteer|0.4394589', 'according|0.43798426', 'job|0.4376294', 'com|0.430076', 'email|0.43003693', 'u|0.42913836', 'potential|0.42807877', 'support|0.42623127', 'care|0.42118', 'professionally|0.42103127', 'reporting|0.42011625', 'range|0.41962832', 'personnel|0.41807574', 'judgment|0.41705468', 'org|0.41392916', 'staff|0.41323924', 'procedure|0.41279477', 'variety|0.4125116', 'deal|0.41205305', 'completes|0.4086021', 'store|0.40705913', 'make|0.40499163', 'collecting|0.40046543', 'keep|0.4002857', 'answering|0.39992774', 'using|0.39901638', 'perform|0.39745188', 'form|0.3970467', 'value|0.39685512', 'human|0.39415464', 'firm|0.39363286', 'conflict|0.39361948', 'list|0.39358047', 'offer|0.39325643', 'place|0.38954473', 'applying|0.38946068', 'right|0.38899174', 'get|0.38856503', 'xxx|0.38727847', 'individual|0.38720387', 'receipt|0.38630974', 'suite|0.38543105', 'diversity|0.38533697', 'xx|0.3853331', 'diverse|0.38524088', 'resolve|0.38487756', 'clinical|0.38484257', 'determines|0.38437647', 'integrity|0.38390118', 'respond|0.38020417', 'independent|0.37894568', 'condition|0.37726578', 'quality|0.37710804', 'orally|0.3770936', 'run|0.37707624', 'opportunity|0.37687278', 'outlined|0.37611958', 'addition|0.37495074', 'seattle|0.3743302', 'establish|0.3721889', 'executive|0.3701248', 'monitor|0.3699835', 'requires|0.36712015', 'assistance|0.36673906', 'question|0.36586142', 'licensing|0.36521077', 'calendar|0.36519966', 'sufficient|0.36459315', 'upon|0.36417994', 'listen|0.3638815', 'understands|0.3635627', 'situation|0.36336023', 'card|0.3632073', 'solid|0.36108652', 'proficiency|0.3606106', 'light|0.36040425']\n",
            "Aspect 5:\n",
            "['verbal|0.70069146', 'communication|0.69957304', 'skill|0.620749', 'organized|0.5910896', 'new|0.58079714', 'requirement|0.5579043', 'relation|0.5330703', 'personality|0.52333504', 'plus|0.52113104', 'looking|0.52054524', 'assistant|0.50955033', 'clear|0.49558336', 'energetic|0.47846442', 'product|0.47529995', 'associate|0.46730793', 'demeanor|0.46555462', 'starter|0.46489552', 'warm|0.46055865', 'also|0.45780355', 'degree|0.45579582', 'experienced|0.45240727', 'successfully|0.45230648', 'high|0.44322315', 'ethic|0.44271988', 'regulation|0.4247219', 'vendor|0.4127838', 'oriented|0.4077334', 'attention|0.40728143', 'greet|0.4070744', 'action|0.40514082', 'setting|0.39702702', 'within|0.39679265', 'property|0.3900482', 'local|0.38494384', 'word|0.3848733', 'record|0.38478068', 'across|0.38252687', 'compassion|0.3814376', 'option|0.38011163', 'full|0.37973475', 'supervisor|0.3759798', 'health|0.37575227', 'efficiently|0.3718103', 'establish|0.3702597', 'verbally|0.36981696', 'requires|0.36494908', 'create|0.3618188', 'cashing|0.35749057', 'medical|0.35440597', 'diploma|0.3510071', 'fast|0.34991282', 'school|0.34884173', 'solution|0.34800744', 'safety|0.34557953', 'determines|0.34100825', 'resolve|0.34060746', 'individual|0.337525', 'addition|0.33719385', 'clinical|0.33603898', 'concern|0.33601996', 'machine|0.3331093', 'appearance|0.3328166', 'given|0.33171457', 'adheres|0.32658616', 'important|0.32449493', 'staff|0.3242915', 'driven|0.32339185', 'matter|0.32137913', 'hospital|0.3193428', 'hour|0.3187766', 'willing|0.31865323', 'using|0.3182934', 'people|0.31816924', 'assist|0.31800842', 'technology|0.3095596', 'situation|0.3079598', 'code|0.30620745', 'program|0.3061207', 'dynamic|0.30397663', 'demand|0.30238882', 'relate|0.301171', 'critical|0.29836908', 'short|0.29750955', 'day|0.29311523', 'willingness|0.29240173', 'able|0.2896109', 'applying|0.28773174', 'protocol|0.28567088', 'unit|0.2856381', 'transaction|0.28295708', 'co|0.28291678', 'clinic|0.2817089', 'etiquette|0.28168315', 'opportunity|0.2812212', 'prepares|0.28063893', 'location|0.28051', 'diversity|0.27856693', 'produce|0.27627152', 'sign|0.27609235', 'number|0.2760335']\n"
          ],
          "name": "stdout"
        },
        {
          "output_type": "stream",
          "text": [
            "100%|██████████| 81/81 [00:01<00:00, 65.89it/s]\n",
            "2019-12-05 21:17:42,048 INFO Epoch 9, train: 1s\n",
            "2019-12-05 21:17:42,049 INFO Total loss: 0.1239, max_margin_loss: 0.1230, ortho_reg: 0.0010\n",
            " 10%|▉         | 8/81 [00:00<00:01, 71.27it/s]"
          ],
          "name": "stderr"
        },
        {
          "output_type": "stream",
          "text": [
            "Aspect 0:\n",
            "['plus|0.6061146', 'data|0.5970833', 'specific|0.55425215', 'proficiency|0.5492095', 'answering|0.5461401', 'hour|0.53558075', 'benefit|0.53000224', 'co|0.5240532', 'experienced|0.51511884', 'client|0.5112252', 'xx|0.50259525', 'diversity|0.491107', 'establish|0.49049562', 'treatment|0.4827749', 'desire|0.47903126', 'sufficient|0.47550258', 'sensitivity|0.474436', 'program|0.47338223', 'manual|0.4733308', 'carry|0.47332567', 'question|0.47049296', 'suite|0.46662602', 'ensure|0.46396422', 'medical|0.46147582', 'month|0.461462', 'least|0.46116054', 'point|0.46068928', 'seattle|0.46067268', 'wpm|0.45984286', 'minute|0.45763576', 'new|0.457561', 'judgment|0.45754057', 'utilize|0.45693582', 'day|0.45582658', 'resolve|0.45574373', 'thinking|0.45500243', 'list|0.45457488', 'terminology|0.4544477', 'personnel|0.45429736', 'team|0.45403188', 'conflict|0.45290375', 'critical|0.45265278', 'run|0.45202607', 'make|0.45177516', 'quality|0.45052528', 'hospital|0.449759', 'setting|0.44941908', 'animal|0.44918388', 'making|0.4482259', 'care|0.44819868', 'passion|0.44666415', 'opportunity|0.44405577', 'school|0.44337386', 'addition|0.4429434', 'previous|0.44233254', 'employer|0.44207716', 'diverse|0.4411419', 'outlined|0.44053605', 'local|0.44031012', 'comfortable|0.43994796', 'collecting|0.43947333', 'speaking|0.43921173', 'requires|0.4387744', 'spanish|0.43873996', 'career|0.43820485', 'form|0.43763906', 'greeting|0.43627363', 'solution|0.43524396', 'upon|0.43438697', 'place|0.43401387', 'create|0.4300583', 'demand|0.42990726', 'org|0.42989498', 'location|0.42920423', 'staff|0.4282785', 'donor|0.4278224', 'equal|0.4278139', 'respond|0.42694566', 'courteous|0.42692846', 'also|0.42577344', 'approach|0.4243179', 'support|0.42429835', 'deal|0.42407596', 'pet|0.4227395', 'light|0.42266595', 'situation|0.42186722', 'building|0.4216113', 'interest|0.42047417', 'shift|0.41997367', 'produce|0.4189767', 'unit|0.41892317', 'prepares|0.41743797', 'willing|0.4172628', 'number|0.41562653', 'applicable|0.41537493', 'assistant|0.41531456', 'energetic|0.41490346', 'relate|0.41451687', 'departmental|0.41401982', 'successfully|0.41367593']\n",
            "Aspect 1:\n",
            "['company|0.60858774', 'receives|0.54146034', 'www|0.53883827', 'information|0.52599955', 'donor|0.5198585', 'please|0.5119786', 'credit|0.5023413', 'department|0.49133486', 'see|0.4744222', 'apply|0.4566881', 'get|0.45236924', 'solid|0.4518519', 'answering|0.4516919', 'set|0.45168096', 'form|0.45019418', 'may|0.4496876', 'u|0.44481555', 'client|0.44470006', 'support|0.44326925', 'staff|0.4416567', 'expectation|0.44130725', 'ensure|0.44128403', 'sensitivity|0.43990457', 'according|0.43909168', 'career|0.4371225', 'least|0.43629923', 'xx|0.4350955', 'professionally|0.43288878', 'collecting|0.43238539', 'daily|0.43237734', 'approach|0.43072695', 'reservation|0.43037114', 'run|0.4237036', 'org|0.4236471', 'range|0.41898572', 'make|0.41859567', 'center|0.41558397', 'xxxx|0.4139086', 'care|0.41316527', 'volunteer|0.41002095', 'departmental|0.40869486', 'condition|0.4082508', 'opportunity|0.4067446', 'deal|0.40612876', 'requires|0.4045426', 'list|0.4018023', 'manual|0.40045604', 'diversity|0.3987377', 'potential|0.39834976', 'reporting|0.39621377', 'equal|0.3951475', 'hour|0.39512295', 'xxx|0.3943317', 'outlined|0.3911592', 'team|0.39011252', 'case|0.38891146', 'email|0.38887632', 'applying|0.38796818', 'com|0.38708764', 'firm|0.38653812', 'independent|0.3842165', 'variety|0.38338906', 'using|0.38196176', 'immediately|0.38149768', 'personnel|0.37865996', 'conflict|0.3765786', 'communicates|0.37621704', 'senior|0.3754488', 'co|0.37539357', 'pet|0.37426072', 'offer|0.37294722', 'procedure|0.3725873', 'value|0.3724161', 'light|0.37057608', 'shift|0.36982837', 'charge|0.36974615', 'proficiency|0.3696099', 'right|0.36936086', 'resolve|0.36865318', 'determines|0.36845732', 'human|0.36712152', 'also|0.3655511', 'suite|0.3651932', 'employer|0.36373025', 'assistance|0.36318067', 'individual|0.36279574', 'keep|0.36181766', 'month|0.36097762', 'record|0.36018872', 'role|0.3588423', 'protocol|0.35853487', 'full|0.35830057', 'job|0.35735103', 'm|0.35496768', 'completes|0.35489005', 'school|0.35285437', 'upon|0.35214633', 'day|0.35214028', 'store|0.3510874', 'judgment|0.35097033']\n",
            "Aspect 2:\n",
            "['ability|0.8332917', 'task|0.82882994', 'badge|0.74286723', 'issuing|0.7347857', 'fast|0.68014115', 'safety|0.6602671', 'm|0.6562696', 'able|0.6466136', 'procedure|0.63230544', 'oriented|0.6047509', 'complying|0.5771185', 'listen|0.5724145', 'com|0.5719987', 'email|0.5679536', 'transaction|0.5553335', 'us|0.52606475', 'variety|0.52305496', 'word|0.5229726', 'senior|0.520348', 'demeanor|0.51970255', 'job|0.5177636', 'bank|0.5127642', 'answer|0.512754', 'reporting|0.50338566', 'courteous|0.49659744', 'quality|0.4955004', 'given|0.4881415', 'charge|0.48040828', 'independent|0.47690934', 'local|0.4739772', 'point|0.46090502', 'relevant|0.45954818', 'condition|0.45833057', 'dynamic|0.4571448', 'health|0.45583355', 'using|0.44917506', 'machine|0.4441742', 'without|0.4439302', 'clinical|0.44106793', 'potential|0.44023144', 'cultural|0.4379447', 'full|0.43708074', 'within|0.4339289', 'assistance|0.43179366', 'reservation|0.43038952', 'etiquette|0.429417', 'driven|0.42777193', 'code|0.42536736', 'set|0.42065352', 'degree|0.42009425', 'people|0.41939265', 'information|0.41538388', 'record|0.41486177', 'determines|0.41433275', 'business|0.41225988', 'range|0.41208452', 'individual|0.4111244', 'school|0.40324062', 'looking|0.40146455', 'supervisor|0.40015268', 'diploma|0.39964324', 'starter|0.3994627', 'making|0.3992885', 'keep|0.39701462', 'assist|0.39613247', 'performance|0.3938884', 'compassion|0.392649', 'integrity|0.3895756', 'option|0.38566425', 'greet|0.3811784', 'passion|0.38089147', 'matter|0.3798833', 'terminology|0.37862468', 'clinic|0.37811735', 'diverse|0.3774762', 'important|0.3743513', 'material|0.37407225', 'u|0.37384135', 'shift|0.37368122', 'adheres|0.36918586', 'willing|0.36869702', 'see|0.3676017', 'verbally|0.36582732', 'vendor|0.36452097', 'skill|0.3644634', 'according|0.36293447', 'light|0.36227435', 'perform|0.36131465', 'opportunity|0.35944492', 'offer|0.3592427', 'ethic|0.35813755', 'high|0.35672027', 'form|0.3561102', 'day|0.35217172', 'upon|0.35009772', 'short|0.34767026', 'previous|0.34701407', 'xxxx|0.34590802', 'least|0.34341282', 'across|0.3403247']\n",
            "Aspect 3:\n",
            "['organized|0.6201135', 'verbal|0.6093253', 'skill|0.5712954', 'communication|0.5653578', 'starter|0.54272115', 'clear|0.5422802', 'verbally|0.48887974', 'efficiently|0.4838631', 'new|0.4836252', 'within|0.47146022', 'oriented|0.46976042', 'relation|0.46650597', 'ethic|0.4542571', 'individual|0.45215705', 'degree|0.44230786', 'looking|0.4407459', 'critical|0.43954208', 'action|0.43200874', 'assistant|0.42484325', 'compassion|0.41655308', 'record|0.4159609', 'energetic|0.4093291', 'task|0.4087654', 'word|0.40871277', 'associate|0.40774122', 'high|0.40271294', 'demeanor|0.40144536', 'across|0.39977738', 'also|0.39946002', 'greet|0.39941117', 'demand|0.3988449', 'safety|0.397192', 'successfully|0.39547578', 'health|0.39110944', 'fast|0.38276517', 'resolve|0.38086596', 'important|0.37825418', 'able|0.37480223', 'supervisor|0.37400675', 'code|0.37180611', 'courteous|0.37033993', 'situation|0.36837035', 'answer|0.3654911', 'machine|0.36526173', 'clinical|0.3647641', 'etiquette|0.3637547', 'using|0.36362216', 'vendor|0.36166534', 'regulation|0.3614763', 'property|0.3614523', 'assist|0.3610545', 'product|0.35864913', 'medical|0.35646152', 'rapport|0.35584268', 'given|0.3556796', 'requires|0.35495684', 'full|0.353099', 'local|0.35275227', 'cultural|0.35061193', 'diploma|0.35026017', 'school|0.35022944', 'dynamic|0.34822243', 'determines|0.34348017', 'matter|0.3427993', 'issuing|0.34268335', 'establish|0.33959824', 'gather|0.33812356', 'sign|0.33732498', 'solution|0.33698648', 'variety|0.3346229', 'willing|0.33344078', 'procedure|0.33303812', 'prepares|0.33189794', 'receipt|0.33149612', 'short|0.33053303', 'driven|0.32630062', 'staff|0.3250916', 'job|0.32501584', 'cashing|0.32383204', 'experienced|0.318132', 'manual|0.3178658', 'option|0.3172178', 'keep|0.3155142', 'adheres|0.3137666', 'utilize|0.31367996', 'badge|0.31188488', 'concern|0.3100374', 'relate|0.30547386', 'hospital|0.3047422', 'protocol|0.3029076', 'produce|0.30209363', 'day|0.30196393', 'relevant|0.29975313', 'common|0.29713234', 'according|0.29559624', 'create|0.29547438', 'addition|0.29277903', 'set|0.28963113', 'charge|0.2888403', 'clinic|0.28863436']\n",
            "Aspect 4:\n",
            "['apply|0.6160665', 'company|0.5901009', 'credit|0.57119155', 'departmental|0.52735263', 'please|0.5182811', 'information|0.5078515', 'receives|0.5013608', 'www|0.49290374', 'may|0.47914743', 'department|0.47847885', 'coworkers|0.4760428', 'expectation|0.47592628', 'see|0.475568', 'set|0.475515', 'client|0.4740117', 'approach|0.47023734', 'xxxx|0.46179667', 'immediately|0.46142972', 'career|0.4550651', 'daily|0.4535769', 'ensure|0.4520639', 'least|0.4508919', 'volunteer|0.44835904', 'sensitivity|0.44552493', 'according|0.4430741', 'email|0.4367364', 'support|0.4359423', 'job|0.43571162', 'u|0.4327825', 'potential|0.4318463', 'reservation|0.4314015', 'com|0.42995164', 'range|0.42904976', 'staff|0.42757624', 'care|0.42564672', 'org|0.4251008', 'deal|0.4218164', 'variety|0.41940176', 'professionally|0.41600513', 'reporting|0.41250956', 'personnel|0.41089153', 'collecting|0.41052195', 'judgment|0.40912426', 'completes|0.40827024', 'xxx|0.40796703', 'store|0.40655643', 'procedure|0.40652695', 'offer|0.40575805', 'answering|0.4036587', 'make|0.40345836', 'using|0.40231484', 'form|0.40230948', 'perform|0.40179583', 'diversity|0.39899114', 'list|0.3983222', 'value|0.3969532', 'applying|0.3969282', 'diverse|0.39666733', 'place|0.39500296', 'conflict|0.39480555', 'integrity|0.39391005', 'firm|0.39180323', 'right|0.39122754', 'human|0.39083034', 'get|0.3905291', 'keep|0.3897903', 'establish|0.38954848', 'suite|0.38928244', 'solid|0.3881812', 'resolve|0.38748103', 'opportunity|0.38728896', 'addition|0.3862926', 'determines|0.38462624', 'receipt|0.38369554', 'situation|0.38117552', 'independent|0.38057742', 'orally|0.38007748', 'respond|0.3793824', 'run|0.3792619', 'proficiency|0.3790533', 'clinical|0.37874657', 'outlined|0.37816295', 'card|0.37684834', 'quality|0.37674212', 'requires|0.3760466', 'condition|0.37585625', 'sufficient|0.373887', 'calendar|0.37270576', 'individual|0.3716171', 'courteous|0.36718076', 'seattle|0.36689317', 'light|0.36675322', 'upon|0.36644682', 'shift|0.36625707', 'assistance|0.365219', 'inquiry|0.36404476', 'executive|0.36328894', 'willing|0.36266822', 'number|0.3618894', 'understands|0.3612836']\n",
            "Aspect 5:\n",
            "['communication|0.7050603', 'verbal|0.70158285', 'new|0.5858182', 'organized|0.58519876', 'skill|0.58109796', 'product|0.5667757', 'requirement|0.560969', 'attention|0.54222167', 'relation|0.5256115', 'personality|0.5187079', 'looking|0.50448287', 'assistant|0.50378054', 'clear|0.49193808', 'associate|0.47094527', 'energetic|0.46911407', 'starter|0.4688252', 'plus|0.46806636', 'successfully|0.4588135', 'also|0.45167965', 'degree|0.45163682', 'experienced|0.4493874', 'high|0.44357595', 'ethic|0.44019443', 'regulation|0.43668652', 'warm|0.43443', 'demeanor|0.4337283', 'efficiently|0.41555354', 'vendor|0.41123477', 'greet|0.40844914', 'action|0.406156', 'within|0.4021498', 'setting|0.3991164', 'local|0.39163172', 'property|0.39112794', 'record|0.38840085', 'across|0.3865844', 'oriented|0.3864196', 'supervisor|0.38371706', 'compassion|0.38335675', 'option|0.3823248', 'full|0.37832806', 'medical|0.37828392', 'health|0.3779872', 'word|0.37780762', 'verbally|0.37045118', 'individual|0.36698782', 'create|0.3664015', 'requires|0.36463428', 'establish|0.3601285', 'cashing|0.35899752', 'diploma|0.35819852', 'solution|0.35735744', 'safety|0.35733575', 'determines|0.35041898', 'resolve|0.34632474', 'clinical|0.34052902', 'fast|0.338819', 'addition|0.33846045', 'concern|0.3347856', 'school|0.3337706', 'hour|0.33325845', 'matter|0.33216143', 'given|0.3302438', 'driven|0.32973215', 'machine|0.32395372', 'adheres|0.32228637', 'program|0.32119507', 'important|0.32118726', 'protocol|0.31953812', 'using|0.3193049', 'staff|0.3155861', 'prepares|0.31557965', 'willingness|0.311211', 'short|0.3090998', 'willing|0.30909324', 'appearance|0.30643845', 'dynamic|0.30526215', 'demand|0.30475837', 'assist|0.30431357', 'hospital|0.3034174', 'relate|0.30286205', 'situation|0.29998502', 'code|0.29833817', 'co|0.29708913', 'critical|0.29650733', 'day|0.29624933', 'unit|0.2882139', 'answer|0.28814086', 'keep|0.28674224', 'answering|0.28644896', 'transaction|0.28574193', 'produce|0.28456083', 'sign|0.28268015', 'applying|0.28212017', 'number|0.28165278', 'carry|0.2803185', 'condition|0.2802838', 'clinic|0.28020293', 'location|0.27970937', 'able|0.27903327']\n"
          ],
          "name": "stdout"
        },
        {
          "output_type": "stream",
          "text": [
            "100%|██████████| 81/81 [00:01<00:00, 64.56it/s]\n",
            "2019-12-05 21:17:43,451 INFO Epoch 10, train: 1s\n",
            "2019-12-05 21:17:43,454 INFO Total loss: 0.0937, max_margin_loss: 0.0933, ortho_reg: 0.0004\n",
            " 10%|▉         | 8/81 [00:00<00:01, 72.76it/s]"
          ],
          "name": "stderr"
        },
        {
          "output_type": "stream",
          "text": [
            "Aspect 0:\n",
            "['plus|0.62145376', 'data|0.5988398', 'proficiency|0.5485506', 'answering|0.54591465', 'benefit|0.5387731', 'specific|0.5368357', 'hour|0.5363457', 'co|0.5240066', 'experienced|0.5189189', 'client|0.50288963', 'establish|0.49160606', 'xx|0.4905728', 'treatment|0.48558939', 'diversity|0.48402995', 'desire|0.4826442', 'manual|0.48006064', 'sensitivity|0.47768626', 'sufficient|0.47657394', 'carry|0.47587156', 'program|0.47129554', 'minute|0.46739316', 'suite|0.46624696', 'medical|0.46553805', 'new|0.4638204', 'ensure|0.46346754', 'seattle|0.4625097', 'month|0.46201468', 'wpm|0.45891005', 'resolve|0.45787743', 'personnel|0.4571017', 'utilize|0.45691234', 'team|0.45624715', 'day|0.45566422', 'judgment|0.4546531', 'least|0.45421568', 'list|0.4540478', 'conflict|0.4526781', 'quality|0.4521657', 'setting|0.45157915', 'make|0.45150423', 'question|0.4512821', 'animal|0.450359', 'hospital|0.44881064', 'run|0.44855773', 'critical|0.4482369', 'care|0.44772542', 'making|0.44622117', 'terminology|0.44457015', 'local|0.4435638', 'employer|0.44347876', 'previous|0.44327444', 'opportunity|0.44275272', 'passion|0.4415449', 'addition|0.44147426', 'diverse|0.44084483', 'collecting|0.43981248', 'comfortable|0.43959892', 'outlined|0.43911612', 'point|0.43893325', 'career|0.4382735', 'speaking|0.43775266', 'school|0.4376054', 'spanish|0.43754244', 'greeting|0.4370165', 'requires|0.4364415', 'solution|0.43621826', 'staff|0.43570954', 'place|0.43484563', 'location|0.4331384', 'create|0.43293005', 'demand|0.43201703', 'org|0.43195105', 'form|0.43146735', 'donor|0.4312325', 'upon|0.42979217', 'equal|0.42969316', 'thinking|0.4289482', 'respond|0.42874998', 'clear|0.42857277', 'building|0.42722088', 'also|0.42650115', 'produce|0.4244135', 'pet|0.42432404', 'support|0.42380986', 'approach|0.42380846', 'interest|0.42350417', 'deal|0.42298856', 'situation|0.42239144', 'light|0.42212737', 'energetic|0.42140502', 'courteous|0.42074323', 'departmental|0.4197098', 'prepares|0.41929352', 'willing|0.41843545', 'number|0.4182063', 'applicable|0.4161952', 'unit|0.41578183', 'relate|0.415176', 'assistant|0.41427353', 'code|0.4133383']\n",
            "Aspect 1:\n",
            "['company|0.6026167', 'receives|0.5423105', 'www|0.53430307', 'information|0.52929056', 'credit|0.51787186', 'donor|0.51657844', 'please|0.49703473', 'see|0.47797772', 'department|0.4672152', 'solid|0.45701352', 'set|0.45671475', 'answering|0.45488203', 'may|0.4539472', 'staff|0.45135796', 'apply|0.45060825', 'support|0.4498139', 'u|0.44879845', 'according|0.4484978', 'form|0.4474703', 'get|0.4464603', 'client|0.4462375', 'career|0.44572055', 'expectation|0.44441962', 'least|0.44165215', 'ensure|0.43753505', 'daily|0.43379247', 'approach|0.43273425', 'org|0.43233544', 'range|0.43053353', 'professionally|0.43036494', 'sensitivity|0.42920178', 'make|0.4287799', 'collecting|0.42797932', 'run|0.42001477', 'volunteer|0.41723803', 'care|0.41530418', 'reservation|0.41527033', 'opportunity|0.4145943', 'condition|0.41437143', 'xxxx|0.41117257', 'xx|0.41108835', 'deal|0.41055346', 'diversity|0.4098639', 'requires|0.40924102', 'manual|0.4063306', 'potential|0.4023713', 'outlined|0.4022218', 'list|0.40043008', 'equal|0.4001117', 'team|0.39746958', 'departmental|0.39582288', 'hour|0.3947686', 'variety|0.39445698', 'case|0.3939373', 'applying|0.3913889', 'senior|0.38949937', 'using|0.38931102', 'xxx|0.38887483', 'independent|0.38853058', 'firm|0.3877751', 'conflict|0.38572037', 'center|0.3853231', 'reporting|0.384993', 'immediately|0.3848223', 'email|0.38473764', 'com|0.3813789', 'offer|0.38108012', 'record|0.38089275', 'light|0.3807428', 'co|0.380467', 'right|0.38001502', 'resolve|0.37840387', 'proficiency|0.37811708', 'communicates|0.37809014', 'charge|0.37706977', 'also|0.37683427', 'value|0.3752374', 'suite|0.3751376', 'personnel|0.37497318', 'determines|0.37427062', 'keep|0.37295872', 'procedure|0.37180376', 'human|0.37110743', 'pet|0.37106377', 'assistance|0.36963394', 'month|0.36918348', 'full|0.3691353', 'employer|0.36845028', 'm|0.3670229', 'individual|0.36658317', 'bank|0.36489314', 'protocol|0.36447948', 'perform|0.36436316', 'school|0.36395633', 'role|0.36312693', 'shift|0.36246237', 'job|0.36183223', 'place|0.360332', 'diverse|0.358686', 'completes|0.35855377']\n",
            "Aspect 2:\n",
            "['task|0.82310617', 'ability|0.82048845', 'badge|0.7775932', 'issuing|0.76900023', 'fast|0.68313736', 'safety|0.6701049', 'm|0.6532447', 'able|0.6504475', 'procedure|0.6360922', 'oriented|0.6300925', 'email|0.6198678', 'listen|0.5884384', 'complying|0.58502406', 'com|0.5835142', 'transaction|0.5558754', 'demeanor|0.5464999', 'senior|0.5395817', 'word|0.53756934', 'variety|0.53730047', 'us|0.53073096', 'answer|0.5287161', 'without|0.52238023', 'job|0.5214602', 'reporting|0.5197565', 'bank|0.51813173', 'point|0.51282525', 'courteous|0.5101969', 'given|0.50345606', 'quality|0.4892115', 'charge|0.4812588', 'etiquette|0.477349', 'independent|0.47511646', 'health|0.4712753', 'local|0.46989983', 'dynamic|0.46609887', 'cultural|0.465253', 'relevant|0.4625541', 'condition|0.4561629', 'using|0.455396', 'people|0.45112148', 'clinical|0.44765052', 'full|0.4450534', 'machine|0.44251698', 'within|0.44002897', 'reservation|0.43984973', 'individual|0.43635467', 'potential|0.43565783', 'code|0.4325866', 'assistance|0.42999393', 'school|0.42875236', 'assist|0.42829102', 'degree|0.42774925', 'driven|0.42609876', 'determines|0.42184508', 'range|0.4156561', 'set|0.41510165', 'keep|0.41239053', 'supervisor|0.4093688', 'skill|0.40919542', 'looking|0.40783435', 'making|0.40749222', 'business|0.40546846', 'starter|0.40528452', 'diploma|0.40448827', 'compassion|0.4040718', 'matter|0.40356165', 'terminology|0.4035272', 'information|0.4012423', 'shift|0.398484', 'record|0.39693016', 'integrity|0.39569974', 'passion|0.39473385', 'performance|0.39121437', 'important|0.3898355', 'option|0.38838413', 'appearance|0.3852065', 'greet|0.38504806', 'rapport|0.3832118', 'u|0.3831854', 'clinic|0.38316345', 'form|0.38007796', 'diverse|0.37536412', 'material|0.37299937', 'adheres|0.36877292', 'willing|0.36874652', 'ethic|0.367658', 'upon|0.3668213', 'opportunity|0.36585274', 'according|0.36476043', 'vendor|0.3642403', 'light|0.36392123', 'verbally|0.36387363', 'see|0.36257806', 'high|0.36243632', 'offer|0.3612275', 'least|0.35798797', 'xxxx|0.35502672', 'day|0.35295284', 'www|0.3515644', 'provider|0.3504212']\n",
            "Aspect 3:\n",
            "['verbal|0.6115705', 'organized|0.61147547', 'communication|0.5583181', 'clear|0.5479171', 'skill|0.5449625', 'starter|0.537501', 'efficiently|0.49438688', 'new|0.49381763', 'verbally|0.48365963', 'within|0.45996994', 'ethic|0.44895127', 'oriented|0.44756114', 'relation|0.44614303', 'degree|0.4406479', 'individual|0.43866068', 'action|0.4300766', 'looking|0.42750174', 'critical|0.41980064', 'task|0.41884995', 'assistant|0.4163617', 'compassion|0.41141677', 'energetic|0.40824926', 'across|0.40692055', 'record|0.4043331', 'associate|0.4024878', 'successfully|0.40164098', 'word|0.39757583', 'high|0.39521718', 'demand|0.39378595', 'greet|0.39186904', 'demeanor|0.3869673', 'also|0.38661855', 'safety|0.384862', 'health|0.38461044', 'important|0.3761735', 'fast|0.37125215', 'product|0.37003353', 'answer|0.3694018', 'resolve|0.36842334', 'supervisor|0.36624146', 'assist|0.36619133', 'property|0.36149716', 'clinical|0.36104316', 'machine|0.35984784', 'code|0.3585738', 'able|0.35766712', 'courteous|0.35658622', 'vendor|0.35574448', 'regulation|0.3530634', 'using|0.3501073', 'situation|0.3480112', 'local|0.34773377', 'requires|0.3467356', 'given|0.34618908', 'matter|0.34178257', 'full|0.34158152', 'dynamic|0.34081376', 'cultural|0.3406586', 'medical|0.3395661', 'diploma|0.33889034', 'etiquette|0.33695686', 'determines|0.33546516', 'school|0.32955408', 'procedure|0.329318', 'cashing|0.32930005', 'manual|0.32884222', 'sign|0.32881624', 'solution|0.32841423', 'establish|0.32635123', 'prepares|0.32548416', 'willing|0.32512873', 'short|0.32446516', 'rapport|0.3230856', 'staff|0.3225779', 'issuing|0.32195687', 'driven|0.32074746', 'gather|0.32000017', 'receipt|0.31656054', 'job|0.31631657', 'concern|0.31477085', 'variety|0.31362242', 'option|0.31233692', 'protocol|0.31220293', 'utilize|0.31179267', 'adheres|0.30931547', 'experienced|0.30781454', 'keep|0.3059383', 'hospital|0.30551267', 'relevant|0.3000363', 'department|0.29932332', 'day|0.29778308', 'relate|0.29531997', 'program|0.29428878', 'produce|0.2928257', 'badge|0.292669', 'addition|0.2904247', 'create|0.29002726', 'unit|0.28955585', 'common|0.2878509', 'wpm|0.28765678']\n",
            "Aspect 4:\n",
            "['apply|0.61170965', 'credit|0.5903388', 'company|0.58519715', 'departmental|0.5124797', 'information|0.5109686', 'please|0.5090801', 'receives|0.5064959', 'www|0.49613556', 'coworkers|0.4843041', 'may|0.48179728', 'expectation|0.47836766', 'see|0.4759165', 'set|0.47433043', 'approach|0.47087994', 'immediately|0.4630944', 'client|0.4616966', 'daily|0.46025956', 'career|0.4602159', 'xxxx|0.45738155', 'least|0.45609358', 'according|0.45085204', 'department|0.45022726', 'volunteer|0.4499377', 'sensitivity|0.44707656', 'ensure|0.44644636', 'support|0.4400052', 'range|0.4397691', 'job|0.4380045', 'u|0.4358291', 'email|0.43534416', 'org|0.43412223', 'potential|0.43348342', 'staff|0.43099236', 'variety|0.42904225', 'com|0.4263526', 'care|0.42622793', 'deal|0.4259433', 'reservation|0.41667056', 'offer|0.41223806', 'professionally|0.41186246', 'judgment|0.4115354', 'make|0.41122395', 'completes|0.41120952', 'perform|0.4110828', 'using|0.40875763', 'diversity|0.4082014', 'answering|0.4049855', 'place|0.40455565', 'procedure|0.40378284', 'conflict|0.4036488', 'right|0.4036016', 'collecting|0.40339994', 'form|0.40301883', 'personnel|0.40272897', 'solid|0.40214396', 'diverse|0.40204245', 'receipt|0.40083396', 'xxx|0.40025628', 'reporting|0.39977545', 'applying|0.39951608', 'value|0.39826065', 'establish|0.3981726', 'suite|0.3975758', 'keep|0.39720136', 'list|0.39582947', 'situation|0.3953644', 'human|0.39510125', 'resolve|0.39409524', 'opportunity|0.39368898', 'addition|0.39302638', 'firm|0.39291877', 'outlined|0.39220947', 'orally|0.39175907', 'integrity|0.3882207', 'determines|0.38786831', 'proficiency|0.38657224', 'number|0.3853776', 'get|0.38448226', 'independent|0.38277495', 'requires|0.38051754', 'calendar|0.3803127', 'condition|0.37882146', 'quality|0.37738854', 'card|0.37733337', 'clinical|0.37713364', 'bank|0.37711596', 'sufficient|0.37691462', 'individual|0.37615973', 'run|0.3751321', 'light|0.37425444', 'senior|0.3730107', 'courteous|0.37283584', 'record|0.3712564', 'store|0.37037256', 'seattle|0.3702895', 'able|0.36942565', 'assistance|0.36883265', 'willing|0.3674596', 'wpm|0.36737272', 'gather|0.3658692']\n",
            "Aspect 5:\n",
            "['communication|0.71838486', 'verbal|0.7171662', 'attention|0.6314828', 'new|0.58295786', 'product|0.57833093', 'organized|0.5759826', 'requirement|0.55061245', 'skill|0.54235697', 'relation|0.5159013', 'personality|0.50903547', 'clear|0.49518257', 'looking|0.49308085', 'assistant|0.4909978', 'energetic|0.47411466', 'associate|0.46913713', 'successfully|0.46868318', 'starter|0.46493113', 'plus|0.4497264', 'degree|0.44379342', 'high|0.4371392', 'efficiently|0.4361801', 'ethic|0.4358258', 'also|0.4356233', 'experienced|0.43449378', 'regulation|0.42592913', 'warm|0.41514966', 'demeanor|0.4143328', 'vendor|0.408315', 'action|0.4066369', 'greet|0.401048', 'setting|0.39860192', 'across|0.39534813', 'property|0.39207757', 'within|0.38876766', 'local|0.38793582', 'compassion|0.38005573', 'record|0.37618035', 'option|0.3735664', 'verbally|0.36981797', 'supervisor|0.36934868', 'cashing|0.36698782', 'full|0.36658695', 'health|0.36477548', 'word|0.36382705', 'medical|0.3617325', 'create|0.36116138', 'individual|0.357635', 'requires|0.35713857', 'oriented|0.35202286', 'solution|0.35181642', 'establish|0.34625363', 'diploma|0.34612978', 'determines|0.34553617', 'clinical|0.34251952', 'safety|0.34118408', 'concern|0.33844358', 'program|0.33563924', 'addition|0.3356049', 'resolve|0.3343714', 'protocol|0.333973', 'hour|0.33271527', 'matter|0.3320011', 'fast|0.32954016', 'driven|0.32802683', 'important|0.3233073', 'given|0.32310218', 'machine|0.3217446', 'adheres|0.32117274', 'staff|0.31698388', 'assist|0.31500208', 'prepares|0.3124618', 'school|0.30934277', 'appearance|0.3090494', 'willingness|0.30743042', 'short|0.30658332', 'using|0.30497962', 'hospital|0.30466536', 'co|0.30255234', 'willing|0.30252224', 'dynamic|0.30015567', 'unit|0.29675314', 'relate|0.2962857', 'answer|0.29452208', 'demand|0.2940985', 'day|0.2935391', 'answering|0.29140246', 'transaction|0.2871629', 'applying|0.28465655', 'code|0.2818208', 'location|0.278494', 'keep|0.27795923', 'departmental|0.27760178', 'produce|0.2743701', 'condition|0.27393112', 'sign|0.2732718', 'clinic|0.27072448', 'situation|0.2702844', 'carry|0.2696772', 'shift|0.26917475', 'diversity|0.26871523']\n"
          ],
          "name": "stdout"
        },
        {
          "output_type": "stream",
          "text": [
            "100%|██████████| 81/81 [00:01<00:00, 63.60it/s]\n",
            "2019-12-05 21:17:44,885 INFO Epoch 11, train: 1s\n",
            "2019-12-05 21:17:44,889 INFO Total loss: 0.0771, max_margin_loss: 0.0766, ortho_reg: 0.0005\n",
            "  0%|          | 0/81 [00:00<?, ?it/s]"
          ],
          "name": "stderr"
        },
        {
          "output_type": "stream",
          "text": [
            "Aspect 0:\n",
            "['plus|0.6473597', 'data|0.5742849', 'proficiency|0.5516006', 'answering|0.55008686', 'hour|0.5354881', 'benefit|0.5345565', 'specific|0.5336697', 'experienced|0.5218977', 'co|0.517033', 'client|0.49613762', 'establish|0.4945033', 'treatment|0.488716', 'diversity|0.48539275', 'desire|0.4842593', 'xx|0.48394763', 'sufficient|0.4802196', 'sensitivity|0.4800887', 'carry|0.48005444', 'minute|0.47589105', 'program|0.47272557', 'manual|0.47169745', 'seattle|0.46755105', 'suite|0.46590838', 'month|0.46484402', 'resolve|0.4629625', 'ensure|0.4626361', 'team|0.4614594', 'new|0.4602096', 'personnel|0.45905876', 'medical|0.45856655', 'utilize|0.45710698', 'list|0.45663422', 'conflict|0.45650902', 'quality|0.45546135', 'least|0.45527154', 'judgment|0.4540385', 'animal|0.45311293', 'day|0.45302707', 'make|0.4525597', 'care|0.45233017', 'run|0.45171314', 'hospital|0.4513374', 'setting|0.44897228', 'previous|0.44706202', 'making|0.4462599', 'employer|0.44507807', 'passion|0.44463146', 'terminology|0.44421345', 'addition|0.4437685', 'critical|0.4436599', 'point|0.44338706', 'respond|0.44139582', 'diverse|0.4413903', 'opportunity|0.44085297', 'outlined|0.44069237', 'wpm|0.44050506', 'spanish|0.4404061', 'location|0.43974397', 'career|0.4394246', 'local|0.43899876', 'speaking|0.43869728', 'collecting|0.43859512', 'greeting|0.43800452', 'place|0.43757778', 'solution|0.4374954', 'demand|0.43510753', 'requires|0.43488017', 'building|0.4340094', 'create|0.4336794', 'school|0.43302625', 'staff|0.430904', 'upon|0.43053022', 'form|0.42897695', 'also|0.4289577', 'deal|0.42846495', 'produce|0.42827326', 'comfortable|0.42805368', 'clear|0.4279884', 'situation|0.42795247', 'equal|0.42792413', 'interest|0.42753142', 'energetic|0.42731094', 'record|0.42724007', 'thinking|0.4270968', 'applicable|0.42696235', 'approach|0.42672595', 'pet|0.42646378', 'org|0.42628077', 'prepares|0.42582643', 'support|0.42567986', 'light|0.42493463', 'donor|0.4230916', 'departmental|0.42228925', 'willing|0.4218636', 'number|0.42168525', 'shift|0.41987225', 'unit|0.41895998', 'relate|0.41878897', 'relation|0.41757762', 'adheres|0.41638672']\n",
            "Aspect 1:\n",
            "['company|0.5941268', 'receives|0.5411221', 'credit|0.5308443', 'information|0.515768', 'www|0.5146276', 'donor|0.49804157', 'see|0.47762808', 'set|0.46302095', 'please|0.4620455', 'may|0.4556381', 'u|0.454095', 'according|0.45350882', 'support|0.4530781', 'answering|0.44775438', 'expectation|0.44560438', 'form|0.44518387', 'department|0.44433284', 'client|0.44416746', 'solid|0.44364768', 'least|0.44229537', 'career|0.44085965', 'get|0.44066438', 'professionally|0.43846846', 'ensure|0.43713844', 'apply|0.43598214', 'approach|0.43579298', 'staff|0.43255854', 'daily|0.43242705', 'make|0.42952633', 'sensitivity|0.42930394', 'range|0.4289953', 'collecting|0.4269781', 'org|0.4248119', 'run|0.4206723', 'deal|0.41854247', 'record|0.41789752', 'condition|0.41573206', 'reservation|0.41552436', 'volunteer|0.41450244', 'xxxx|0.41434294', 'care|0.41246763', 'diversity|0.41224307', 'opportunity|0.4120709', 'xx|0.41132098', 'requires|0.40970913', 'equal|0.4076004', 'outlined|0.40539345', 'perform|0.4050535', 'team|0.40338004', 'potential|0.40316257', 'co|0.40236545', 'list|0.4007364', 'manual|0.40016103', 'variety|0.39958152', 'hour|0.39671782', 'proficiency|0.39529926', 'case|0.39475605', 'departmental|0.39470226', 'xxx|0.39378938', 'senior|0.3908518', 'applying|0.38967264', 'firm|0.3894503', 'conflict|0.3886904', 'using|0.3873601', 'immediately|0.38649392', 'offer|0.38592514', 'reporting|0.38556013', 'independent|0.3855524', 'resolve|0.3849811', 'suite|0.38434473', 'light|0.3832332', 'right|0.3812173', 'individual|0.37857282', 'charge|0.3784335', 'also|0.37837842', 'communicates|0.37834048', 'value|0.37688178', 'm|0.37679154', 'procedure|0.376081', 'pet|0.37524593', 'com|0.3750241', 'keep|0.3748276', 'email|0.37446862', 'employer|0.3739584', 'month|0.37241498', 'full|0.3708814', 'human|0.36939538', 'assistance|0.36909175', 'protocol|0.36805588', 'bank|0.36658472', 'determines|0.36542773', 'monitor|0.3623914', 'school|0.36209387', 'personnel|0.36169198', 'courteous|0.36100042', 'shift|0.3608755', 'calendar|0.36044288', 'place|0.35996553', 'diverse|0.35898313', 'job|0.35755295']\n",
            "Aspect 2:\n",
            "['ability|0.81193256', 'task|0.8035286', 'badge|0.7789904', 'issuing|0.77056813', 'fast|0.6875186', 'able|0.65674233', 'oriented|0.65068734', 'email|0.65038407', 'm|0.64599264', 'safety|0.6397573', 'procedure|0.6382105', 'complying|0.61345315', 'com|0.613024', 'listen|0.6030807', 'without|0.5692346', 'transaction|0.5631438', 'demeanor|0.55735433', 'word|0.5529707', 'variety|0.5495026', 'answer|0.5460523', 'senior|0.5448693', 'job|0.5426403', 'reporting|0.54189384', 'us|0.5408324', 'point|0.537444', 'courteous|0.53036183', 'given|0.5266135', 'bank|0.51995707', 'etiquette|0.51535606', 'local|0.5052591', 'within|0.5027428', 'quality|0.49691445', 'independent|0.49434268', 'health|0.48879546', 'charge|0.4868716', 'relevant|0.47993848', 'people|0.47929487', 'using|0.47755033', 'individual|0.47616315', 'cultural|0.46625745', 'condition|0.46526015', 'dynamic|0.46442825', 'machine|0.4622276', 'full|0.4603228', 'school|0.45232776', 'skill|0.4503345', 'determines|0.44934976', 'reservation|0.44716716', 'clinical|0.44643462', 'driven|0.4460013', 'keep|0.44150403', 'potential|0.4412585', 'code|0.43915004', 'information|0.43725812', 'range|0.43455413', 'degree|0.4321232', 'making|0.4308117', 'assist|0.4301576', 'assistance|0.4283358', 'compassion|0.42711243', 'looking|0.4266047', 'matter|0.42398727', 'supervisor|0.41933262', 'diploma|0.41776505', 'appearance|0.4162621', 'www|0.41578862', 'business|0.41437852', 'important|0.41280758', 'terminology|0.41093', 'form|0.41060704', 'set|0.4069712', 'greet|0.40428138', 'starter|0.40342033', 'passion|0.39950517', 'shift|0.3962775', 'u|0.3962493', 'performance|0.39553553', 'clinic|0.3951797', 'option|0.39081383', 'opportunity|0.389938', 'rapport|0.388184', 'upon|0.38693076', 'diverse|0.386908', 'xxxx|0.3844774', 'vendor|0.38282734', 'integrity|0.3783388', 'material|0.37602767', 'least|0.37540597', 'see|0.37432986', 'willing|0.3743091', 'ethic|0.3738845', 'according|0.3723294', 'light|0.37135148', 'data|0.3692138', 'day|0.36857408', 'verbally|0.36840087', 'adheres|0.36826283', 'offer|0.3666005', 'throughout|0.3637599', 'across|0.3625904']\n",
            "Aspect 3:\n",
            "['organized|0.6087786', 'verbal|0.596048', 'clear|0.55382806', 'communication|0.54443693', 'starter|0.5405045', 'skill|0.52890646', 'efficiently|0.50031203', 'new|0.49982288', 'verbally|0.48253697', 'ethic|0.4518251', 'degree|0.44935894', 'relation|0.43818367', 'within|0.4379683', 'oriented|0.4374526', 'task|0.4356975', 'action|0.43464482', 'looking|0.4254624', 'critical|0.42329147', 'energetic|0.41843635', 'assistant|0.4155813', 'individual|0.41370374', 'associate|0.4092496', 'compassion|0.408603', 'greet|0.40578964', 'across|0.40526038', 'successfully|0.40182793', 'safety|0.40163416', 'demand|0.39777023', 'high|0.39721867', 'word|0.3951556', 'health|0.38915864', 'also|0.3889858', 'demeanor|0.387002', 'machine|0.38079956', 'important|0.37959072', 'product|0.3770609', 'answer|0.3765414', 'assist|0.3746004', 'fast|0.37001377', 'clinical|0.36806267', 'supervisor|0.36787698', 'vendor|0.36508113', 'resolve|0.36289558', 'code|0.36233503', 'regulation|0.3594008', 'using|0.35028696', 'property|0.34975755', 'determines|0.3496645', 'able|0.34904528', 'cultural|0.34865987', 'manual|0.34791118', 'requires|0.3477537', 'dynamic|0.34643918', 'full|0.34528244', 'situation|0.34511513', 'courteous|0.34458873', 'given|0.34353215', 'record|0.34350353', 'staff|0.3419651', 'medical|0.34190726', 'local|0.34075353', 'diploma|0.338332', 'matter|0.3376912', 'procedure|0.33542818', 'solution|0.3337805', 'school|0.33113414', 'prepares|0.33099', 'department|0.33077055', 'establish|0.33035797', 'willing|0.3295439', 'short|0.3258709', 'issuing|0.32528353', 'rapport|0.32468393', 'relationship|0.3243072', 'etiquette|0.3232447', 'job|0.32282168', 'cashing|0.32268095', 'receipt|0.32216883', 'gather|0.32169035', 'adheres|0.3215253', 'sign|0.32053417', 'driven|0.31904483', 'day|0.3161772', 'utilize|0.3158992', 'concern|0.31565008', 'option|0.31464756', 'variety|0.31386358', 'protocol|0.31166184', 'keep|0.310361', 'hospital|0.309587', 'unit|0.3084523', 'relevant|0.3047671', 'experienced|0.30379355', 'relate|0.30042547', 'create|0.30025628', 'program|0.29928514', 'wpm|0.29725778', 'produce|0.2958521', 'badge|0.2950204', 'common|0.2923982']\n",
            "Aspect 4:\n",
            "['credit|0.6062212', 'apply|0.600989', 'company|0.57795906', 'departmental|0.5117422', 'receives|0.51025856', 'information|0.5050194', 'www|0.4888845', 'please|0.4859879', 'coworkers|0.48448962', 'may|0.48339325', 'expectation|0.48285526', 'set|0.47897902', 'see|0.4757108', 'approach|0.47347558', 'immediately|0.46643102', 'xxxx|0.4647056', 'client|0.46240783', 'daily|0.45873663', 'according|0.45812708', 'least|0.45691788', 'career|0.45578963', 'ensure|0.4514791', 'volunteer|0.44836503', 'perform|0.448155', 'sensitivity|0.44738472', 'support|0.4453546', 'range|0.44146234', 'u|0.44090328', 'deal|0.43578345', 'department|0.43577403', 'job|0.43555313', 'variety|0.43507877', 'potential|0.43377066', 'org|0.4314555', 'professionally|0.4251992', 'care|0.42457312', 'email|0.42367828', 'com|0.42324024', 'offer|0.4172595', 'staff|0.41685927', 'judgment|0.41654554', 'reservation|0.41640913', 'make|0.41264528', 'xxx|0.41141275', 'diversity|0.4105218', 'completes|0.4101689', 'using|0.40956825', 'collecting|0.40841553', 'suite|0.4077556', 'addition|0.40685058', 'proficiency|0.40668255', 'procedure|0.40626836', 'conflict|0.40591764', 'diverse|0.4057417', 'wpm|0.4055351', 'right|0.40524313', 'form|0.40490907', 'place|0.4046162', 'calendar|0.40448332', 'value|0.40250283', 'reporting|0.40200156', 'resolve|0.4003405', 'establish|0.39892125', 'receipt|0.3987427', 'keep|0.39859563', 'applying|0.39854133', 'situation|0.39743403', 'outlined|0.39714226', 'list|0.39612797', 'opportunity|0.39491603', 'solid|0.39490104', 'firm|0.3945999', 'orally|0.39427888', 'human|0.39358792', 'individual|0.39055112', 'answering|0.3893906', 'requires|0.38752896', 'personnel|0.38693103', 'integrity|0.3856815', 'courteous|0.38544768', 'respond|0.38400212', 'independent|0.38327074', 'number|0.38268325', 'determines|0.38182425', 'record|0.38109574', 'able|0.38021582', 'condition|0.38002557', 'get|0.3799583', 'quality|0.37986618', 'bank|0.37828663', 'clinical|0.3782364', 'sufficient|0.37750396', 'light|0.37645796', 'run|0.37556955', 'm|0.3749808', 'senior|0.3737093', 'equal|0.3733437', 'card|0.37297142', 'monitor|0.37111157', 'making|0.37083966']\n",
            "Aspect 5:\n",
            "['attention|0.771751', 'communication|0.73222697', 'verbal|0.7162206', 'new|0.5859375', 'product|0.58368325', 'organized|0.56457806', 'requirement|0.5428711', 'personality|0.51759833', 'relation|0.5115477', 'skill|0.5071147', 'clear|0.49918067', 'assistant|0.48592594', 'looking|0.4857191', 'energetic|0.48566413', 'associate|0.4770255', 'starter|0.4768952', 'successfully|0.47068122', 'relationship|0.4480643', 'efficiently|0.44768775', 'degree|0.44567037', 'high|0.4435341', 'ethic|0.43960512', 'also|0.43791664', 'regulation|0.4316705', 'posse|0.42225346', 'experienced|0.4204965', 'vendor|0.4188489', 'greet|0.41548374', 'demeanor|0.4123291', 'action|0.41215706', 'warm|0.40184468', 'setting|0.3960938', 'option|0.3780259', 'plus|0.37587726', 'compassion|0.37384713', 'local|0.3728823', 'create|0.37116474', 'across|0.37111667', 'health|0.37053972', 'safety|0.36891615', 'supervisor|0.3681217', 'full|0.36809134', 'verbally|0.36596927', 'solution|0.35895598', 'word|0.3583639', 'determines|0.35799342', 'medical|0.35743064', 'hour|0.35533565', 'within|0.35469705', 'clinical|0.35384583', 'cashing|0.35369968', 'requires|0.35119903', 'establish|0.350681', 'property|0.3505585', 'diploma|0.34416842', 'machine|0.34143913', 'staff|0.34020233', 'concern|0.3388153', 'program|0.33777368', 'adheres|0.33338237', 'protocol|0.3308252', 'important|0.33063263', 'assist|0.32969466', 'fast|0.32938492', 'record|0.32911107', 'individual|0.32613295', 'resolve|0.3259728', 'addition|0.3237132', 'driven|0.322446', 'matter|0.32225823', 'oriented|0.32166684', 'prepares|0.32128006', 'unit|0.31982803', 'appearance|0.31943703', 'given|0.3179384', 'day|0.31404382', 'willingness|0.31169555', 'answering|0.30952284', 'hospital|0.30880648', 'dynamic|0.30878854', 'short|0.30789196', 'willing|0.30746758', 'school|0.30702046', 'relate|0.3054191', 'using|0.30059558', 'demand|0.2989539', 'answer|0.29585326', 'co|0.29572755', 'transaction|0.29458743', 'task|0.29455754', 'applying|0.29365498', 'department|0.29038206', 'code|0.28485554', 'shift|0.28450525', 'departmental|0.2828644', 'throughout|0.27989757', 'produce|0.2791147', 'keep|0.2778657', 'carry|0.2767061', 'clinic|0.274611']\n"
          ],
          "name": "stdout"
        },
        {
          "output_type": "stream",
          "text": [
            "100%|██████████| 81/81 [00:01<00:00, 62.65it/s]\n",
            "2019-12-05 21:17:46,329 INFO Epoch 12, train: 1s\n",
            "2019-12-05 21:17:46,333 INFO Total loss: 0.0599, max_margin_loss: 0.0598, ortho_reg: 0.0001\n",
            "  0%|          | 0/81 [00:00<?, ?it/s]"
          ],
          "name": "stderr"
        },
        {
          "output_type": "stream",
          "text": [
            "Aspect 0:\n",
            "['plus|0.64826906', 'data|0.57338655', 'answering|0.54838026', 'proficiency|0.5464543', 'hour|0.5350448', 'benefit|0.5346379', 'specific|0.53297484', 'co|0.51794803', 'experienced|0.517456', 'establish|0.49400133', 'treatment|0.49164593', 'desire|0.48891577', 'client|0.48786986', 'diversity|0.48513836', 'carry|0.48317578', 'sufficient|0.4810755', 'xx|0.47927755', 'minute|0.476631', 'program|0.47286606', 'seattle|0.4671345', 'team|0.46671852', 'new|0.46605083', 'resolve|0.46556318', 'suite|0.46474123', 'sensitivity|0.46424603', 'ensure|0.46083218', 'month|0.45969918', 'list|0.4595724', 'utilize|0.4586377', 'personnel|0.45834902', 'conflict|0.45712432', 'animal|0.45461014', 'judgment|0.45342374', 'manual|0.45246634', 'respond|0.4521711', 'medical|0.45195508', 'day|0.45192772', 'run|0.45184886', 'make|0.45172527', 'care|0.4513058', 'quality|0.4508068', 'employer|0.44941846', 'hospital|0.4494151', 'setting|0.44936153', 'least|0.4489129', 'location|0.4462069', 'passion|0.44551402', 'spanish|0.4453662', 'terminology|0.44386318', 'making|0.44366813', 'addition|0.44351596', 'previous|0.44288042', 'greeting|0.44275814', 'wpm|0.44187582', 'place|0.4385492', 'outlined|0.43820846', 'solution|0.4380507', 'opportunity|0.43795884', 'relation|0.43716145', 'diverse|0.4371575', 'collecting|0.43698412', 'career|0.4362787', 'clear|0.43612397', 'demand|0.43608487', 'speaking|0.4356796', 'building|0.43472928', 'create|0.43446326', 'energetic|0.4322089', 'school|0.43217093', 'critical|0.43203586', 'interest|0.4313637', 'successfully|0.43091512', 'produce|0.43087783', 'comfortable|0.43045497', 'equal|0.43036544', 'upon|0.4301931', 'requires|0.4299488', 'deal|0.4293577', 'also|0.42856577', 'donor|0.42841226', 'applicable|0.42823252', 'light|0.42781922', 'prepares|0.42652956', 'form|0.42648596', 'situation|0.42621744', 'point|0.42498687', 'staff|0.42432672', 'org|0.42419067', 'number|0.42394117', 'appearance|0.4233527', 'record|0.4231966', 'support|0.4228712', 'approach|0.4225776', 'departmental|0.42190528', 'unit|0.4211269', 'pet|0.42112452', 'willing|0.4197635', 'provider|0.41883618', 'adheres|0.4180026', 'relate|0.4179197']\n",
            "Aspect 1:\n",
            "['company|0.58825463', 'receives|0.539734', 'credit|0.5379501', 'www|0.5120294', 'information|0.5076945', 'donor|0.5040762', 'see|0.47586387', 'please|0.46534032', 'set|0.4595675', 'may|0.45913184', 'support|0.45786306', 'according|0.45329118', 'u|0.45103222', 'expectation|0.44738945', 'apply|0.4458434', 'client|0.44543457', 'answering|0.44513458', 'professionally|0.44442385', 'solid|0.44377854', 'career|0.4437344', 'least|0.44308898', 'sensitivity|0.44254282', 'form|0.44092125', 'get|0.43804958', 'daily|0.43366516', 'staff|0.43216592', 'make|0.43163708', 'range|0.4313095', 'deal|0.42930514', 'collecting|0.42782295', 'org|0.42579544', 'approach|0.4241628', 'run|0.42296553', 'ensure|0.42162612', 'department|0.4178658', 'volunteer|0.4169405', 'condition|0.41607267', 'xxxx|0.4155623', 'list|0.41511512', 'care|0.41483095', 'opportunity|0.41463792', 'equal|0.41432625', 'diversity|0.41402233', 'record|0.4136528', 'perform|0.41222334', 'team|0.40954894', 'requires|0.40771577', 'outlined|0.40729064', 'reservation|0.40586397', 'co|0.40530095', 'proficiency|0.40479296', 'potential|0.40358415', 'variety|0.4020795', 'xx|0.39892003', 'departmental|0.39879555', 'case|0.39844537', 'manual|0.3964172', 'xxx|0.39578202', 'firm|0.39117742', 'conflict|0.3910734', 'senior|0.3905597', 'applying|0.38930947', 'm|0.38897485', 'offer|0.3883323', 'immediately|0.38817257', 'individual|0.3873123', 'resolve|0.38722807', 'light|0.38608107', 'suite|0.38604546', 'independent|0.38537514', 'using|0.38495088', 'hour|0.38375467', 'reporting|0.38263595', 'right|0.3824715', 'employer|0.381746', 'communicates|0.3802646', 'charge|0.37985447', 'protocol|0.37946022', 'also|0.37892392', 'value|0.37795582', 'procedure|0.377204', 'pet|0.3731004', 'full|0.37149486', 'email|0.37098733', 'assistance|0.3707779', 'human|0.37070876', 'com|0.3706761', 'month|0.36846575', 'keep|0.36786312', 'bank|0.36728132', 'school|0.36696368', 'courteous|0.3662756', 'diverse|0.3662548', 'judgment|0.36586964', 'shift|0.36568925', 'monitor|0.36553895', 'determines|0.3655004', 'calendar|0.36176825', 'personnel|0.36064607', 'establish|0.36038888']\n",
            "Aspect 2:\n",
            "['ability|0.8001708', 'task|0.79306525', 'badge|0.77914953', 'issuing|0.770592', 'fast|0.6900512', 'able|0.6588768', 'email|0.6568278', 'oriented|0.651403', 'safety|0.6405773', 'procedure|0.6358204', 'm|0.620119', 'com|0.6157782', 'listen|0.60198057', 'complying|0.60181296', 'transaction|0.5798136', 'without|0.57131845', 'demeanor|0.56426334', 'point|0.56188583', 'reporting|0.554984', 'job|0.55381334', 'word|0.54948163', 'variety|0.54884905', 'senior|0.54390764', 'etiquette|0.5421623', 'us|0.5398452', 'answer|0.5337845', 'courteous|0.53224623', 'given|0.52948886', 'bank|0.5186348', 'local|0.51724696', 'quality|0.5096005', 'independent|0.4981692', 'skill|0.4914897', 'health|0.49080867', 'relevant|0.48883906', 'using|0.4879101', 'within|0.48765138', 'machine|0.48637187', 'individual|0.48413515', 'charge|0.47415107', 'cultural|0.4649248', 'dynamic|0.46364722', 'condition|0.46342608', 'full|0.45877522', 'people|0.4578243', 'keep|0.45301592', 'reservation|0.45224345', 'determines|0.44832966', 'driven|0.44554392', 'school|0.4448769', 'clinical|0.44480267', 'degree|0.44443798', 'appearance|0.44361746', 'range|0.4432611', 'compassion|0.44183064', 'code|0.44180715', 'potential|0.44012615', 'rapport|0.43880078', 'information|0.43566412', 'assist|0.43532425', 'looking|0.43513602', 'supervisor|0.43416685', 'making|0.4329515', 'important|0.426036', 'assistance|0.42570072', 'matter|0.4233775', 'www|0.42199084', 'business|0.4189033', 'greet|0.4180913', 'form|0.41258958', 'terminology|0.41139954', 'shift|0.4041773', 'starter|0.40302318', 'u|0.40276805', 'set|0.4023559', 'diverse|0.4020564', 'clinic|0.401291', 'vendor|0.396265', 'upon|0.39625755', 'opportunity|0.3959735', 'performance|0.39517432', 'option|0.39495578', 'passion|0.39380914', 'diploma|0.39173055', 'willing|0.38907552', 'least|0.38718653', 'verbally|0.3864341', 'material|0.3858065', 'xxxx|0.38451678', 'integrity|0.381876', 'ethic|0.3816426', 'previous|0.3775993', 'medical|0.3736959', 'see|0.3735097', 'according|0.37231684', 'data|0.37159732', 'adheres|0.36750045', 'offer|0.36708927', 'setting|0.36674893', 'get|0.36530933']\n",
            "Aspect 3:\n",
            "['organized|0.61573195', 'verbal|0.6121897', 'clear|0.54854107', 'starter|0.5427619', 'communication|0.5396526', 'efficiently|0.53268635', 'skill|0.5019978', 'new|0.50145376', 'verbally|0.4814293', 'ethic|0.45207086', 'task|0.44783962', 'degree|0.44713518', 'within|0.4435838', 'action|0.43790862', 'relation|0.4349553', 'critical|0.43269554', 'oriented|0.43209627', 'looking|0.4288327', 'product|0.4170637', 'assistant|0.41647387', 'energetic|0.41586596', 'greet|0.4121132', 'associate|0.41174477', 'across|0.40751392', 'safety|0.40449303', 'compassion|0.40364218', 'individual|0.40098047', 'word|0.40008068', 'demand|0.39937586', 'high|0.39594266', 'relationship|0.3934187', 'health|0.39261702', 'also|0.3918924', 'demeanor|0.38925081', 'answer|0.3865791', 'successfully|0.38310537', 'assist|0.3739982', 'important|0.37345996', 'machine|0.37267837', 'regulation|0.37162927', 'clinical|0.37058094', 'supervisor|0.37042564', 'fast|0.36730957', 'resolve|0.36656475', 'department|0.36501426', 'code|0.35943064', 'manual|0.35926896', 'vendor|0.35664877', 'local|0.35553086', 'determines|0.35221973', 'property|0.35183024', 'diploma|0.350883', 'cultural|0.3507192', 'using|0.3503719', 'requires|0.34985024', 'dynamic|0.34886372', 'situation|0.34834227', 'full|0.3474803', 'able|0.34644553', 'medical|0.34564424', 'given|0.34391478', 'courteous|0.34320825', 'matter|0.34022954', 'staff|0.33902007', 'school|0.33611488', 'solution|0.3360467', 'procedure|0.33431077', 'prepares|0.3334595', 'willing|0.3321787', 'establish|0.32929164', 'short|0.327899', 'issuing|0.3274277', 'receipt|0.32631826', 'cashing|0.32628828', 'gather|0.32517952', 'day|0.3242333', 'adheres|0.32210213', 'driven|0.32168716', 'job|0.3209836', 'concern|0.31780344', 'utilize|0.31778574', 'variety|0.31674618', 'keep|0.31654528', 'option|0.31544688', 'etiquette|0.30963954', 'protocol|0.30938852', 'people|0.3070924', 'hospital|0.30641785', 'experienced|0.30613518', 'unit|0.30612478', 'create|0.3056801', 'rapport|0.30561534', 'program|0.30492115', 'sign|0.3040746', 'information|0.30321527', 'relate|0.30112064', 'wpm|0.2976212', 'relevant|0.29719165', 'badge|0.2970323', 'set|0.29680532']\n",
            "Aspect 4:\n",
            "['credit|0.614702', 'apply|0.6121963', 'company|0.5683709', 'departmental|0.5162188', 'receives|0.508568', 'information|0.49720973', 'please|0.49200663', 'expectation|0.48948267', 'may|0.4883591', 'www|0.4855488', 'coworkers|0.48465437', 'client|0.47375602', 'set|0.47308135', 'see|0.47208083', 'immediately|0.46744502', 'sensitivity|0.46585807', 'xxxx|0.46528906', 'approach|0.4644246', 'daily|0.4616958', 'least|0.45964503', 'career|0.45756814', 'according|0.45716262', 'perform|0.45312917', 'support|0.44986108', 'volunteer|0.44912753', 'deal|0.4488734', 'range|0.44530958', 'ensure|0.44274414', 'u|0.43931523', 'variety|0.43504196', 'org|0.43357137', 'potential|0.4333971', 'job|0.43208885', 'professionally|0.43041378', 'judgment|0.4294274', 'care|0.42661077', 'email|0.4212225', 'staff|0.42036247', 'offer|0.41948485', 'com|0.41870677', 'orally|0.41617042', 'list|0.414805', 'make|0.4143015', 'collecting|0.4138866', 'department|0.4136215', 'xxx|0.4132741', 'proficiency|0.4123308', 'addition|0.4121219', 'completes|0.41160136', 'diversity|0.41136202', 'wpm|0.4102248', 'suite|0.40885946', 'reservation|0.4085586', 'using|0.4075551', 'conflict|0.40742183', 'calendar|0.40697432', 'procedure|0.40664142', 'diverse|0.40628698', 'place|0.40517992', 'right|0.40473878', 'establish|0.4039626', 'value|0.40379468', 'reporting|0.40232998', 'form|0.4017855', 'firm|0.40139922', 'solid|0.40128633', 'outlined|0.4002872', 'situation|0.39955068', 'resolve|0.3995457', 'opportunity|0.39895514', 'applying|0.39725655', 'receipt|0.3968993', 'individual|0.39534193', 'personnel|0.39509428', 'human|0.39430356', 'respond|0.3915075', 'keep|0.39149216', 'requires|0.38915902', 'courteous|0.38879216', 'quality|0.38705027', 'number|0.38703543', 'integrity|0.3870247', 'm|0.384314', 'answering|0.38404262', 'equal|0.3835239', 'independent|0.38301027', 'determines|0.38116312', 'condition|0.37943885', 'able|0.37911034', 'sufficient|0.3790269', 'clinical|0.37889272', 'bank|0.378166', 'run|0.3769238', 'card|0.37687024', 'etiquette|0.3766762', 'light|0.37573323', 'get|0.37549832', 'senior|0.372617', 'upon|0.37231272', 'shift|0.3714323']\n",
            "Aspect 5:\n",
            "['attention|0.8365458', 'communication|0.7408861', 'verbal|0.72922796', 'product|0.6058583', 'new|0.5792906', 'organized|0.5785478', 'requirement|0.5616982', 'relation|0.50280416', 'relationship|0.5019983', 'personality|0.49777195', 'efficiently|0.49542168', 'clear|0.4951874', 'looking|0.48645666', 'energetic|0.48570257', 'starter|0.4854299', 'assistant|0.48405397', 'associate|0.48205566', 'skill|0.46595827', 'regulation|0.44553235', 'also|0.44316062', 'high|0.4421252', 'ethic|0.43910027', 'degree|0.4381859', 'posse|0.42555606', 'greet|0.42155415', 'action|0.4164579', 'experienced|0.41502643', 'successfully|0.41325647', 'vendor|0.40992177', 'demeanor|0.40933114', 'warm|0.39409283', 'hour|0.3856112', 'setting|0.38108438', 'local|0.38088024', 'create|0.3783298', 'across|0.37536308', 'option|0.3737121', 'plus|0.37194645', 'full|0.37181222', 'safety|0.371006', 'verbally|0.37063694', 'supervisor|0.3702461', 'compassion|0.36883277', 'health|0.36869594', 'within|0.36357993', 'solution|0.3633688', 'word|0.36255935', 'determines|0.36195222', 'diploma|0.3612665', 'medical|0.35990033', 'clinical|0.3583605', 'property|0.35433552', 'requires|0.3509769', 'cashing|0.34915966', 'establish|0.34910837', 'concern|0.34312367', 'program|0.33954936', 'resolve|0.33446988', 'adheres|0.3334648', 'machine|0.33342737', 'staff|0.3324594', 'department|0.32867098', 'protocol|0.3271569', 'driven|0.3270076', 'answering|0.3268186', 'matter|0.32649475', 'important|0.3259929', 'fast|0.3258894', 'prepares|0.32587925', 'day|0.32324004', 'given|0.32096097', 'addition|0.3209511', 'assist|0.31874046', 'unit|0.31867158', 'oriented|0.3182948', 'school|0.31352222', 'dynamic|0.31352046', 'short|0.3120877', 'willing|0.31116995', 'appearance|0.3098545', 'hospital|0.30911916', 'willingness|0.3088382', 'relate|0.30799717', 'answer|0.30744582', 'task|0.30284056', 'demand|0.300857', 'using|0.29863968', 'co|0.29765382', 'applying|0.2972722', 'record|0.2941904', 'individual|0.29414213', 'manual|0.29383817', 'transaction|0.29257703', 'code|0.28801063', 'keep|0.28668424', 'carry|0.28622088', 'throughout|0.284365', 'shift|0.28224215', 'reservation|0.2813691', 'light|0.28078663']\n"
          ],
          "name": "stdout"
        },
        {
          "output_type": "stream",
          "text": [
            "100%|██████████| 81/81 [00:01<00:00, 62.88it/s]\n",
            "2019-12-05 21:17:47,770 INFO Epoch 13, train: 1s\n",
            "2019-12-05 21:17:47,773 INFO Total loss: 0.0479, max_margin_loss: 0.0478, ortho_reg: 0.0002\n",
            "  0%|          | 0/81 [00:00<?, ?it/s]"
          ],
          "name": "stderr"
        },
        {
          "output_type": "stream",
          "text": [
            "Aspect 0:\n",
            "['plus|0.6416216', 'data|0.5677563', 'proficiency|0.5476427', 'answering|0.54411894', 'hour|0.5335571', 'specific|0.53099155', 'benefit|0.53018117', 'experienced|0.5181762', 'co|0.515882', 'treatment|0.49059516', 'establish|0.4901654', 'desire|0.48748282', 'diversity|0.48588833', 'carry|0.48518425', 'client|0.48447287', 'sufficient|0.48088342', 'minute|0.4754923', 'respond|0.4746708', 'team|0.4740069', 'program|0.47269467', 'new|0.4699101', 'clear|0.46798146', 'sensitivity|0.46644405', 'seattle|0.46455103', 'resolve|0.46139008', 'suite|0.4610817', 'ensure|0.45925522', 'month|0.45924777', 'list|0.4590554', 'conflict|0.45853975', 'spanish|0.45696688', 'utilize|0.4566651', 'personnel|0.45649663', 'day|0.4548142', 'xx|0.454756', 'run|0.4538999', 'animal|0.45347703', 'judgment|0.4533252', 'manual|0.45239544', 'make|0.45186502', 'care|0.4514897', 'quality|0.45126772', 'least|0.45072293', 'setting|0.44936797', 'hospital|0.44879985', 'employer|0.44864297', 'location|0.44721478', 'greeting|0.44504172', 'medical|0.4449649', 'passion|0.44461673', 'wpm|0.44393903', 'terminology|0.44382834', 'making|0.44358873', 'addition|0.44181737', 'previous|0.43984658', 'diverse|0.4378082', 'outlined|0.43735307', 'solution|0.4370135', 'place|0.43700895', 'demand|0.43595487', 'collecting|0.43586966', 'career|0.43528843', 'opportunity|0.43495753', 'speaking|0.4347991', 'create|0.43338805', 'building|0.43311277', 'adheres|0.43278754', 'successfully|0.43270516', 'energetic|0.43175015', 'produce|0.431149', 'interest|0.43056118', 'relation|0.43030822', 'deal|0.43025896', 'upon|0.43005952', 'equal|0.42990226', 'situation|0.42935747', 'also|0.42863488', 'comfortable|0.42846638', 'school|0.42828336', 'requires|0.4280241', 'applicable|0.42736918', 'posse|0.42683455', 'form|0.42638758', 'prepares|0.42556012', 'point|0.42553014', 'org|0.42426738', 'appearance|0.42380476', 'approach|0.42379987', 'pet|0.42348492', 'number|0.42304367', 'staff|0.42300564', 'support|0.42288604', 'departmental|0.4222276', 'record|0.42174444', 'light|0.42040253', 'shift|0.4198673', 'critical|0.41972154', 'willing|0.41929638', 'completes|0.41809794', 'provider|0.41669804']\n",
            "Aspect 1:\n",
            "['company|0.58285856', 'credit|0.5452601', 'receives|0.537488', 'www|0.51358813', 'information|0.50132424', 'donor|0.48340514', 'apply|0.4760205', 'see|0.4753723', 'please|0.46764156', 'may|0.45986181', 'support|0.45982724', 'set|0.4594888', 'u|0.450536', 'according|0.44887027', 'expectation|0.447199', 'least|0.4438436', 'sensitivity|0.44352263', 'form|0.44339958', 'client|0.44294488', 'get|0.4411178', 'professionally|0.44057956', 'career|0.44026405', 'answering|0.43890798', 'org|0.43312445', 'deal|0.43171623', 'collecting|0.4314283', 'range|0.43118647', 'daily|0.4306639', 'make|0.43023998', 'approach|0.42905676', 'staff|0.42722464', 'run|0.42480564', 'solid|0.4243862', 'department|0.42135724', 'condition|0.41645956', 'volunteer|0.4164034', 'xxxx|0.41543287', 'record|0.41528678', 'diversity|0.41391242', 'care|0.41315812', 'perform|0.41281778', 'list|0.41129196', 'equal|0.41115028', 'ensure|0.41070312', 'opportunity|0.40953618', 'reservation|0.4064681', 'outlined|0.4062994', 'potential|0.40377688', 'variety|0.4032846', 'requires|0.40320027', 'proficiency|0.40300274', 'co|0.40173817', 'case|0.3989911', 'departmental|0.398519', 'manual|0.39587113', 'team|0.3950115', 'immediately|0.3948814', 'xxx|0.39476547', 'm|0.3944856', 'conflict|0.3942315', 'suite|0.39384508', 'applying|0.39153004', 'senior|0.39087355', 'firm|0.39052004', 'light|0.39036292', 'offer|0.3889174', 'independent|0.38387883', 'hour|0.38387048', 'resolve|0.3821817', 'right|0.38214538', 'respond|0.3817854', 'email|0.37998015', 'protocol|0.3797828', 'charge|0.37960583', 'using|0.37948757', 'employer|0.37933165', 'also|0.37901825', 'communicates|0.37874374', 'value|0.37701792', 'pet|0.37645876', 'individual|0.3747712', 'full|0.3746259', 'human|0.37456667', 'procedure|0.37379965', 'reporting|0.37075573', 'courteous|0.37042952', 'assistance|0.37032634', 'school|0.36764348', 'judgment|0.36756057', 'month|0.36745697', 'bank|0.367059', 'com|0.36702237', 'determines|0.36585525', 'establish|0.3656178', 'diverse|0.36557955', 'shift|0.36487398', 'greeting|0.36465472', 'orally|0.36412245', 'keep|0.36270475', 'completes|0.3616268']\n",
            "Aspect 2:\n",
            "['ability|0.7964638', 'badge|0.7803236', 'task|0.7770432', 'issuing|0.77215636', 'fast|0.7002959', 'able|0.6627401', 'oriented|0.65823585', 'email|0.6544578', 'procedure|0.6416857', 'complying|0.63477075', 'safety|0.6250793', 'm|0.6192189', 'com|0.617996', 'listen|0.6072094', 'without|0.60349125', 'demeanor|0.60278136', 'transaction|0.58268416', 'etiquette|0.5806755', 'reporting|0.5780456', 'point|0.5672381', 'variety|0.5601571', 'job|0.5596468', 'word|0.55328745', 'senior|0.54590714', 'courteous|0.5434618', 'us|0.5421025', 'answer|0.54157025', 'given|0.53171307', 'skill|0.5268579', 'local|0.5217167', 'bank|0.5214584', 'quality|0.51232165', 'within|0.5085565', 'using|0.5069702', 'independent|0.506786', 'health|0.4991567', 'relevant|0.49265134', 'machine|0.49170244', 'individual|0.48955882', 'charge|0.4769431', 'full|0.47464854', 'dynamic|0.47141272', 'condition|0.46805274', 'degree|0.4669649', 'assist|0.46248162', 'keep|0.4611653', 'clinical|0.46093142', 'matter|0.46090105', 'reservation|0.4565608', 'cultural|0.45593587', 'people|0.4555657', 'determines|0.45284826', 'information|0.45202953', 'school|0.44890168', 'driven|0.4486213', 'compassion|0.44795', 'appearance|0.44596016', 'code|0.445651', 'range|0.44541943', 'looking|0.44338793', 'supervisor|0.44329762', 'potential|0.44279513', 'rapport|0.44061083', 'business|0.4377483', 'making|0.4356438', 'important|0.4347235', 'assistance|0.4283282', 'form|0.42365226', 'greet|0.4225313', 'www|0.41578206', 'terminology|0.4130876', 'opportunity|0.4105074', 'u|0.41008925', 'verbally|0.40994614', 'clinic|0.40971088', 'starter|0.40705073', 'option|0.40479493', 'shift|0.40451318', 'diverse|0.4020911', 'set|0.40082642', 'vendor|0.39994806', 'willing|0.39967883', 'upon|0.39902088', 'performance|0.3965079', 'passion|0.39571732', 'diploma|0.3953768', 'previous|0.3953597', 'medical|0.39532942', 'integrity|0.3918893', 'ethic|0.39186943', 'least|0.39147666', 'xxxx|0.38783553', 'see|0.3795969', 'data|0.3795737', 'day|0.3788291', 'get|0.37783957', 'according|0.37735736', 'regulation|0.37662137', 'setting|0.37641138', 'offer|0.37396652']\n",
            "Aspect 3:\n",
            "['verbal|0.6064054', 'organized|0.60533035', 'starter|0.5402784', 'communication|0.539472', 'clear|0.53616714', 'efficiently|0.53424394', 'new|0.49357325', 'skill|0.4803894', 'verbally|0.46755433', 'task|0.45846826', 'ethic|0.4487941', 'within|0.44639388', 'critical|0.44076028', 'degree|0.43821508', 'action|0.43657386', 'oriented|0.42603442', 'looking|0.4258361', 'relation|0.42500854', 'relationship|0.41661274', 'safety|0.41384307', 'product|0.41358614', 'individual|0.41346967', 'assistant|0.41256684', 'greet|0.4111364', 'energetic|0.4102965', 'associate|0.40790343', 'across|0.4057104', 'compassion|0.40143162', 'word|0.39972234', 'demand|0.39655748', 'high|0.39160898', 'also|0.3893804', 'health|0.38807154', 'answer|0.38415793', 'regulation|0.37530822', 'successfully|0.3741758', 'supervisor|0.37122947', 'machine|0.36945996', 'important|0.36908653', 'resolve|0.36832583', 'assist|0.36831605', 'demeanor|0.36633945', 'clinical|0.36183655', 'property|0.36134028', 'fast|0.36131448', 'diploma|0.360321', 'code|0.35837197', 'manual|0.35747644', 'local|0.35540336', 'vendor|0.35487804', 'cultural|0.3543455', 'requires|0.3525896', 'department|0.351852', 'determines|0.35172793', 'using|0.34670874', 'medical|0.34543675', 'dynamic|0.34491867', 'able|0.3430374', 'given|0.34271702', 'matter|0.34110177', 'full|0.34105256', 'school|0.34017187', 'staff|0.33966097', 'procedure|0.33794814', 'courteous|0.33560365', 'solution|0.33351308', 'situation|0.33158195', 'prepares|0.331221', 'willing|0.33104557', 'issuing|0.32727182', 'cashing|0.32713014', 'short|0.32591367', 'receipt|0.3245117', 'gather|0.32145995', 'establish|0.32141545', 'driven|0.32078636', 'keep|0.3202749', 'job|0.31878906', 'adheres|0.31596518', 'utilize|0.31500888', 'people|0.3137691', 'variety|0.31053022', 'day|0.3104207', 'concern|0.30971596', 'option|0.3082839', 'information|0.3076995', 'protocol|0.30613804', 'experienced|0.30439097', 'unit|0.30419424', 'rapport|0.3040749', 'create|0.30267638', 'program|0.3010649', 'hospital|0.3000763', 'wpm|0.29915032', 'set|0.29883444', 'according|0.29722875', 'relate|0.29695654', 'badge|0.2965682', 'sign|0.29642934', 'etiquette|0.2939882']\n",
            "Aspect 4:\n",
            "['apply|0.6373183', 'credit|0.6228001', 'company|0.563233', 'departmental|0.51442695', 'receives|0.50543696', 'please|0.4944807', 'information|0.4919249', 'may|0.48856264', 'expectation|0.48831263', 'coworkers|0.4836073', 'www|0.481322', 'immediately|0.47574535', 'set|0.4712054', 'client|0.471137', 'see|0.47042322', 'approach|0.46847636', 'sensitivity|0.46544397', 'xxxx|0.46360505', 'daily|0.45941293', 'least|0.45882356', 'support|0.4523533', 'deal|0.4505903', 'career|0.4499584', 'perform|0.4499299', 'according|0.44899952', 'volunteer|0.4473107', 'org|0.44424462', 'range|0.4436974', 'u|0.43907005', 'variety|0.43608847', 'potential|0.43215537', 'ensure|0.43199742', 'job|0.43149984', 'judgment|0.4312608', 'email|0.42868733', 'care|0.42675987', 'professionally|0.4244022', 'department|0.42344308', 'orally|0.4215744', 'offer|0.41981062', 'collecting|0.41974294', 'staff|0.41753754', 'suite|0.41638425', 'addition|0.41376895', 'make|0.4135783', 'list|0.41203916', 'completes|0.41196018', 'com|0.4114893', 'xxx|0.4112457', 'establish|0.41010952', 'diversity|0.40978813', 'conflict|0.4096844', 'proficiency|0.4088065', 'respond|0.40849218', 'reservation|0.4077932', 'situation|0.40770963', 'form|0.40668723', 'wpm|0.4063401', 'calendar|0.40506214', 'right|0.40359583', 'using|0.40310034', 'value|0.40288734', 'procedure|0.40176642', 'diverse|0.40098065', 'firm|0.3994399', 'applying|0.39900386', 'place|0.39885318', 'outlined|0.39827365', 'human|0.39797258', 'resolve|0.39558956', 'integrity|0.3945976', 'opportunity|0.3944562', 'receipt|0.3943594', 'courteous|0.3925196', 'reporting|0.38978416', 'm|0.38880855', 'etiquette|0.38578823', 'quality|0.38518944', 'solid|0.38453203', 'number|0.38450783', 'requires|0.38449037', 'keep|0.38295728', 'equal|0.3821023', 'independent|0.38148156', 'run|0.38083482', 'light|0.38057435', 'clinical|0.3804201', 'able|0.38020813', 'determines|0.37990263', 'personnel|0.3785783', 'condition|0.37834635', 'get|0.37796605', 'sufficient|0.37698087', 'bank|0.37643182', 'answering|0.3763843', 'benefit|0.37580273', 'individual|0.3751672', 'card|0.37405944', 'senior|0.3713954', 'upon|0.37017307']\n",
            "Aspect 5:\n",
            "['attention|0.8407287', 'communication|0.7594159', 'verbal|0.7266606', 'product|0.6067052', 'new|0.57148254', 'organized|0.57104766', 'requirement|0.55254227', 'relationship|0.503807', 'relation|0.49823207', 'efficiently|0.49646965', 'starter|0.48888326', 'looking|0.48522833', 'energetic|0.48489538', 'assistant|0.48291308', 'associate|0.48000446', 'personality|0.47998923', 'clear|0.46231562', 'regulation|0.4529146', 'also|0.44378853', 'high|0.4428769', 'ethic|0.43736297', 'skill|0.43233946', 'greet|0.42393553', 'action|0.41869947', 'degree|0.4182098', 'experienced|0.41691', 'vendor|0.4117126', 'successfully|0.39373142', 'safety|0.38877213', 'hour|0.38848376', 'local|0.38374013', 'create|0.3800452', 'warm|0.3793636', 'across|0.37706572', 'posse|0.3736167', 'setting|0.3732105', 'diploma|0.37124518', 'supervisor|0.3711983', 'verbally|0.37093943', 'option|0.37026912', 'compassion|0.36999404', 'demeanor|0.3688667', 'health|0.36750782', 'solution|0.36477262', 'determines|0.36463976', 'full|0.3641607', 'word|0.3639384', 'property|0.3628714', 'within|0.3593177', 'medical|0.35900122', 'requires|0.3555919', 'clinical|0.3522662', 'cashing|0.3517889', 'adheres|0.34069067', 'answering|0.34030157', 'establish|0.33998102', 'resolve|0.33914995', 'concern|0.3372237', 'matter|0.33363712', 'program|0.3333827', 'machine|0.33302233', 'staff|0.3314942', 'driven|0.32967877', 'prepares|0.3273148', 'protocol|0.32699114', 'important|0.3236562', 'given|0.3233868', 'task|0.322112', 'polished|0.32078385', 'school|0.3192109', 'unit|0.3191548', 'addition|0.31893224', 'fast|0.31698543', 'short|0.31386867', 'oriented|0.31230813', 'answer|0.31198937', 'assist|0.31176597', 'dynamic|0.31156725', 'willing|0.31129915', 'appearance|0.31065273', 'willingness|0.30750465', 'relate|0.30716604', 'carry|0.30674773', 'day|0.3045231', 'hospital|0.3030399', 'individual|0.30025893', 'department|0.30009052', 'demand|0.29904246', 'co|0.2969382', 'plus|0.2965806', 'using|0.29562768', 'shift|0.29542142', 'manual|0.29514366', 'transaction|0.2949934', 'applying|0.29485232', 'record|0.2933875', 'keep|0.29117116', 'code|0.28992218', 'throughout|0.285658', 'light|0.2830484']\n"
          ],
          "name": "stdout"
        },
        {
          "output_type": "stream",
          "text": [
            "100%|██████████| 81/81 [00:01<00:00, 64.52it/s]\n",
            "2019-12-05 21:17:49,180 INFO Epoch 14, train: 1s\n",
            "2019-12-05 21:17:49,192 INFO Total loss: 0.0395, max_margin_loss: 0.0394, ortho_reg: 0.0001\n"
          ],
          "name": "stderr"
        },
        {
          "output_type": "stream",
          "text": [
            "Aspect 0:\n",
            "['plus|0.6431472', 'data|0.5641576', 'proficiency|0.5495446', 'answering|0.5462941', 'hour|0.5348194', 'specific|0.5328553', 'benefit|0.5303197', 'experienced|0.51862425', 'co|0.5173286', 'treatment|0.49276558', 'establish|0.49189752', 'clear|0.49175516', 'carry|0.4912687', 'desire|0.4890279', 'diversity|0.48751688', 'respond|0.48276216', 'sufficient|0.4823251', 'team|0.47965056', 'client|0.47880623', 'minute|0.47800517', 'new|0.47720337', 'program|0.47697788', 'seattle|0.4635194', 'spanish|0.46159992', 'suite|0.46100622', 'month|0.46066946', 'list|0.46001804', 'ensure|0.4596886', 'resolve|0.45926496', 'utilize|0.45892453', 'personnel|0.458151', 'conflict|0.4575386', 'sensitivity|0.45586085', 'day|0.45505992', 'animal|0.45456964', 'manual|0.45430428', 'judgment|0.45292953', 'run|0.45243546', 'care|0.45239374', 'least|0.45172906', 'setting|0.45167828', 'make|0.45165998', 'employer|0.45120806', 'quality|0.45082867', 'hospital|0.45081502', 'greeting|0.45001012', 'location|0.44922715', 'xx|0.4475313', 'posse|0.4462339', 'medical|0.44446862', 'terminology|0.44434273', 'making|0.44402573', 'addition|0.4435112', 'passion|0.4417216', 'wpm|0.44033307', 'diverse|0.43999183', 'collecting|0.43970257', 'solution|0.43884972', 'outlined|0.43839136', 'demand|0.43788624', 'career|0.43708462', 'place|0.437078', 'previous|0.4365433', 'relation|0.43645847', 'opportunity|0.43638176', 'energetic|0.4358726', 'adheres|0.43551284', 'create|0.43537557', 'successfully|0.43414843', 'produce|0.4339245', 'applicable|0.43344656', 'interest|0.43259573', 'requires|0.43151274', 'equal|0.43118924', 'speaking|0.43083155', 'building|0.43049693', 'comfortable|0.43046916', 'upon|0.43044484', 'situation|0.4302895', 'school|0.429585', 'also|0.42942855', 'deal|0.42923528', 'prepares|0.42741495', 'point|0.42719308', 'appearance|0.42690358', 'form|0.42577606', 'approach|0.4253633', 'number|0.42473954', 'org|0.42453766', 'departmental|0.42384505', 'support|0.4238199', 'pet|0.4229035', 'shift|0.4220143', 'light|0.42173368', 'critical|0.4215815', 'record|0.42142615', 'willing|0.42092127', 'staff|0.4194963', 'provider|0.41921002', 'code|0.4187639']\n",
            "Aspect 1:\n",
            "['company|0.574309', 'credit|0.54620767', 'receives|0.5383339', 'www|0.515622', 'information|0.50322086', 'apply|0.48686856', 'donor|0.48292667', 'see|0.47619486', 'please|0.4686518', 'may|0.45957276', 'support|0.45835608', 'set|0.45280504', 'u|0.4507829', 'expectation|0.4491242', 'client|0.44515914', 'least|0.44469887', 'form|0.4443558', 'professionally|0.4441672', 'get|0.44187695', 'sensitivity|0.4414549', 'career|0.44143847', 'according|0.4413569', 'answering|0.44008845', 'collecting|0.43457633', 'make|0.4329238', 'org|0.43219957', 'range|0.43144816', 'approach|0.4305038', 'perform|0.42881122', 'deal|0.42859584', 'daily|0.42843872', 'run|0.42402416', 'xxxx|0.42038032', 'condition|0.4174533', 'record|0.41672844', 'staff|0.41623056', 'diversity|0.41546184', 'care|0.41325676', 'volunteer|0.41262352', 'list|0.41198832', 'reservation|0.41093373', 'equal|0.41048816', 'opportunity|0.4103011', 'variety|0.40940988', 'department|0.4082824', 'xxx|0.40795904', 'outlined|0.4072777', 'm|0.4070786', 'requires|0.40558666', 'ensure|0.40533936', 'proficiency|0.40490144', 'co|0.40415975', 'potential|0.40366727', 'case|0.40349466', 'departmental|0.4000075', 'manual|0.39759722', 'senior|0.3975229', 'immediately|0.39752033', 'hour|0.3964424', 'human|0.39625442', 'suite|0.39572284', 'applying|0.39232856', 'light|0.39155528', 'conflict|0.3901078', 'offer|0.38984457', 'independent|0.38754302', 'team|0.38640073', 'respond|0.38590646', 'protocol|0.38584423', 'right|0.3852909', 'pet|0.3846935', 'firm|0.3836136', 'communicates|0.3824358', 'employer|0.38214296', 'also|0.3808254', 'using|0.3798262', 'charge|0.3789724', 'resolve|0.37890223', 'email|0.37825286', 'value|0.37705728', 'full|0.37590244', 'individual|0.375284', 'greeting|0.37328407', 'reporting|0.371646', 'establish|0.37147805', 'courteous|0.3713799', 'shift|0.37005648', 'com|0.36939096', 'school|0.36887175', 'assistance|0.36882645', 'month|0.3687268', 'bank|0.36785838', 'procedure|0.36750698', 'role|0.367243', 'previous|0.3666302', 'determines|0.36584342', 'diverse|0.3651929', 'keep|0.3646658', 'orally|0.36437336', 'judgment|0.3636045']\n",
            "Aspect 2:\n",
            "['ability|0.79146755', 'badge|0.7838826', 'issuing|0.77360463', 'task|0.7732199', 'fast|0.7057534', 'email|0.67800856', 'able|0.67045856', 'oriented|0.65904665', 'procedure|0.64777386', 'complying|0.6469919', 'listen|0.6253158', 'com|0.61569023', 'demeanor|0.61035883', 'safety|0.60827124', 'without|0.60772514', 'etiquette|0.59080523', 'm|0.5864953', 'transaction|0.58430946', 'reporting|0.5833375', 'answer|0.572633', 'point|0.5693341', 'job|0.5637857', 'senior|0.55769545', 'word|0.55508465', 'skill|0.5526159', 'variety|0.54736036', 'courteous|0.54493845', 'us|0.5433326', 'local|0.54251957', 'given|0.5335229', 'relevant|0.5229865', 'bank|0.5226522', 'quality|0.5197415', 'using|0.51704943', 'independent|0.51586497', 'within|0.5155612', 'machine|0.50979674', 'health|0.50516367', 'assist|0.50265324', 'individual|0.48953742', 'clinical|0.48920643', 'charge|0.48370486', 'matter|0.4774357', 'full|0.47710836', 'greet|0.4747024', 'dynamic|0.47297695', 'condition|0.46945962', 'degree|0.46943203', 'keep|0.46661687', 'reservation|0.46298227', 'determines|0.45942175', 'cultural|0.4577494', 'compassion|0.45486864', 'code|0.452086', 'assistance|0.45174402', 'driven|0.4517431', 'school|0.45052356', 'information|0.44951737', 'appearance|0.44881183', 'range|0.447579', 'business|0.44616157', 'looking|0.4457727', 'supervisor|0.44427902', 'potential|0.44288462', 'making|0.44277105', 'rapport|0.4419064', 'important|0.44130954', 'form|0.42986384', 'terminology|0.42036337', 'previous|0.41854346', 'verbally|0.41590548', 'upon|0.41313863', 'shift|0.41287684', 'set|0.41189843', 'u|0.4116028', 'clinic|0.41054556', 'www|0.4102079', 'opportunity|0.41015384', 'medical|0.40976918', 'passion|0.409', 'people|0.40776768', 'starter|0.4075962', 'option|0.4069738', 'tasker|0.40265256', 'vendor|0.40229487', 'willing|0.40128973', 'performance|0.39759997', 'diploma|0.3967551', 'diverse|0.39563838', 'ethic|0.39388496', 'xxxx|0.3932546', 'integrity|0.39319423', 'least|0.39270505', 'according|0.39213675', 'see|0.3908073', 'staff|0.39051995', 'data|0.39026153', 'day|0.38489297', 'material|0.3848496', 'role|0.3803619']\n",
            "Aspect 3:\n",
            "['verbal|0.61595786', 'organized|0.60387534', 'communication|0.54840696', 'starter|0.5403092', 'efficiently|0.53348136', 'clear|0.5071361', 'new|0.48367125', 'verbally|0.4627372', 'skill|0.4591775', 'task|0.45103633', 'ethic|0.44824913', 'critical|0.44235355', 'within|0.4422121', 'degree|0.43744788', 'relationship|0.43624234', 'action|0.429483', 'oriented|0.42717493', 'looking|0.42515165', 'relation|0.41910678', 'safety|0.4150951', 'individual|0.41323408', 'product|0.41133404', 'energetic|0.40924698', 'associate|0.40777183', 'assistant|0.40748107', 'across|0.40272355', 'compassion|0.40051228', 'word|0.39892244', 'demand|0.39570183', 'greet|0.3896598', 'also|0.3884241', 'health|0.38443387', 'high|0.38068098', 'answer|0.37924662', 'regulation|0.37790617', 'supervisor|0.3755923', 'department|0.3745461', 'successfully|0.37344155', 'resolve|0.37087578', 'assist|0.37016872', 'important|0.36441836', 'property|0.36237186', 'demeanor|0.36218172', 'diploma|0.35974795', 'fast|0.35743672', 'machine|0.3568642', 'clinical|0.35507467', 'manual|0.35478818', 'vendor|0.3543842', 'cultural|0.3540203', 'code|0.35386872', 'determines|0.3503333', 'requires|0.35024446', 'local|0.34609208', 'dynamic|0.34411898', 'staff|0.34194613', 'given|0.34186506', 'using|0.34184724', 'medical|0.3410572', 'full|0.3399967', 'procedure|0.3396818', 'school|0.33925068', 'courteous|0.33457333', 'matter|0.33411908', 'able|0.33337033', 'solution|0.3327238', 'prepares|0.33071175', 'willing|0.3301732', 'people|0.3277816', 'cashing|0.32679218', 'issuing|0.32650948', 'short|0.32496333', 'receipt|0.3243589', 'situation|0.32373944', 'gather|0.3196795', 'driven|0.31924736', 'keep|0.31786793', 'establish|0.31721896', 'polished|0.317001', 'adheres|0.31505018', 'completes|0.3136686', 'variety|0.31348222', 'job|0.31248018', 'concern|0.30918872', 'option|0.30793616', 'day|0.30689272', 'utilize|0.3068223', 'relate|0.30643374', 'wpm|0.3045177', 'set|0.30441663', 'create|0.3032376', 'rapport|0.3031877', 'information|0.3021217', 'relevant|0.30107817', 'experienced|0.30035496', 'program|0.2998463', 'unit|0.29810923', 'according|0.29734984', 'hospital|0.29734382', 'protocol|0.297317']\n",
            "Aspect 4:\n",
            "['apply|0.6423491', 'credit|0.6228067', 'company|0.5556971', 'departmental|0.51497215', 'receives|0.5046787', 'please|0.49633127', 'information|0.49593747', 'may|0.4889655', 'expectation|0.48862284', 'coworkers|0.48281166', 'www|0.48086232', 'immediately|0.47846168', 'client|0.4779533', 'see|0.4705936', 'perform|0.46956998', 'xxxx|0.46892536', 'sensitivity|0.46872258', 'approach|0.46840614', 'set|0.4629255', 'daily|0.4584447', 'least|0.45797712', 'career|0.44974568', 'support|0.44945136', 'deal|0.44808474', 'according|0.44360307', 'volunteer|0.4432543', 'range|0.44274876', 'org|0.44234806', 'variety|0.43949923', 'u|0.43788046', 'job|0.4328453', 'potential|0.4306023', 'judgment|0.43004483', 'professionally|0.42825836', 'completes|0.42788717', 'xxx|0.42698717', 'care|0.42688173', 'email|0.42511362', 'human|0.42446452', 'ensure|0.42383224', 'orally|0.42069358', 'collecting|0.42065355', 'offer|0.4191222', 'suite|0.41747677', 'respond|0.41640913', 'make|0.41573885', 'establish|0.41479808', 'com|0.4138782', 'addition|0.41381112', 'staff|0.4131224', 'department|0.4122138', 'list|0.41130352', 'reservation|0.41096923', 'diversity|0.4096092', 'proficiency|0.40890777', 'situation|0.40814257', 'wpm|0.4079292', 'right|0.40753862', 'form|0.40689933', 'conflict|0.40542105', 'calendar|0.4042256', 'using|0.403467', 'value|0.40105838', 'm|0.4006811', 'diverse|0.39860672', 'applying|0.39816085', 'outlined|0.3976827', 'place|0.39725694', 'procedure|0.3972444', 'firm|0.39613104', 'integrity|0.39443648', 'receipt|0.39441106', 'opportunity|0.3935765', 'courteous|0.39172426', 'reporting|0.39077914', 'resolve|0.39050037', 'independent|0.38617003', 'quality|0.38599855', 'requires|0.3852252', 'etiquette|0.38454485', 'number|0.384335', 'keep|0.38342592', 'personnel|0.38295949', 'able|0.38169658', 'equal|0.38015008', 'light|0.38006887', 'senior|0.37895268', 'run|0.37879124', 'determines|0.37876108', 'card|0.37842244', 'upon|0.37784538', 'condition|0.3776261', 'get|0.3770194', 'sufficient|0.37682635', 'benefit|0.3759133', 'bank|0.3756048', 'shift|0.3754568', 'clinical|0.37504628', 'individual|0.3739249', 'answering|0.37351465']\n",
            "Aspect 5:\n",
            "['attention|0.84073794', 'communication|0.7751255', 'verbal|0.72990197', 'product|0.6063523', 'organized|0.5701325', 'requirement|0.56365347', 'new|0.5575929', 'relationship|0.5072075', 'efficiently|0.4983059', 'relation|0.4965035', 'starter|0.4963591', 'looking|0.48483196', 'energetic|0.4825553', 'associate|0.480396', 'assistant|0.47691017', 'regulation|0.45770466', 'also|0.43920076', 'ethic|0.43759143', 'high|0.43408352', 'personality|0.42816418', 'degree|0.41781515', 'vendor|0.41173506', 'experienced|0.41164637', 'action|0.41046262', 'safety|0.39831293', 'skill|0.3982675', 'clear|0.39725488', 'greet|0.3938631', 'successfully|0.3936445', 'create|0.38257736', 'supervisor|0.37443596', 'setting|0.37310988', 'across|0.3728479', 'diploma|0.37125078', 'option|0.3706934', 'verbally|0.37010127', 'compassion|0.36911166', 'local|0.3690656', 'hour|0.36905444', 'posse|0.36594772', 'demeanor|0.36470908', 'solution|0.3646934', 'determines|0.36451375', 'property|0.3644627', 'word|0.3635255', 'full|0.3631624', 'health|0.3597218', 'polished|0.35863218', 'within|0.35444194', 'requires|0.35347515', 'medical|0.3524192', 'cashing|0.35199693', 'warm|0.3489051', 'clinical|0.34544837', 'resolve|0.34293887', 'adheres|0.34085798', 'answering|0.34063017', 'establish|0.33783352', 'concern|0.33777314', 'staff|0.33372247', 'task|0.33117586', 'prepares|0.32752866', 'driven|0.32745978', 'program|0.32740378', 'department|0.32635343', 'important|0.3238641', 'matter|0.32365376', 'given|0.32328206', 'relate|0.32206768', 'assist|0.32090485', 'machine|0.32001764', 'addition|0.3187914', 'school|0.3186457', 'short|0.31376803', 'fast|0.3131798', 'dynamic|0.31157175', 'unit|0.3115141', 'willing|0.31108207', 'appearance|0.31100798', 'protocol|0.30988917', 'oriented|0.3097794', 'willingness|0.30666125', 'carry|0.3029598', 'day|0.30218422', 'answer|0.30084187', 'individual|0.30000108', 'demand|0.299044', 'hospital|0.296201', 'plus|0.29610264', 'transaction|0.294609', 'applying|0.2944033', 'people|0.29388222', 'manual|0.29271403', 'code|0.29136145', 'set|0.29117495', 'completes|0.2910517', 'using|0.29079762', 'record|0.29007164', 'keep|0.288822', 'co|0.28853112']\n"
          ],
          "name": "stdout"
        }
      ]
    },
    {
      "cell_type": "code",
      "metadata": {
        "id": "acPAVpAOQ8N_",
        "colab_type": "code",
        "colab": {}
      },
      "source": [
        ""
      ],
      "execution_count": 0,
      "outputs": []
    }
  ]
}