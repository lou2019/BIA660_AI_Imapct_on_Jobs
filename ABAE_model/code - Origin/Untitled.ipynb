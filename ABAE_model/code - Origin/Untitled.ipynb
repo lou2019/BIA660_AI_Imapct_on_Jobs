{
 "cells": [
  {
   "cell_type": "code",
   "execution_count": 1,
   "metadata": {},
   "outputs": [
    {
     "name": "stdout",
     "output_type": "stream",
     "text": [
      "Reading data from app_reviews\n",
      " Creating vocab ...\n",
      "   865117 total words, 47734 unique words\n",
      "  keep the top 9000 words\n",
      " Reading dataset ...\n",
      "  train set\n",
      "   <num> hit rate: 0.00%, <unk> hit rate: 7.24%\n",
      "  test set\n",
      "   <num> hit rate: 100.00%, <unk> hit rate: 0.00%\n",
      "Number of training examples:  30000\n",
      "Length of vocab:  9003\n"
     ]
    },
    {
     "name": "stderr",
     "output_type": "stream",
     "text": [
      "2019-12-01 21:18:22.835857: I tensorflow/stream_executor/platform/default/dso_loader.cc:44] Successfully opened dynamic library cudart64_100.dll\n",
      "Using TensorFlow backend.\n",
      "2019-12-01 21:18:25,132 INFO Arguments:\n",
      "2019-12-01 21:18:25,132 INFO   algorithm: adam\n",
      "2019-12-01 21:18:25,132 INFO   aspect_size: 14\n",
      "2019-12-01 21:18:25,133 INFO   batch_size: 32\n",
      "2019-12-01 21:18:25,133 INFO   command: train.py\n",
      "2019-12-01 21:18:25,133 INFO   domain: app_reviews\n",
      "2019-12-01 21:18:25,133 INFO   emb_dim: 100\n",
      "2019-12-01 21:18:25,133 INFO   emb_name: w2v_64k_unigram_100d.model\n",
      "2019-12-01 21:18:25,133 INFO   epochs: 15\n",
      "2019-12-01 21:18:25,133 INFO   maxlen: 256\n",
      "2019-12-01 21:18:25,133 INFO   neg_size: 20\n",
      "2019-12-01 21:18:25,133 INFO   ortho_reg: 0.1\n",
      "2019-12-01 21:18:25,133 INFO   out_dir_path: output\n",
      "2019-12-01 21:18:25,133 INFO   seed: 1234\n",
      "2019-12-01 21:18:25,133 INFO   vocab_size: 9000\n",
      "2019-12-01 21:18:27,369 INFO   Building model\n",
      "2019-12-01 21:18:27,631 INFO 'pattern' package not found; tag filters are not available for English\n",
      "2019-12-01 21:18:27,912 INFO Loading embeddings from: ..\\preprocessed_data\\app_reviews\\w2v_64k_unigram_100d.model\n",
      "2019-12-01 21:18:27,913 INFO loading Word2VecKeyedVectors object from ..\\preprocessed_data\\app_reviews\\w2v_64k_unigram_100d.model\n",
      "Traceback (most recent call last):\n",
      "  File \"train.py\", line 107, in <module>\n",
      "    model = create_model(args, overall_maxlen, vocab)# 导入model, model中包含了my_layers的东西\n",
      "  File \"C:\\Users\\Administrator\\OneDrive - stevens.edu\\Stevens BIA\\660\\BIA 660 Project_AI_jobs\\ABAE\\Attention-Based-Aspect-Extraction-master\\code\\model.py\", line 26, in create_model\n",
      "    emb_reader = EmbReader(os.path.join(\"..\", \"preprocessed_data\", args.domain), args.emb_name)\n",
      "  File \"C:\\Users\\Administrator\\OneDrive - stevens.edu\\Stevens BIA\\660\\BIA 660 Project_AI_jobs\\ABAE\\Attention-Based-Aspect-Extraction-master\\code\\w2vEmbReader.py\", line 24, in __init__\n",
      "    model = gensim.models.KeyedVectors.load(emb_path)\n",
      "  File \"C:\\Users\\Administrator\\Anaconda3\\envs\\py36\\lib\\site-packages\\gensim\\models\\keyedvectors.py\", line 1540, in load\n",
      "    model = super(WordEmbeddingsKeyedVectors, cls).load(fname_or_handle, **kwargs)\n",
      "  File \"C:\\Users\\Administrator\\Anaconda3\\envs\\py36\\lib\\site-packages\\gensim\\models\\keyedvectors.py\", line 228, in load\n",
      "    return super(BaseKeyedVectors, cls).load(fname_or_handle, **kwargs)\n",
      "  File \"C:\\Users\\Administrator\\Anaconda3\\envs\\py36\\lib\\site-packages\\gensim\\utils.py\", line 426, in load\n",
      "    obj = unpickle(fname)\n",
      "  File \"C:\\Users\\Administrator\\Anaconda3\\envs\\py36\\lib\\site-packages\\gensim\\utils.py\", line 1381, in unpickle\n",
      "    with open(fname, 'rb') as f:\n",
      "  File \"C:\\Users\\Administrator\\Anaconda3\\envs\\py36\\lib\\site-packages\\smart_open\\smart_open_lib.py\", line 308, in open\n",
      "    errors=errors,\n",
      "  File \"C:\\Users\\Administrator\\Anaconda3\\envs\\py36\\lib\\site-packages\\smart_open\\smart_open_lib.py\", line 517, in _shortcut_open\n",
      "    return _builtin_open(parsed_uri.uri_path, mode, buffering=buffering, **open_kwargs)\n",
      "FileNotFoundError: [Errno 2] No such file or directory: '..\\\\preprocessed_data\\\\app_reviews\\\\w2v_64k_unigram_100d.model'\n"
     ]
    }
   ],
   "source": [
    "!python train.py"
   ]
  },
  {
   "cell_type": "code",
   "execution_count": 7,
   "metadata": {},
   "outputs": [
    {
     "name": "stdout",
     "output_type": "stream",
     "text": [
      "Reading data from app_reviews\n",
      " Creating vocab ...\n",
      "   865117 total words, 47734 unique words\n",
      "  keep the top 9000 words\n",
      " Reading dataset ...\n",
      "  train set\n",
      "   <num> hit rate: 0.00%, <unk> hit rate: 7.24%\n",
      "  test set\n",
      "   <num> hit rate: 100.00%, <unk> hit rate: 0.00%\n",
      "Number of training examples:  30000\n",
      "Length of vocab:  9003\n"
     ]
    },
    {
     "name": "stderr",
     "output_type": "stream",
     "text": [
      "2019-12-01 21:26:14.339649: I tensorflow/stream_executor/platform/default/dso_loader.cc:44] Successfully opened dynamic library cudart64_100.dll\n",
      "Using TensorFlow backend.\n",
      "2019-12-01 21:26:16,527 INFO Arguments:\n",
      "2019-12-01 21:26:16,527 INFO   algorithm: adam\n",
      "2019-12-01 21:26:16,527 INFO   aspect_size: 14\n",
      "2019-12-01 21:26:16,527 INFO   batch_size: 32\n",
      "2019-12-01 21:26:16,527 INFO   command: train.py\n",
      "2019-12-01 21:26:16,527 INFO   domain: app_reviews\n",
      "2019-12-01 21:26:16,527 INFO   emb_dim: 100\n",
      "2019-12-01 21:26:16,527 INFO   emb_name: w2v_64k_unigram_100d.model\n",
      "2019-12-01 21:26:16,527 INFO   epochs: 15\n",
      "2019-12-01 21:26:16,527 INFO   maxlen: 256\n",
      "2019-12-01 21:26:16,527 INFO   neg_size: 20\n",
      "2019-12-01 21:26:16,527 INFO   ortho_reg: 0.1\n",
      "2019-12-01 21:26:16,527 INFO   out_dir_path: output\n",
      "2019-12-01 21:26:16,527 INFO   seed: 1234\n",
      "2019-12-01 21:26:16,527 INFO   vocab_size: 9000\n",
      "2019-12-01 21:26:18,812 INFO   Building model\n",
      "2019-12-01 21:26:19,060 INFO 'pattern' package not found; tag filters are not available for English\n",
      "2019-12-01 21:26:19,272 INFO Loading embeddings from: ..\\preprocessed_data\\app_reviews\\w2v_64k_unigram_100d.model\n",
      "2019-12-01 21:26:19,272 INFO loading Word2VecKeyedVectors object from ..\\preprocessed_data\\app_reviews\\w2v_64k_unigram_100d.model\n",
      "Traceback (most recent call last):\n",
      "  File \"train.py\", line 107, in <module>\n",
      "    model = create_model(args, overall_maxlen, vocab)# 导入model, model中包含了my_layers的东西\n",
      "  File \"C:\\Users\\Administrator\\OneDrive - stevens.edu\\Stevens BIA\\660\\BIA 660 Project_AI_jobs\\ABAE\\Attention-Based-Aspect-Extraction-master\\code\\model.py\", line 26, in create_model\n",
      "    emb_reader = EmbReader(os.path.join(\"..\", \"preprocessed_data\", args.domain), args.emb_name)\n",
      "  File \"C:\\Users\\Administrator\\OneDrive - stevens.edu\\Stevens BIA\\660\\BIA 660 Project_AI_jobs\\ABAE\\Attention-Based-Aspect-Extraction-master\\code\\w2vEmbReader.py\", line 24, in __init__\n",
      "    model = gensim.models.KeyedVectors.load(emb_path)\n",
      "  File \"C:\\Users\\Administrator\\Anaconda3\\envs\\py36\\lib\\site-packages\\gensim\\models\\keyedvectors.py\", line 1540, in load\n",
      "    model = super(WordEmbeddingsKeyedVectors, cls).load(fname_or_handle, **kwargs)\n",
      "  File \"C:\\Users\\Administrator\\Anaconda3\\envs\\py36\\lib\\site-packages\\gensim\\models\\keyedvectors.py\", line 228, in load\n",
      "    return super(BaseKeyedVectors, cls).load(fname_or_handle, **kwargs)\n",
      "  File \"C:\\Users\\Administrator\\Anaconda3\\envs\\py36\\lib\\site-packages\\gensim\\utils.py\", line 426, in load\n",
      "    obj = unpickle(fname)\n",
      "  File \"C:\\Users\\Administrator\\Anaconda3\\envs\\py36\\lib\\site-packages\\gensim\\utils.py\", line 1381, in unpickle\n",
      "    with open(fname, 'rb') as f:\n",
      "  File \"C:\\Users\\Administrator\\Anaconda3\\envs\\py36\\lib\\site-packages\\smart_open\\smart_open_lib.py\", line 308, in open\n",
      "    errors=errors,\n",
      "  File \"C:\\Users\\Administrator\\Anaconda3\\envs\\py36\\lib\\site-packages\\smart_open\\smart_open_lib.py\", line 517, in _shortcut_open\n",
      "    return _builtin_open(parsed_uri.uri_path, mode, buffering=buffering, **open_kwargs)\n",
      "FileNotFoundError: [Errno 2] No such file or directory: '..\\\\preprocessed_data\\\\app_reviews\\\\w2v_64k_unigram_100d.model'\n"
     ]
    }
   ],
   "source": [
    "!python train.py \n",
    "# --domain restaurant \n",
    "\n",
    "\n"
   ]
  },
  {
   "cell_type": "code",
   "execution_count": 23,
   "metadata": {},
   "outputs": [
    {
     "name": "stdout",
     "output_type": "stream",
     "text": [
      "\trestaurant train set ...\n",
      "\trestaurant test set ...\n"
     ]
    }
   ],
   "source": [
    "# !python word2vec.py\n",
    "!python preprocess.py"
   ]
  },
  {
   "cell_type": "code",
   "execution_count": null,
   "metadata": {},
   "outputs": [],
   "source": []
  },
  {
   "cell_type": "code",
   "execution_count": 11,
   "metadata": {},
   "outputs": [
    {
     "name": "stdout",
     "output_type": "stream",
     "text": [
      "\trestaurant train set ...\n",
      "\trestaurant test set ...\n"
     ]
    }
   ],
   "source": []
  },
  {
   "cell_type": "code",
   "execution_count": 16,
   "metadata": {},
   "outputs": [
    {
     "name": "stdout",
     "output_type": "stream",
     "text": [
      "Reading data from restaurant\n",
      " Creating vocab ...\n",
      "   590111 total words, 16586 unique words\n",
      "  keep the top 9000 words\n",
      " Reading dataset ...\n",
      "  train set\n",
      "   <num> hit rate: 0.00%, <unk> hit rate: 1.39%\n",
      "  test set\n",
      "   <num> hit rate: 0.41%, <unk> hit rate: 29.57%\n",
      "Number of training examples:  30000\n",
      "Length of vocab:  9003\n"
     ]
    },
    {
     "name": "stderr",
     "output_type": "stream",
     "text": [
      "2019-12-01 21:37:58.908212: I tensorflow/stream_executor/platform/default/dso_loader.cc:44] Successfully opened dynamic library cudart64_100.dll\n",
      "Using TensorFlow backend.\n",
      "2019-12-01 21:38:01,012 INFO Arguments:\n",
      "2019-12-01 21:38:01,012 INFO   algorithm: adam\n",
      "2019-12-01 21:38:01,013 INFO   aspect_size: 14\n",
      "2019-12-01 21:38:01,013 INFO   batch_size: 32\n",
      "2019-12-01 21:38:01,013 INFO   command: train.py --emb-name ../preprocessed_data/restaurant/w2v_embedding --domain restaurant -o output_dir\n",
      "2019-12-01 21:38:01,013 INFO   domain: restaurant\n",
      "2019-12-01 21:38:01,013 INFO   emb_dim: 100\n",
      "2019-12-01 21:38:01,013 INFO   emb_name: ../preprocessed_data/restaurant/w2v_embedding\n",
      "2019-12-01 21:38:01,013 INFO   epochs: 15\n",
      "2019-12-01 21:38:01,013 INFO   maxlen: 256\n",
      "2019-12-01 21:38:01,013 INFO   neg_size: 20\n",
      "2019-12-01 21:38:01,013 INFO   ortho_reg: 0.1\n",
      "2019-12-01 21:38:01,013 INFO   out_dir_path: output_dir\n",
      "2019-12-01 21:38:01,013 INFO   seed: 1234\n",
      "2019-12-01 21:38:01,013 INFO   vocab_size: 9000\n",
      "2019-12-01 21:38:02,662 INFO   Building model\n",
      "2019-12-01 21:38:02,891 INFO 'pattern' package not found; tag filters are not available for English\n",
      "2019-12-01 21:38:03,089 INFO Loading embeddings from: ..\\preprocessed_data\\restaurant\\../preprocessed_data/restaurant/w2v_embedding\n",
      "2019-12-01 21:38:03,090 INFO loading Word2VecKeyedVectors object from ..\\preprocessed_data\\restaurant\\../preprocessed_data/restaurant/w2v_embedding\n",
      "Traceback (most recent call last):\n",
      "  File \"train.py\", line 107, in <module>\n",
      "    model = create_model(args, overall_maxlen, vocab)# 导入model, model中包含了my_layers的东西\n",
      "  File \"C:\\Users\\Administrator\\OneDrive - stevens.edu\\Stevens BIA\\660\\BIA 660 Project_AI_jobs\\ABAE\\Attention-Based-Aspect-Extraction-master\\code\\model.py\", line 26, in create_model\n",
      "    emb_reader = EmbReader(os.path.join(\"..\", \"preprocessed_data\", args.domain), args.emb_name)\n",
      "  File \"C:\\Users\\Administrator\\OneDrive - stevens.edu\\Stevens BIA\\660\\BIA 660 Project_AI_jobs\\ABAE\\Attention-Based-Aspect-Extraction-master\\code\\w2vEmbReader.py\", line 24, in __init__\n",
      "    model = gensim.models.KeyedVectors.load(emb_path)\n",
      "  File \"C:\\Users\\Administrator\\Anaconda3\\envs\\py36\\lib\\site-packages\\gensim\\models\\keyedvectors.py\", line 1540, in load\n",
      "    model = super(WordEmbeddingsKeyedVectors, cls).load(fname_or_handle, **kwargs)\n",
      "  File \"C:\\Users\\Administrator\\Anaconda3\\envs\\py36\\lib\\site-packages\\gensim\\models\\keyedvectors.py\", line 228, in load\n",
      "    return super(BaseKeyedVectors, cls).load(fname_or_handle, **kwargs)\n",
      "  File \"C:\\Users\\Administrator\\Anaconda3\\envs\\py36\\lib\\site-packages\\gensim\\utils.py\", line 426, in load\n",
      "    obj = unpickle(fname)\n",
      "  File \"C:\\Users\\Administrator\\Anaconda3\\envs\\py36\\lib\\site-packages\\gensim\\utils.py\", line 1381, in unpickle\n",
      "    with open(fname, 'rb') as f:\n",
      "  File \"C:\\Users\\Administrator\\Anaconda3\\envs\\py36\\lib\\site-packages\\smart_open\\smart_open_lib.py\", line 308, in open\n",
      "    errors=errors,\n",
      "  File \"C:\\Users\\Administrator\\Anaconda3\\envs\\py36\\lib\\site-packages\\smart_open\\smart_open_lib.py\", line 517, in _shortcut_open\n",
      "    return _builtin_open(parsed_uri.uri_path, mode, buffering=buffering, **open_kwargs)\n",
      "FileNotFoundError: [Errno 2] No such file or directory: '..\\\\preprocessed_data\\\\restaurant\\\\../preprocessed_data/restaurant/w2v_embedding'\n"
     ]
    }
   ],
   "source": [
    "!python train.py \\\n",
    "--emb-name ../w2v_embedding \\\n",
    "--domain restaurant \\\n",
    "-o output_dir "
   ]
  },
  {
   "cell_type": "code",
   "execution_count": null,
   "metadata": {},
   "outputs": [],
   "source": [
    "python evaluation.py \\\n",
    "--domain $domain \\\n",
    "-o output_dir "
   ]
  }
 ],
 "metadata": {
  "kernelspec": {
   "display_name": "Python 3",
   "language": "python",
   "name": "python3"
  },
  "language_info": {
   "codemirror_mode": {
    "name": "ipython",
    "version": 3
   },
   "file_extension": ".py",
   "mimetype": "text/x-python",
   "name": "python",
   "nbconvert_exporter": "python",
   "pygments_lexer": "ipython3",
   "version": "3.7.5"
  }
 },
 "nbformat": 4,
 "nbformat_minor": 2
}
